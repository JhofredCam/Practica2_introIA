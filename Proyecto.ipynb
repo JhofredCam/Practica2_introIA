{
  "cells": [
    {
      "cell_type": "markdown",
      "id": "3bf62055",
      "metadata": {
        "id": "3bf62055"
      },
      "source": [
        "# Trabajo 2 - IA\n",
        "\n",
        "Resumen aqui\n"
      ]
    },
    {
      "cell_type": "code",
      "execution_count": 148,
      "id": "UcVvVTSQLTVP",
      "metadata": {
        "colab": {
          "base_uri": "https://localhost:8080/"
        },
        "id": "UcVvVTSQLTVP",
        "outputId": "d0e27ebb-028d-4f71-edac-6635f955523e"
      },
      "outputs": [
        {
          "name": "stdout",
          "output_type": "stream",
          "text": [
            "Requirement already satisfied: imblearn in c:\\users\\d0ubt\\documents\\git\\practica2_introia\\.venv\\lib\\site-packages (0.0)\n",
            "Requirement already satisfied: imbalanced-learn in c:\\users\\d0ubt\\documents\\git\\practica2_introia\\.venv\\lib\\site-packages (from imblearn) (0.13.0)\n",
            "Requirement already satisfied: numpy<3,>=1.24.3 in c:\\users\\d0ubt\\documents\\git\\practica2_introia\\.venv\\lib\\site-packages (from imbalanced-learn->imblearn) (2.3.0)\n",
            "Requirement already satisfied: scipy<2,>=1.10.1 in c:\\users\\d0ubt\\documents\\git\\practica2_introia\\.venv\\lib\\site-packages (from imbalanced-learn->imblearn) (1.15.3)\n",
            "Requirement already satisfied: scikit-learn<2,>=1.3.2 in c:\\users\\d0ubt\\documents\\git\\practica2_introia\\.venv\\lib\\site-packages (from imbalanced-learn->imblearn) (1.6.1)\n",
            "Requirement already satisfied: sklearn-compat<1,>=0.1 in c:\\users\\d0ubt\\documents\\git\\practica2_introia\\.venv\\lib\\site-packages (from imbalanced-learn->imblearn) (0.1.3)\n",
            "Requirement already satisfied: joblib<2,>=1.1.1 in c:\\users\\d0ubt\\documents\\git\\practica2_introia\\.venv\\lib\\site-packages (from imbalanced-learn->imblearn) (1.5.1)\n",
            "Requirement already satisfied: threadpoolctl<4,>=2.0.0 in c:\\users\\d0ubt\\documents\\git\\practica2_introia\\.venv\\lib\\site-packages (from imbalanced-learn->imblearn) (3.6.0)\n"
          ]
        },
        {
          "name": "stderr",
          "output_type": "stream",
          "text": [
            "\n",
            "[notice] A new release of pip is available: 24.3.1 -> 25.1.1\n",
            "[notice] To update, run: python.exe -m pip install --upgrade pip\n"
          ]
        }
      ],
      "source": [
        "!pip install imblearn"
      ]
    },
    {
      "cell_type": "code",
      "execution_count": 149,
      "id": "s4yMINRpfsTY",
      "metadata": {
        "id": "s4yMINRpfsTY"
      },
      "outputs": [],
      "source": [
        "import kagglehub\n",
        "\n",
        "import pandas as pd\n",
        "import matplotlib.pyplot as plt\n",
        "import seaborn as sns\n",
        "import numpy as np\n",
        "\n",
        "import scipy.stats as stats\n",
        "from scipy.stats import shapiro\n",
        "\n",
        "from sklearn.preprocessing import StandardScaler, OneHotEncoder, OrdinalEncoder\n",
        "\n",
        "# supervised\n",
        "from sklearn.neighbors import KNeighborsClassifier\n",
        "from sklearn.tree import DecisionTreeClassifier\n",
        "from sklearn.svm import SVC\n",
        "\n",
        "# unsupervised\n",
        "from sklearn.cluster import KMeans\n",
        "from sklearn.cluster import DBSCAN\n",
        "\n",
        "from sklearn.model_selection import train_test_split, GridSearchCV, RandomizedSearchCV\n",
        "from sklearn.metrics import classification_report, precision_score, accuracy_score, recall_score, f1_score\n",
        "from sklearn.feature_selection import SelectKBest, f_classif\n",
        "from sklearn.pipeline import Pipeline\n",
        "from sklearn.compose import ColumnTransformer\n",
        "\n",
        "# custom transformers\n",
        "\n",
        "from sklearn.base import BaseEstimator, TransformerMixin\n",
        "\n",
        "# balanceo\n",
        "\n",
        "from imblearn.over_sampling import SMOTE\n",
        "from imblearn.pipeline import Pipeline as imbPipeline\n",
        "\n",
        "from itertools import product\n",
        "from tqdm.notebook import tqdm"
      ]
    },
    {
      "cell_type": "code",
      "execution_count": 150,
      "id": "vwAU5__mfsTZ",
      "metadata": {
        "id": "vwAU5__mfsTZ"
      },
      "outputs": [],
      "source": [
        "path = kagglehub.dataset_download(\"therohithanand/used-car-price-prediction\", path=\"used_car_price_dataset_extended.csv\")\n",
        "\n",
        "raw_df = pd.read_csv(path)\n",
        "raw_df = raw_df.reset_index(drop=True)"
      ]
    },
    {
      "cell_type": "markdown",
      "id": "rotPprGqfsTb",
      "metadata": {
        "id": "rotPprGqfsTb"
      },
      "source": [
        "### Limpiando el Dataframe"
      ]
    },
    {
      "cell_type": "code",
      "execution_count": 151,
      "id": "OYUmyOJAfsTb",
      "metadata": {
        "colab": {
          "base_uri": "https://localhost:8080/",
          "height": 226
        },
        "id": "OYUmyOJAfsTb",
        "outputId": "404dc809-918d-4a08-86d1-c61ebb3fb02d"
      },
      "outputs": [
        {
          "data": {
            "text/html": [
              "<div>\n",
              "<style scoped>\n",
              "    .dataframe tbody tr th:only-of-type {\n",
              "        vertical-align: middle;\n",
              "    }\n",
              "\n",
              "    .dataframe tbody tr th {\n",
              "        vertical-align: top;\n",
              "    }\n",
              "\n",
              "    .dataframe thead th {\n",
              "        text-align: right;\n",
              "    }\n",
              "</style>\n",
              "<table border=\"1\" class=\"dataframe\">\n",
              "  <thead>\n",
              "    <tr style=\"text-align: right;\">\n",
              "      <th></th>\n",
              "      <th>make_year</th>\n",
              "      <th>mileage_kmpl</th>\n",
              "      <th>engine_cc</th>\n",
              "      <th>fuel_type</th>\n",
              "      <th>owner_count</th>\n",
              "      <th>price_usd</th>\n",
              "      <th>accidents_reported</th>\n",
              "    </tr>\n",
              "  </thead>\n",
              "  <tbody>\n",
              "    <tr>\n",
              "      <th>0</th>\n",
              "      <td>2001</td>\n",
              "      <td>8.17</td>\n",
              "      <td>4000</td>\n",
              "      <td>Petrol</td>\n",
              "      <td>4</td>\n",
              "      <td>8587.64</td>\n",
              "      <td>0</td>\n",
              "    </tr>\n",
              "    <tr>\n",
              "      <th>1</th>\n",
              "      <td>2014</td>\n",
              "      <td>17.59</td>\n",
              "      <td>1500</td>\n",
              "      <td>Petrol</td>\n",
              "      <td>4</td>\n",
              "      <td>5943.50</td>\n",
              "      <td>0</td>\n",
              "    </tr>\n",
              "    <tr>\n",
              "      <th>2</th>\n",
              "      <td>2023</td>\n",
              "      <td>18.09</td>\n",
              "      <td>2500</td>\n",
              "      <td>Diesel</td>\n",
              "      <td>5</td>\n",
              "      <td>9273.58</td>\n",
              "      <td>1</td>\n",
              "    </tr>\n",
              "    <tr>\n",
              "      <th>3</th>\n",
              "      <td>2009</td>\n",
              "      <td>11.28</td>\n",
              "      <td>800</td>\n",
              "      <td>Petrol</td>\n",
              "      <td>1</td>\n",
              "      <td>6836.24</td>\n",
              "      <td>0</td>\n",
              "    </tr>\n",
              "    <tr>\n",
              "      <th>4</th>\n",
              "      <td>2005</td>\n",
              "      <td>12.23</td>\n",
              "      <td>1000</td>\n",
              "      <td>Petrol</td>\n",
              "      <td>2</td>\n",
              "      <td>4625.79</td>\n",
              "      <td>0</td>\n",
              "    </tr>\n",
              "  </tbody>\n",
              "</table>\n",
              "</div>"
            ],
            "text/plain": [
              "   make_year  mileage_kmpl  engine_cc fuel_type  owner_count  price_usd  \\\n",
              "0       2001          8.17       4000    Petrol            4    8587.64   \n",
              "1       2014         17.59       1500    Petrol            4    5943.50   \n",
              "2       2023         18.09       2500    Diesel            5    9273.58   \n",
              "3       2009         11.28        800    Petrol            1    6836.24   \n",
              "4       2005         12.23       1000    Petrol            2    4625.79   \n",
              "\n",
              "   accidents_reported  \n",
              "0                   0  \n",
              "1                   0  \n",
              "2                   1  \n",
              "3                   0  \n",
              "4                   0  "
            ]
          },
          "execution_count": 151,
          "metadata": {},
          "output_type": "execute_result"
        }
      ],
      "source": [
        "df = raw_df.copy()\n",
        "df = df.drop(columns=['color', 'service_history', 'brand', 'transmission', 'insurance_valid'])\n",
        "df.head()"
      ]
    },
    {
      "cell_type": "markdown",
      "id": "cQu2mbYO3umO",
      "metadata": {
        "id": "cQu2mbYO3umO"
      },
      "source": [
        "Se verifica si la variable respuesta es normal o no para elegir el método de balanceo de datos"
      ]
    },
    {
      "cell_type": "code",
      "execution_count": 152,
      "id": "wLC-VbMlxoiM",
      "metadata": {
        "colab": {
          "base_uri": "https://localhost:8080/",
          "height": 448
        },
        "id": "wLC-VbMlxoiM",
        "outputId": "f53d8959-e973-4066-c91f-253049373fdf"
      },
      "outputs": [
        {
          "data": {
            "text/plain": [
              "<Axes: >"
            ]
          },
          "execution_count": 152,
          "metadata": {},
          "output_type": "execute_result"
        },
        {
          "data": {
            "image/png": "[encoded data removed]",
            "text/plain": [
              "<Figure size 640x480 with 1 Axes>"
            ]
          },
          "metadata": {},
          "output_type": "display_data"
        }
      ],
      "source": [
        "df['price_usd'].hist(bins=100)"
      ]
    },
    {
      "cell_type": "code",
      "execution_count": 153,
      "id": "oD2GGJH61V5A",
      "metadata": {
        "colab": {
          "base_uri": "https://localhost:8080/"
        },
        "id": "oD2GGJH61V5A",
        "outputId": "31564fdd-4e60-42af-a04b-c23c86a760ee"
      },
      "outputs": [
        {
          "name": "stdout",
          "output_type": "stream",
          "text": [
            "Estadístico W: 0.9907063127964498\n",
            "Valor p: 5.045010001757812e-25\n",
            "No parece una distribución normal (se rechaza H0)\n"
          ]
        },
        {
          "name": "stderr",
          "output_type": "stream",
          "text": [
            "c:\\Users\\d0ubt\\Documents\\git\\Practica2_introIA\\.venv\\Lib\\site-packages\\scipy\\stats\\_axis_nan_policy.py:586: UserWarning: scipy.stats.shapiro: For N > 5000, computed p-value may not be accurate. Current N is 10000.\n",
            "  res = hypotest_fun_out(*samples, **kwds)\n"
          ]
        }
      ],
      "source": [
        "# Ejecutar la prueba de Shapiro-Wilk\n",
        "stat, p_value = shapiro(df['price_usd'])\n",
        "\n",
        "# Mostrar resultados\n",
        "print(f'Estadístico W: {stat}')\n",
        "print(f'Valor p: {p_value}')\n",
        "\n",
        "# Interpretación\n",
        "if p_value > 0.05:\n",
        "    print(\"Parece una distribución normal (no se rechaza H0)\")\n",
        "else:\n",
        "    print(\"No parece una distribución normal (se rechaza H0)\")"
      ]
    },
    {
      "cell_type": "code",
      "execution_count": 154,
      "id": "3ODuT-oZfsTd",
      "metadata": {
        "colab": {
          "base_uri": "https://localhost:8080/"
        },
        "id": "3ODuT-oZfsTd",
        "outputId": "d4c6dcc2-7167-4fe6-8340-f74e0b5c9c8c"
      },
      "outputs": [
        {
          "name": "stdout",
          "output_type": "stream",
          "text": [
            "['engine_cc' 'make_year' 'owner_count' 'mileage_kmpl' 'accidents_reported']\n"
          ]
        }
      ],
      "source": [
        "cols_priority = (df.corr(numeric_only=True).abs()['price_usd'].sort_values(ascending=False)).index[1:]\n",
        "print(cols_priority.values)"
      ]
    },
    {
      "cell_type": "code",
      "execution_count": 155,
      "id": "M9tCDCbT4c9O",
      "metadata": {
        "colab": {
          "base_uri": "https://localhost:8080/",
          "height": 210
        },
        "id": "M9tCDCbT4c9O",
        "outputId": "03bf1d2b-bec9-403f-9fe5-e000cb561f06"
      },
      "outputs": [
        {
          "data": {
            "text/plain": [
              "(983.351, 5161.908]      2478\n",
              "(5161.908, 9323.815]     5365\n",
              "(9323.815, 13485.722]    1960\n",
              "(13485.722, 17647.63]     197\n",
              "Name: count, dtype: int64"
            ]
          },
          "execution_count": 155,
          "metadata": {},
          "output_type": "execute_result"
        }
      ],
      "source": [
        "df['price_usd'].value_counts(bins=4).sort_index()"
      ]
    },
    {
      "cell_type": "code",
      "execution_count": 156,
      "id": "5GZXDFjK45vf",
      "metadata": {
        "colab": {
          "base_uri": "https://localhost:8080/",
          "height": 448
        },
        "id": "5GZXDFjK45vf",
        "outputId": "c073fd0c-613c-4eaf-b6d5-ecc5d58008b2"
      },
      "outputs": [
        {
          "data": {
            "text/plain": [
              "<Axes: >"
            ]
          },
          "execution_count": 156,
          "metadata": {},
          "output_type": "execute_result"
        },
        {
          "data": {
            "image/png": "[encoded data removed]",
            "text/plain": [
              "<Figure size 640x480 with 1 Axes>"
            ]
          },
          "metadata": {},
          "output_type": "display_data"
        }
      ],
      "source": [
        "df['price_usd'].hist(bins=4)"
      ]
    },
    {
      "cell_type": "code",
      "execution_count": 157,
      "id": "Rvj6UlHAfsTf",
      "metadata": {
        "colab": {
          "base_uri": "https://localhost:8080/",
          "height": 226
        },
        "id": "Rvj6UlHAfsTf",
        "outputId": "cb16ebd3-d993-40e6-cc66-94342f7b4c7b"
      },
      "outputs": [
        {
          "data": {
            "text/html": [
              "<div>\n",
              "<style scoped>\n",
              "    .dataframe tbody tr th:only-of-type {\n",
              "        vertical-align: middle;\n",
              "    }\n",
              "\n",
              "    .dataframe tbody tr th {\n",
              "        vertical-align: top;\n",
              "    }\n",
              "\n",
              "    .dataframe thead th {\n",
              "        text-align: right;\n",
              "    }\n",
              "</style>\n",
              "<table border=\"1\" class=\"dataframe\">\n",
              "  <thead>\n",
              "    <tr style=\"text-align: right;\">\n",
              "      <th></th>\n",
              "      <th>price_usd</th>\n",
              "      <th>make_year</th>\n",
              "      <th>mileage_kmpl</th>\n",
              "      <th>engine_cc</th>\n",
              "      <th>fuel_type</th>\n",
              "      <th>owner_count</th>\n",
              "      <th>accidents_reported</th>\n",
              "    </tr>\n",
              "  </thead>\n",
              "  <tbody>\n",
              "    <tr>\n",
              "      <th>0</th>\n",
              "      <td>Low</td>\n",
              "      <td>2001</td>\n",
              "      <td>8.17</td>\n",
              "      <td>4000</td>\n",
              "      <td>Petrol</td>\n",
              "      <td>4</td>\n",
              "      <td>0</td>\n",
              "    </tr>\n",
              "    <tr>\n",
              "      <th>1</th>\n",
              "      <td>Low</td>\n",
              "      <td>2014</td>\n",
              "      <td>17.59</td>\n",
              "      <td>1500</td>\n",
              "      <td>Petrol</td>\n",
              "      <td>4</td>\n",
              "      <td>0</td>\n",
              "    </tr>\n",
              "    <tr>\n",
              "      <th>2</th>\n",
              "      <td>Low</td>\n",
              "      <td>2023</td>\n",
              "      <td>18.09</td>\n",
              "      <td>2500</td>\n",
              "      <td>Diesel</td>\n",
              "      <td>5</td>\n",
              "      <td>1</td>\n",
              "    </tr>\n",
              "    <tr>\n",
              "      <th>3</th>\n",
              "      <td>Low</td>\n",
              "      <td>2009</td>\n",
              "      <td>11.28</td>\n",
              "      <td>800</td>\n",
              "      <td>Petrol</td>\n",
              "      <td>1</td>\n",
              "      <td>0</td>\n",
              "    </tr>\n",
              "    <tr>\n",
              "      <th>4</th>\n",
              "      <td>Very Low</td>\n",
              "      <td>2005</td>\n",
              "      <td>12.23</td>\n",
              "      <td>1000</td>\n",
              "      <td>Petrol</td>\n",
              "      <td>2</td>\n",
              "      <td>0</td>\n",
              "    </tr>\n",
              "  </tbody>\n",
              "</table>\n",
              "</div>"
            ],
            "text/plain": [
              "  price_usd  make_year  mileage_kmpl  engine_cc fuel_type  owner_count  \\\n",
              "0       Low       2001          8.17       4000    Petrol            4   \n",
              "1       Low       2014         17.59       1500    Petrol            4   \n",
              "2       Low       2023         18.09       2500    Diesel            5   \n",
              "3       Low       2009         11.28        800    Petrol            1   \n",
              "4  Very Low       2005         12.23       1000    Petrol            2   \n",
              "\n",
              "   accidents_reported  \n",
              "0                   0  \n",
              "1                   0  \n",
              "2                   1  \n",
              "3                   0  \n",
              "4                   0  "
            ]
          },
          "execution_count": 157,
          "metadata": {},
          "output_type": "execute_result"
        }
      ],
      "source": [
        "#Mapea los categorias\n",
        "#Convierte todo a categorias en vez de objetos\n",
        "categorical_cols = df.select_dtypes(include='object').columns\n",
        "\n",
        "df[categorical_cols] = df[categorical_cols].astype('category')\n",
        "\n",
        "# convierte la variable objetivo a categorica\n",
        "labels = ['Very Low', 'Low', 'Moderate', 'High']\n",
        "df['price_usd'] = pd.cut(df['price_usd'], bins=4, labels=labels, include_lowest=True)\n",
        "\n",
        "#Insertar variable dependiente de primero por comodidad\n",
        "price_serie = df['price_usd']\n",
        "df = df.drop(columns=['price_usd'])\n",
        "df.insert(0, 'price_usd', price_serie)\n",
        "\n",
        "df.head()\n"
      ]
    },
    {
      "cell_type": "code",
      "execution_count": 158,
      "id": "oyvLqF1J4Tes",
      "metadata": {
        "colab": {
          "base_uri": "https://localhost:8080/",
          "height": 468
        },
        "id": "oyvLqF1J4Tes",
        "outputId": "3388d12a-b3ec-469c-c9d7-ee030bcde3b3"
      },
      "outputs": [
        {
          "data": {
            "text/plain": [
              "<Axes: xlabel='price_usd', ylabel='count'>"
            ]
          },
          "execution_count": 158,
          "metadata": {},
          "output_type": "execute_result"
        },
        {
          "data": {
            "image/png": "[encoded data removed]",
            "text/plain": [
              "<Figure size 640x480 with 1 Axes>"
            ]
          },
          "metadata": {},
          "output_type": "display_data"
        }
      ],
      "source": [
        "sns.countplot(x='price_usd', data=df, order=labels)"
      ]
    },
    {
      "cell_type": "markdown",
      "id": "sO6KNKnSMJ1e",
      "metadata": {
        "id": "sO6KNKnSMJ1e"
      },
      "source": [
        "## Preprocesamiento"
      ]
    },
    {
      "cell_type": "code",
      "execution_count": null,
      "id": "mBkozbCpl86p",
      "metadata": {
        "id": "mBkozbCpl86p"
      },
      "outputs": [],
      "source": [
        "class OutliersHandler(BaseEstimator, TransformerMixin):\n",
        "    \"\"\"\n",
        "    Transformer personalizado para el manejo de outliers en conjuntos de datos numéricos.\n",
        "\n",
        "    Este transformador permite dos modos de operación:\n",
        "    - Eliminación de outliers usando el criterio del rango intercuartílico (IQR).\n",
        "    - Generación de outliers sintéticos para asegurar que representen el 5% del total del dataset.\n",
        "\n",
        "    Parámetros\n",
        "    ----------\n",
        "    make_outliers : bool, default=False\n",
        "        Si es True, se generarán outliers sintéticos en lugar de eliminarlos.\n",
        "    \"\"\"\n",
        "    def __init__(self, make_outliers = False):\n",
        "        self.column_name = \"\"\n",
        "        self.make_outliers = make_outliers\n",
        "\n",
        "    def fit(self, X, y=None):\n",
        "        return self  # The fit method typically does nothing for transformers\n",
        "\n",
        "    def transform(self, X):\n",
        "        # Your transformation logic goes here\n",
        "        X_transformed = X.copy()  # Copy the input DataFrame to avoid modifying the original\n",
        "        X_transformed = self._make_outliers(X_transformed) if self.make_outliers else self._delete_outliers(X_transformed)\n",
        "\n",
        "        return X_transformed\n",
        "\n",
        "    # Elimina las filas, donde uno de los valores numericos este fuera de los intervalos\n",
        "    def _delete_outliers(self, df: pd.DataFrame):\n",
        "        float_cols = df.select_dtypes('float64').columns\n",
        "\n",
        "        for col in float_cols:\n",
        "            Q1 = df[col].quantile(0.25)\n",
        "            Q3 = df[col].quantile(0.75)\n",
        "\n",
        "            IQR = Q3 - Q1\n",
        "\n",
        "            lower_bound = Q1 - 1.5 * IQR\n",
        "            upper_bound = Q3 + 1.5 * IQR\n",
        "            df = df[(df[col] >= lower_bound) & (df[col] <= upper_bound)]\n",
        "\n",
        "        return df\n",
        "\n",
        "    \n",
        "    def _make_outliers(self, df: pd.DataFrame, random_state: int = 42) -> pd.DataFrame:\n",
        "        \"\"\"\n",
        "        A partir del df original, detecta sus outliers y genera (replicándolos\n",
        "        y añadiendo un pequeño ruido) tantas tuplas como hagan falta para que\n",
        "        los outliers representen el 5% del total.\n",
        "\n",
        "        Parámetros:\n",
        "        - df: DataFrame de entrada.\n",
        "        - random_state: semilla para la aleatoriedad.\n",
        "\n",
        "        Retorna:\n",
        "        - DataFrame con 5% outliers o sin outliers.\n",
        "        \"\"\"\n",
        "        df_aux = df.copy()\n",
        "        float_cols = df_aux.select_dtypes(include='float64').columns\n",
        "\n",
        "        outlier_mask = pd.Series(False, index=df_aux.index)\n",
        "        for col in float_cols:\n",
        "            Q1 = df_aux[col].quantile(0.25)\n",
        "            Q3 = df_aux[col].quantile(0.75)\n",
        "            IQR = Q3 - Q1\n",
        "            lower = Q1 - 1.5 * IQR\n",
        "            upper = Q3 + 1.5 * IQR\n",
        "            outlier_mask |= (df_aux[col] < lower) | (df_aux[col] > upper)\n",
        "\n",
        "        outliers = df_aux[outlier_mask]\n",
        "        non_outliers = df_aux[~outlier_mask]\n",
        "\n",
        "        total_orig = len(df_aux)\n",
        "        n_outliers = len(outliers)\n",
        "        target_outliers = int(0.05 * len(df_aux))\n",
        "        \n",
        "        # Only generate more if needed\n",
        "        if n_outliers < target_outliers:\n",
        "            needed = target_outliers - n_outliers\n",
        "            synth = outliers.sample(n=needed, replace=True, random_state=random_state)\n",
        "            \n",
        "            # Add noise to synthetic outliers\n",
        "            for col in float_cols:\n",
        "                noise = np.random.normal(0, 0.1, needed)\n",
        "                synth[col] = synth[col] * (1 + noise)\n",
        "            \n",
        "            # Append synthetic outliers\n",
        "            df_aux = pd.concat([df_aux, synth], ignore_index=True)\n",
        "        \n",
        "        return df_aux\n"
      ]
    },
    {
      "cell_type": "code",
      "execution_count": 160,
      "id": "w-4V9SB8rXvH",
      "metadata": {
        "id": "w-4V9SB8rXvH"
      },
      "outputs": [],
      "source": [
        "def outliers_maker(data, make_outliers = False):\n",
        "    outliers = OutliersHandler(make_outliers=make_outliers)\n",
        "    return outliers.fit_transform(data)\n",
        "\n",
        "def scaler(X_train, X_test, columns):\n",
        "    # fit_transform en X_train y transform en X_test\n",
        "    X_train_scaled = X_train.copy()\n",
        "    X_test_scaled = X_test.copy()\n",
        "    std_scaler = StandardScaler()\n",
        "\n",
        "    X_train_scaled[columns] = std_scaler.fit_transform(X_train[columns])\n",
        "    X_test_scaled[columns] = std_scaler.transform(X_test[columns])\n",
        "\n",
        "    return X_train_scaled, X_test_scaled\n",
        "\n",
        "def X_encoder(X_train : pd.DataFrame, X_test : pd.DataFrame, columns : str):\n",
        "    # para X_train y X_test (despues de escalar)\n",
        "    X_train_encoded = X_train.copy()\n",
        "    X_test_encoded = X_test.copy()\n",
        "    oh_enc = OneHotEncoder(sparse_output=False)\n",
        "\n",
        "    # aplicar one_hot\n",
        "    X_train_cat = oh_enc.fit_transform(X_train[columns])\n",
        "    X_test_cat = oh_enc.transform(X_test[columns])\n",
        "\n",
        "    # Get feature names for the encoded columns\n",
        "    encoded_cat_features = oh_enc.get_feature_names_out(columns)\n",
        "\n",
        "    # Create DataFrames from encoded arrays\n",
        "    X_train_cat_df = pd.DataFrame(X_train_cat, index=X_train.index, columns=encoded_cat_features)\n",
        "    X_test_cat_df = pd.DataFrame(X_test_cat, index=X_test.index, columns=encoded_cat_features)\n",
        "\n",
        "    # juntar columnas con one_hot con el resto del dataframe\n",
        "    X_train_encoded = X_train_encoded.drop(columns = columns)\n",
        "    X_test_encoded = X_test_encoded.drop(columns = columns)\n",
        "    X_train_encoded = X_train_encoded.join(X_train_cat_df)\n",
        "    X_test_encoded = X_test_encoded.join(X_test_cat_df)\n",
        "\n",
        "    return X_train_encoded, X_test_encoded\n",
        "\n",
        "def y_encoder(y):\n",
        "    ord_enc = OrdinalEncoder(categories=[['Very Low', 'Low', 'Moderate', 'High']])\n",
        "\n",
        "    y_encoded = pd.DataFrame(y)\n",
        "\n",
        "    # aplicar ordinal_enc\n",
        "    y_encoded = ord_enc.fit_transform(y_encoded)\n",
        "\n",
        "    # print({i: cat for i, cat in enumerate(list(ord_enc.categories_[0]))})\n",
        "\n",
        "    return y_encoded\n",
        "\n",
        "def balancer(X_train, y_train):\n",
        "    smote = SMOTE(random_state=42)\n",
        "    return smote.fit_resample(X_train, y_train)\n"
      ]
    },
    {
      "cell_type": "code",
      "execution_count": 161,
      "id": "ndagJrSBoaEg",
      "metadata": {
        "id": "ndagJrSBoaEg"
      },
      "outputs": [],
      "source": [
        "def pipeline_maker(dataframe : pd.DataFrame, model : str, y_label : str = 'price_usd', make_outliers = False, balance = False, scale = False):\n",
        "    data = dataframe.copy()\n",
        "\n",
        "    # hacer outliers\n",
        "    if make_outliers == True:\n",
        "        data = outliers_maker(data, make_outliers=True)\n",
        "    else:\n",
        "        data = outliers_maker(data, make_outliers=False)\n",
        "\n",
        "    # Encode target variable\n",
        "    y = y_encoder(data[y_label])\n",
        "    X = data.drop(columns=[y_label])\n",
        "\n",
        "    # lista donde se almacenarán los steps a usar\n",
        "    steps = []\n",
        "\n",
        "    cat_features = X.select_dtypes(include='category').columns\n",
        "    num_features = X.select_dtypes(include='number').columns\n",
        "\n",
        "    # escalado de datos\n",
        "    if scale:\n",
        "        col_transformer = ColumnTransformer([\n",
        "            ('std_scaler', StandardScaler(), num_features),\n",
        "            ('one_hot', OneHotEncoder(), cat_features)\n",
        "        ])\n",
        "    else: # en caso de no escalar\n",
        "        col_transformer = ColumnTransformer([\n",
        "            ('one_hot', OneHotEncoder(), cat_features)\n",
        "        ])\n",
        "    steps.append(('preprocessor', col_transformer))\n",
        "\n",
        "    # balanceo con smote\n",
        "    if balance:\n",
        "        steps.append(\n",
        "            ('smote', SMOTE(random_state=42))\n",
        "            )\n",
        "\n",
        "    # seleccion de modelo\n",
        "    if model == 'svm':\n",
        "        steps.append(\n",
        "            ('SVC', SVC(random_state=42))\n",
        "        )\n",
        "    elif model == 'knn':\n",
        "        steps.append(\n",
        "            ('knn', KNeighborsClassifier())\n",
        "        )\n",
        "    elif model == 'tree':\n",
        "        steps.append(\n",
        "            ('decision_tree', DecisionTreeClassifier(random_state=42))\n",
        "        )\n",
        "    elif model == 'nn':\n",
        "        raise NotImplementedError(\"modelo no implementado\")\n",
        "        steps.append(\n",
        "            ('neural_network', None)\n",
        "        )\n",
        "    elif model == 'kmeans':\n",
        "        steps.append(\n",
        "            ('kmeans', KMeans())\n",
        "        )\n",
        "    elif model == 'dbscan':\n",
        "        steps.append(\n",
        "            ('dbscan', DBSCAN())\n",
        "        )\n",
        "    else:\n",
        "        raise ValueError(\"Ingrese uno de los siguientes: 'svm', 'knn', 'tree', 'nn', 'kmeans', 'dbscan'\")\n",
        "\n",
        "\n",
        "    pipeline = imbPipeline(steps)\n",
        "\n",
        "    return X, y, pipeline"
      ]
    },
    {
      "cell_type": "markdown",
      "id": "TnefCPKcXL4F",
      "metadata": {
        "id": "TnefCPKcXL4F"
      },
      "source": [
        "## 2. Aprendizaje Supervisado"
      ]
    },
    {
      "cell_type": "markdown",
      "id": "LjuDiW0pNYZj",
      "metadata": {
        "id": "LjuDiW0pNYZj"
      },
      "source": [
        "### 2.2. Entrenamiento con Árboles, KNN, SVM, y Redes Neuronales."
      ]
    },
    {
      "cell_type": "markdown",
      "id": "FwpIZp87XT4D",
      "metadata": {
        "id": "FwpIZp87XT4D"
      },
      "source": [
        "#### 2.2.1 KNN"
      ]
    },
    {
      "cell_type": "code",
      "execution_count": 162,
      "id": "TKoaCtNyNhTr",
      "metadata": {
        "colab": {
          "base_uri": "https://localhost:8080/"
        },
        "id": "TKoaCtNyNhTr",
        "outputId": "a6734469-d989-4bb8-a26a-df319a6c72b7"
      },
      "outputs": [
        {
          "name": "stdout",
          "output_type": "stream",
          "text": [
            "Fitting 5 folds for each of 10 candidates, totalling 50 fits\n",
            "Mejores parámetros encontrados: {'knn__n_neighbors': 11}\n",
            "Mejor score CV: 0.701\n",
            "Fitting 5 folds for each of 10 candidates, totalling 50 fits\n"
          ]
        },
        {
          "name": "stderr",
          "output_type": "stream",
          "text": [
            "c:\\Users\\d0ubt\\Documents\\git\\Practica2_introIA\\.venv\\Lib\\site-packages\\sklearn\\metrics\\_classification.py:1565: UndefinedMetricWarning: Precision is ill-defined and being set to 0.0 in labels with no predicted samples. Use `zero_division` parameter to control this behavior.\n",
            "  _warn_prf(average, modifier, f\"{metric.capitalize()} is\", len(result))\n",
            "c:\\Users\\d0ubt\\Documents\\git\\Practica2_introIA\\.venv\\Lib\\site-packages\\sklearn\\metrics\\_classification.py:1565: UndefinedMetricWarning: Precision is ill-defined and being set to 0.0 in labels with no predicted samples. Use `zero_division` parameter to control this behavior.\n",
            "  _warn_prf(average, modifier, f\"{metric.capitalize()} is\", len(result))\n",
            "c:\\Users\\d0ubt\\Documents\\git\\Practica2_introIA\\.venv\\Lib\\site-packages\\sklearn\\metrics\\_classification.py:1565: UndefinedMetricWarning: Precision is ill-defined and being set to 0.0 in labels with no predicted samples. Use `zero_division` parameter to control this behavior.\n",
            "  _warn_prf(average, modifier, f\"{metric.capitalize()} is\", len(result))\n",
            "c:\\Users\\d0ubt\\Documents\\git\\Practica2_introIA\\.venv\\Lib\\site-packages\\sklearn\\metrics\\_classification.py:1565: UndefinedMetricWarning: Precision is ill-defined and being set to 0.0 in labels with no predicted samples. Use `zero_division` parameter to control this behavior.\n",
            "  _warn_prf(average, modifier, f\"{metric.capitalize()} is\", len(result))\n",
            "c:\\Users\\d0ubt\\Documents\\git\\Practica2_introIA\\.venv\\Lib\\site-packages\\sklearn\\metrics\\_classification.py:1565: UndefinedMetricWarning: Precision is ill-defined and being set to 0.0 in labels with no predicted samples. Use `zero_division` parameter to control this behavior.\n",
            "  _warn_prf(average, modifier, f\"{metric.capitalize()} is\", len(result))\n",
            "c:\\Users\\d0ubt\\Documents\\git\\Practica2_introIA\\.venv\\Lib\\site-packages\\sklearn\\metrics\\_classification.py:1565: UndefinedMetricWarning: Precision is ill-defined and being set to 0.0 in labels with no predicted samples. Use `zero_division` parameter to control this behavior.\n",
            "  _warn_prf(average, modifier, f\"{metric.capitalize()} is\", len(result))\n",
            "c:\\Users\\d0ubt\\Documents\\git\\Practica2_introIA\\.venv\\Lib\\site-packages\\sklearn\\metrics\\_classification.py:1565: UndefinedMetricWarning: Precision is ill-defined and being set to 0.0 in labels with no predicted samples. Use `zero_division` parameter to control this behavior.\n",
            "  _warn_prf(average, modifier, f\"{metric.capitalize()} is\", len(result))\n",
            "c:\\Users\\d0ubt\\Documents\\git\\Practica2_introIA\\.venv\\Lib\\site-packages\\sklearn\\metrics\\_classification.py:1565: UndefinedMetricWarning: Precision is ill-defined and being set to 0.0 in labels with no predicted samples. Use `zero_division` parameter to control this behavior.\n",
            "  _warn_prf(average, modifier, f\"{metric.capitalize()} is\", len(result))\n",
            "c:\\Users\\d0ubt\\Documents\\git\\Practica2_introIA\\.venv\\Lib\\site-packages\\sklearn\\metrics\\_classification.py:1565: UndefinedMetricWarning: Precision is ill-defined and being set to 0.0 in labels with no predicted samples. Use `zero_division` parameter to control this behavior.\n",
            "  _warn_prf(average, modifier, f\"{metric.capitalize()} is\", len(result))\n",
            "c:\\Users\\d0ubt\\Documents\\git\\Practica2_introIA\\.venv\\Lib\\site-packages\\sklearn\\metrics\\_classification.py:1565: UndefinedMetricWarning: Precision is ill-defined and being set to 0.0 in labels with no predicted samples. Use `zero_division` parameter to control this behavior.\n",
            "  _warn_prf(average, modifier, f\"{metric.capitalize()} is\", len(result))\n",
            "c:\\Users\\d0ubt\\Documents\\git\\Practica2_introIA\\.venv\\Lib\\site-packages\\sklearn\\metrics\\_classification.py:1565: UndefinedMetricWarning: Precision is ill-defined and being set to 0.0 in labels with no predicted samples. Use `zero_division` parameter to control this behavior.\n",
            "  _warn_prf(average, modifier, f\"{metric.capitalize()} is\", len(result))\n",
            "c:\\Users\\d0ubt\\Documents\\git\\Practica2_introIA\\.venv\\Lib\\site-packages\\sklearn\\metrics\\_classification.py:1565: UndefinedMetricWarning: Precision is ill-defined and being set to 0.0 in labels with no predicted samples. Use `zero_division` parameter to control this behavior.\n",
            "  _warn_prf(average, modifier, f\"{metric.capitalize()} is\", len(result))\n",
            "c:\\Users\\d0ubt\\Documents\\git\\Practica2_introIA\\.venv\\Lib\\site-packages\\sklearn\\metrics\\_classification.py:1565: UndefinedMetricWarning: Precision is ill-defined and being set to 0.0 in labels with no predicted samples. Use `zero_division` parameter to control this behavior.\n",
            "  _warn_prf(average, modifier, f\"{metric.capitalize()} is\", len(result))\n",
            "c:\\Users\\d0ubt\\Documents\\git\\Practica2_introIA\\.venv\\Lib\\site-packages\\sklearn\\metrics\\_classification.py:1565: UndefinedMetricWarning: Precision is ill-defined and being set to 0.0 in labels with no predicted samples. Use `zero_division` parameter to control this behavior.\n",
            "  _warn_prf(average, modifier, f\"{metric.capitalize()} is\", len(result))\n",
            "c:\\Users\\d0ubt\\Documents\\git\\Practica2_introIA\\.venv\\Lib\\site-packages\\sklearn\\metrics\\_classification.py:1565: UndefinedMetricWarning: Precision is ill-defined and being set to 0.0 in labels with no predicted samples. Use `zero_division` parameter to control this behavior.\n",
            "  _warn_prf(average, modifier, f\"{metric.capitalize()} is\", len(result))\n",
            "c:\\Users\\d0ubt\\Documents\\git\\Practica2_introIA\\.venv\\Lib\\site-packages\\sklearn\\metrics\\_classification.py:1565: UndefinedMetricWarning: Precision is ill-defined and being set to 0.0 in labels with no predicted samples. Use `zero_division` parameter to control this behavior.\n",
            "  _warn_prf(average, modifier, f\"{metric.capitalize()} is\", len(result))\n",
            "c:\\Users\\d0ubt\\Documents\\git\\Practica2_introIA\\.venv\\Lib\\site-packages\\sklearn\\metrics\\_classification.py:1565: UndefinedMetricWarning: Precision is ill-defined and being set to 0.0 in labels with no predicted samples. Use `zero_division` parameter to control this behavior.\n",
            "  _warn_prf(average, modifier, f\"{metric.capitalize()} is\", len(result))\n",
            "c:\\Users\\d0ubt\\Documents\\git\\Practica2_introIA\\.venv\\Lib\\site-packages\\sklearn\\metrics\\_classification.py:1565: UndefinedMetricWarning: Precision is ill-defined and being set to 0.0 in labels with no predicted samples. Use `zero_division` parameter to control this behavior.\n",
            "  _warn_prf(average, modifier, f\"{metric.capitalize()} is\", len(result))\n",
            "c:\\Users\\d0ubt\\Documents\\git\\Practica2_introIA\\.venv\\Lib\\site-packages\\sklearn\\metrics\\_classification.py:1565: UndefinedMetricWarning: Precision is ill-defined and being set to 0.0 in labels with no predicted samples. Use `zero_division` parameter to control this behavior.\n",
            "  _warn_prf(average, modifier, f\"{metric.capitalize()} is\", len(result))\n",
            "c:\\Users\\d0ubt\\Documents\\git\\Practica2_introIA\\.venv\\Lib\\site-packages\\sklearn\\metrics\\_classification.py:1565: UndefinedMetricWarning: Precision is ill-defined and being set to 0.0 in labels with no predicted samples. Use `zero_division` parameter to control this behavior.\n",
            "  _warn_prf(average, modifier, f\"{metric.capitalize()} is\", len(result))\n",
            "c:\\Users\\d0ubt\\Documents\\git\\Practica2_introIA\\.venv\\Lib\\site-packages\\sklearn\\metrics\\_classification.py:1565: UndefinedMetricWarning: Precision is ill-defined and being set to 0.0 in labels with no predicted samples. Use `zero_division` parameter to control this behavior.\n",
            "  _warn_prf(average, modifier, f\"{metric.capitalize()} is\", len(result))\n",
            "c:\\Users\\d0ubt\\Documents\\git\\Practica2_introIA\\.venv\\Lib\\site-packages\\sklearn\\metrics\\_classification.py:1565: UndefinedMetricWarning: Precision is ill-defined and being set to 0.0 in labels with no predicted samples. Use `zero_division` parameter to control this behavior.\n",
            "  _warn_prf(average, modifier, f\"{metric.capitalize()} is\", len(result))\n",
            "c:\\Users\\d0ubt\\Documents\\git\\Practica2_introIA\\.venv\\Lib\\site-packages\\sklearn\\metrics\\_classification.py:1565: UndefinedMetricWarning: Precision is ill-defined and being set to 0.0 in labels with no predicted samples. Use `zero_division` parameter to control this behavior.\n",
            "  _warn_prf(average, modifier, f\"{metric.capitalize()} is\", len(result))\n",
            "c:\\Users\\d0ubt\\Documents\\git\\Practica2_introIA\\.venv\\Lib\\site-packages\\sklearn\\metrics\\_classification.py:1565: UndefinedMetricWarning: Precision is ill-defined and being set to 0.0 in labels with no predicted samples. Use `zero_division` parameter to control this behavior.\n",
            "  _warn_prf(average, modifier, f\"{metric.capitalize()} is\", len(result))\n",
            "c:\\Users\\d0ubt\\Documents\\git\\Practica2_introIA\\.venv\\Lib\\site-packages\\sklearn\\metrics\\_classification.py:1565: UndefinedMetricWarning: Precision is ill-defined and being set to 0.0 in labels with no predicted samples. Use `zero_division` parameter to control this behavior.\n",
            "  _warn_prf(average, modifier, f\"{metric.capitalize()} is\", len(result))\n",
            "c:\\Users\\d0ubt\\Documents\\git\\Practica2_introIA\\.venv\\Lib\\site-packages\\sklearn\\metrics\\_classification.py:1565: UndefinedMetricWarning: Precision is ill-defined and being set to 0.0 in labels with no predicted samples. Use `zero_division` parameter to control this behavior.\n",
            "  _warn_prf(average, modifier, f\"{metric.capitalize()} is\", len(result))\n",
            "c:\\Users\\d0ubt\\Documents\\git\\Practica2_introIA\\.venv\\Lib\\site-packages\\sklearn\\metrics\\_classification.py:1565: UndefinedMetricWarning: Precision is ill-defined and being set to 0.0 in labels with no predicted samples. Use `zero_division` parameter to control this behavior.\n",
            "  _warn_prf(average, modifier, f\"{metric.capitalize()} is\", len(result))\n",
            "c:\\Users\\d0ubt\\Documents\\git\\Practica2_introIA\\.venv\\Lib\\site-packages\\sklearn\\metrics\\_classification.py:1565: UndefinedMetricWarning: Precision is ill-defined and being set to 0.0 in labels with no predicted samples. Use `zero_division` parameter to control this behavior.\n",
            "  _warn_prf(average, modifier, f\"{metric.capitalize()} is\", len(result))\n",
            "c:\\Users\\d0ubt\\Documents\\git\\Practica2_introIA\\.venv\\Lib\\site-packages\\sklearn\\metrics\\_classification.py:1565: UndefinedMetricWarning: Precision is ill-defined and being set to 0.0 in labels with no predicted samples. Use `zero_division` parameter to control this behavior.\n",
            "  _warn_prf(average, modifier, f\"{metric.capitalize()} is\", len(result))\n",
            "c:\\Users\\d0ubt\\Documents\\git\\Practica2_introIA\\.venv\\Lib\\site-packages\\sklearn\\metrics\\_classification.py:1565: UndefinedMetricWarning: Precision is ill-defined and being set to 0.0 in labels with no predicted samples. Use `zero_division` parameter to control this behavior.\n",
            "  _warn_prf(average, modifier, f\"{metric.capitalize()} is\", len(result))\n",
            "c:\\Users\\d0ubt\\Documents\\git\\Practica2_introIA\\.venv\\Lib\\site-packages\\sklearn\\metrics\\_classification.py:1565: UndefinedMetricWarning: Precision is ill-defined and being set to 0.0 in labels with no predicted samples. Use `zero_division` parameter to control this behavior.\n",
            "  _warn_prf(average, modifier, f\"{metric.capitalize()} is\", len(result))\n",
            "c:\\Users\\d0ubt\\Documents\\git\\Practica2_introIA\\.venv\\Lib\\site-packages\\sklearn\\metrics\\_classification.py:1565: UndefinedMetricWarning: Precision is ill-defined and being set to 0.0 in labels with no predicted samples. Use `zero_division` parameter to control this behavior.\n",
            "  _warn_prf(average, modifier, f\"{metric.capitalize()} is\", len(result))\n",
            "c:\\Users\\d0ubt\\Documents\\git\\Practica2_introIA\\.venv\\Lib\\site-packages\\sklearn\\metrics\\_classification.py:1565: UndefinedMetricWarning: Precision is ill-defined and being set to 0.0 in labels with no predicted samples. Use `zero_division` parameter to control this behavior.\n",
            "  _warn_prf(average, modifier, f\"{metric.capitalize()} is\", len(result))\n",
            "c:\\Users\\d0ubt\\Documents\\git\\Practica2_introIA\\.venv\\Lib\\site-packages\\sklearn\\metrics\\_classification.py:1565: UndefinedMetricWarning: Precision is ill-defined and being set to 0.0 in labels with no predicted samples. Use `zero_division` parameter to control this behavior.\n",
            "  _warn_prf(average, modifier, f\"{metric.capitalize()} is\", len(result))\n",
            "c:\\Users\\d0ubt\\Documents\\git\\Practica2_introIA\\.venv\\Lib\\site-packages\\sklearn\\metrics\\_classification.py:1565: UndefinedMetricWarning: Precision is ill-defined and being set to 0.0 in labels with no predicted samples. Use `zero_division` parameter to control this behavior.\n",
            "  _warn_prf(average, modifier, f\"{metric.capitalize()} is\", len(result))\n",
            "c:\\Users\\d0ubt\\Documents\\git\\Practica2_introIA\\.venv\\Lib\\site-packages\\sklearn\\metrics\\_classification.py:1565: UndefinedMetricWarning: Precision is ill-defined and being set to 0.0 in labels with no predicted samples. Use `zero_division` parameter to control this behavior.\n",
            "  _warn_prf(average, modifier, f\"{metric.capitalize()} is\", len(result))\n",
            "c:\\Users\\d0ubt\\Documents\\git\\Practica2_introIA\\.venv\\Lib\\site-packages\\sklearn\\metrics\\_classification.py:1565: UndefinedMetricWarning: Precision is ill-defined and being set to 0.0 in labels with no predicted samples. Use `zero_division` parameter to control this behavior.\n",
            "  _warn_prf(average, modifier, f\"{metric.capitalize()} is\", len(result))\n",
            "c:\\Users\\d0ubt\\Documents\\git\\Practica2_introIA\\.venv\\Lib\\site-packages\\sklearn\\metrics\\_classification.py:1565: UndefinedMetricWarning: Precision is ill-defined and being set to 0.0 in labels with no predicted samples. Use `zero_division` parameter to control this behavior.\n",
            "  _warn_prf(average, modifier, f\"{metric.capitalize()} is\", len(result))\n",
            "c:\\Users\\d0ubt\\Documents\\git\\Practica2_introIA\\.venv\\Lib\\site-packages\\sklearn\\metrics\\_classification.py:1565: UndefinedMetricWarning: Precision is ill-defined and being set to 0.0 in labels with no predicted samples. Use `zero_division` parameter to control this behavior.\n",
            "  _warn_prf(average, modifier, f\"{metric.capitalize()} is\", len(result))\n",
            "c:\\Users\\d0ubt\\Documents\\git\\Practica2_introIA\\.venv\\Lib\\site-packages\\sklearn\\metrics\\_classification.py:1565: UndefinedMetricWarning: Precision is ill-defined and being set to 0.0 in labels with no predicted samples. Use `zero_division` parameter to control this behavior.\n",
            "  _warn_prf(average, modifier, f\"{metric.capitalize()} is\", len(result))\n",
            "c:\\Users\\d0ubt\\Documents\\git\\Practica2_introIA\\.venv\\Lib\\site-packages\\sklearn\\metrics\\_classification.py:1565: UndefinedMetricWarning: Precision is ill-defined and being set to 0.0 in labels with no predicted samples. Use `zero_division` parameter to control this behavior.\n",
            "  _warn_prf(average, modifier, f\"{metric.capitalize()} is\", len(result))\n",
            "c:\\Users\\d0ubt\\Documents\\git\\Practica2_introIA\\.venv\\Lib\\site-packages\\sklearn\\metrics\\_classification.py:1565: UndefinedMetricWarning: Precision is ill-defined and being set to 0.0 in labels with no predicted samples. Use `zero_division` parameter to control this behavior.\n",
            "  _warn_prf(average, modifier, f\"{metric.capitalize()} is\", len(result))\n",
            "c:\\Users\\d0ubt\\Documents\\git\\Practica2_introIA\\.venv\\Lib\\site-packages\\sklearn\\metrics\\_classification.py:1565: UndefinedMetricWarning: Precision is ill-defined and being set to 0.0 in labels with no predicted samples. Use `zero_division` parameter to control this behavior.\n",
            "  _warn_prf(average, modifier, f\"{metric.capitalize()} is\", len(result))\n",
            "c:\\Users\\d0ubt\\Documents\\git\\Practica2_introIA\\.venv\\Lib\\site-packages\\sklearn\\metrics\\_classification.py:1565: UndefinedMetricWarning: Precision is ill-defined and being set to 0.0 in labels with no predicted samples. Use `zero_division` parameter to control this behavior.\n",
            "  _warn_prf(average, modifier, f\"{metric.capitalize()} is\", len(result))\n",
            "c:\\Users\\d0ubt\\Documents\\git\\Practica2_introIA\\.venv\\Lib\\site-packages\\sklearn\\metrics\\_classification.py:1565: UndefinedMetricWarning: Precision is ill-defined and being set to 0.0 in labels with no predicted samples. Use `zero_division` parameter to control this behavior.\n",
            "  _warn_prf(average, modifier, f\"{metric.capitalize()} is\", len(result))\n",
            "c:\\Users\\d0ubt\\Documents\\git\\Practica2_introIA\\.venv\\Lib\\site-packages\\sklearn\\metrics\\_classification.py:1565: UndefinedMetricWarning: Precision is ill-defined and being set to 0.0 in labels with no predicted samples. Use `zero_division` parameter to control this behavior.\n",
            "  _warn_prf(average, modifier, f\"{metric.capitalize()} is\", len(result))\n",
            "c:\\Users\\d0ubt\\Documents\\git\\Practica2_introIA\\.venv\\Lib\\site-packages\\sklearn\\metrics\\_classification.py:1565: UndefinedMetricWarning: Precision is ill-defined and being set to 0.0 in labels with no predicted samples. Use `zero_division` parameter to control this behavior.\n",
            "  _warn_prf(average, modifier, f\"{metric.capitalize()} is\", len(result))\n",
            "c:\\Users\\d0ubt\\Documents\\git\\Practica2_introIA\\.venv\\Lib\\site-packages\\sklearn\\metrics\\_classification.py:1565: UndefinedMetricWarning: Precision is ill-defined and being set to 0.0 in labels with no predicted samples. Use `zero_division` parameter to control this behavior.\n",
            "  _warn_prf(average, modifier, f\"{metric.capitalize()} is\", len(result))\n",
            "c:\\Users\\d0ubt\\Documents\\git\\Practica2_introIA\\.venv\\Lib\\site-packages\\sklearn\\metrics\\_classification.py:1565: UndefinedMetricWarning: Precision is ill-defined and being set to 0.0 in labels with no predicted samples. Use `zero_division` parameter to control this behavior.\n",
            "  _warn_prf(average, modifier, f\"{metric.capitalize()} is\", len(result))\n",
            "c:\\Users\\d0ubt\\Documents\\git\\Practica2_introIA\\.venv\\Lib\\site-packages\\sklearn\\metrics\\_classification.py:1565: UndefinedMetricWarning: Precision is ill-defined and being set to 0.0 in labels with no predicted samples. Use `zero_division` parameter to control this behavior.\n",
            "  _warn_prf(average, modifier, f\"{metric.capitalize()} is\", len(result))\n"
          ]
        },
        {
          "name": "stdout",
          "output_type": "stream",
          "text": [
            "Mejores parámetros encontrados: {'knn__n_neighbors': 2}\n",
            "Mejor score CV: 0.264\n",
            "Fitting 5 folds for each of 10 candidates, totalling 50 fits\n"
          ]
        },
        {
          "name": "stderr",
          "output_type": "stream",
          "text": [
            "Exception ignored in: <function tqdm.__del__ at 0x000001ABB6535940>\n",
            "Traceback (most recent call last):\n",
            "  File \"c:\\Users\\d0ubt\\Documents\\git\\Practica2_introIA\\.venv\\Lib\\site-packages\\tqdm\\std.py\", line 1148, in __del__\n",
            "    self.close()\n",
            "  File \"c:\\Users\\d0ubt\\Documents\\git\\Practica2_introIA\\.venv\\Lib\\site-packages\\tqdm\\notebook.py\", line 282, in close\n",
            "    self.disp(bar_style='success', check_delay=False)\n",
            "AttributeError: 'tqdm_notebook' object has no attribute 'disp'\n",
            "Exception ignored in: <function tqdm.__del__ at 0x000001ABB6535940>\n",
            "Traceback (most recent call last):\n",
            "  File \"c:\\Users\\d0ubt\\Documents\\git\\Practica2_introIA\\.venv\\Lib\\site-packages\\tqdm\\std.py\", line 1148, in __del__\n",
            "    self.close()\n",
            "  File \"c:\\Users\\d0ubt\\Documents\\git\\Practica2_introIA\\.venv\\Lib\\site-packages\\tqdm\\notebook.py\", line 282, in close\n",
            "    self.disp(bar_style='success', check_delay=False)\n",
            "AttributeError: 'tqdm_notebook' object has no attribute 'disp'\n",
            "Exception ignored in: <function tqdm.__del__ at 0x000001ABB6535940>\n",
            "Traceback (most recent call last):\n",
            "  File \"c:\\Users\\d0ubt\\Documents\\git\\Practica2_introIA\\.venv\\Lib\\site-packages\\tqdm\\std.py\", line 1148, in __del__\n",
            "    self.close()\n",
            "  File \"c:\\Users\\d0ubt\\Documents\\git\\Practica2_introIA\\.venv\\Lib\\site-packages\\tqdm\\notebook.py\", line 282, in close\n",
            "    self.disp(bar_style='success', check_delay=False)\n",
            "AttributeError: 'tqdm_notebook' object has no attribute 'disp'\n",
            "Exception ignored in: <function tqdm.__del__ at 0x000001ABB6535940>\n",
            "Traceback (most recent call last):\n",
            "  File \"c:\\Users\\d0ubt\\Documents\\git\\Practica2_introIA\\.venv\\Lib\\site-packages\\tqdm\\std.py\", line 1148, in __del__\n",
            "    self.close()\n",
            "  File \"c:\\Users\\d0ubt\\Documents\\git\\Practica2_introIA\\.venv\\Lib\\site-packages\\tqdm\\notebook.py\", line 282, in close\n",
            "    self.disp(bar_style='success', check_delay=False)\n",
            "AttributeError: 'tqdm_notebook' object has no attribute 'disp'\n"
          ]
        },
        {
          "ename": "KeyboardInterrupt",
          "evalue": "",
          "output_type": "error",
          "traceback": [
            "\u001b[31m---------------------------------------------------------------------------\u001b[39m",
            "\u001b[31mKeyboardInterrupt\u001b[39m                         Traceback (most recent call last)",
            "\u001b[36mCell\u001b[39m\u001b[36m \u001b[39m\u001b[32mIn[162]\u001b[39m\u001b[32m, line 38\u001b[39m\n\u001b[32m     26\u001b[39m grid = RandomizedSearchCV(\n\u001b[32m     27\u001b[39m     pipeline,\n\u001b[32m     28\u001b[39m     param_distributions=param_dist,\n\u001b[32m   (...)\u001b[39m\u001b[32m     34\u001b[39m     random_state=\u001b[32m42\u001b[39m\n\u001b[32m     35\u001b[39m )\n\u001b[32m     37\u001b[39m \u001b[38;5;66;03m# Entrenamos el modelo con los datos de entrenamiento\u001b[39;00m\n\u001b[32m---> \u001b[39m\u001b[32m38\u001b[39m \u001b[43mgrid\u001b[49m\u001b[43m.\u001b[49m\u001b[43mfit\u001b[49m\u001b[43m(\u001b[49m\u001b[43mX_train\u001b[49m\u001b[43m,\u001b[49m\u001b[43m \u001b[49m\u001b[43my_train\u001b[49m\u001b[43m.\u001b[49m\u001b[43mravel\u001b[49m\u001b[43m(\u001b[49m\u001b[43m)\u001b[49m\u001b[43m)\u001b[49m\n\u001b[32m     40\u001b[39m \u001b[38;5;66;03m# Mostramos los mejores parámetros y el mejor score obtenido en validación cruzada\u001b[39;00m\n\u001b[32m     41\u001b[39m \u001b[38;5;28mprint\u001b[39m(\u001b[33m\"\u001b[39m\u001b[33mMejores parámetros encontrados:\u001b[39m\u001b[33m\"\u001b[39m, grid.best_params_)\n",
            "\u001b[36mFile \u001b[39m\u001b[32mc:\\Users\\d0ubt\\Documents\\git\\Practica2_introIA\\.venv\\Lib\\site-packages\\sklearn\\base.py:1389\u001b[39m, in \u001b[36m_fit_context.<locals>.decorator.<locals>.wrapper\u001b[39m\u001b[34m(estimator, *args, **kwargs)\u001b[39m\n\u001b[32m   1382\u001b[39m     estimator._validate_params()\n\u001b[32m   1384\u001b[39m \u001b[38;5;28;01mwith\u001b[39;00m config_context(\n\u001b[32m   1385\u001b[39m     skip_parameter_validation=(\n\u001b[32m   1386\u001b[39m         prefer_skip_nested_validation \u001b[38;5;129;01mor\u001b[39;00m global_skip_validation\n\u001b[32m   1387\u001b[39m     )\n\u001b[32m   1388\u001b[39m ):\n\u001b[32m-> \u001b[39m\u001b[32m1389\u001b[39m     \u001b[38;5;28;01mreturn\u001b[39;00m \u001b[43mfit_method\u001b[49m\u001b[43m(\u001b[49m\u001b[43mestimator\u001b[49m\u001b[43m,\u001b[49m\u001b[43m \u001b[49m\u001b[43m*\u001b[49m\u001b[43margs\u001b[49m\u001b[43m,\u001b[49m\u001b[43m \u001b[49m\u001b[43m*\u001b[49m\u001b[43m*\u001b[49m\u001b[43mkwargs\u001b[49m\u001b[43m)\u001b[49m\n",
            "\u001b[36mFile \u001b[39m\u001b[32mc:\\Users\\d0ubt\\Documents\\git\\Practica2_introIA\\.venv\\Lib\\site-packages\\sklearn\\model_selection\\_search.py:1024\u001b[39m, in \u001b[36mBaseSearchCV.fit\u001b[39m\u001b[34m(self, X, y, **params)\u001b[39m\n\u001b[32m   1018\u001b[39m     results = \u001b[38;5;28mself\u001b[39m._format_results(\n\u001b[32m   1019\u001b[39m         all_candidate_params, n_splits, all_out, all_more_results\n\u001b[32m   1020\u001b[39m     )\n\u001b[32m   1022\u001b[39m     \u001b[38;5;28;01mreturn\u001b[39;00m results\n\u001b[32m-> \u001b[39m\u001b[32m1024\u001b[39m \u001b[38;5;28;43mself\u001b[39;49m\u001b[43m.\u001b[49m\u001b[43m_run_search\u001b[49m\u001b[43m(\u001b[49m\u001b[43mevaluate_candidates\u001b[49m\u001b[43m)\u001b[49m\n\u001b[32m   1026\u001b[39m \u001b[38;5;66;03m# multimetric is determined here because in the case of a callable\u001b[39;00m\n\u001b[32m   1027\u001b[39m \u001b[38;5;66;03m# self.scoring the return type is only known after calling\u001b[39;00m\n\u001b[32m   1028\u001b[39m first_test_score = all_out[\u001b[32m0\u001b[39m][\u001b[33m\"\u001b[39m\u001b[33mtest_scores\u001b[39m\u001b[33m\"\u001b[39m]\n",
            "\u001b[36mFile \u001b[39m\u001b[32mc:\\Users\\d0ubt\\Documents\\git\\Practica2_introIA\\.venv\\Lib\\site-packages\\sklearn\\model_selection\\_search.py:1951\u001b[39m, in \u001b[36mRandomizedSearchCV._run_search\u001b[39m\u001b[34m(self, evaluate_candidates)\u001b[39m\n\u001b[32m   1949\u001b[39m \u001b[38;5;28;01mdef\u001b[39;00m\u001b[38;5;250m \u001b[39m\u001b[34m_run_search\u001b[39m(\u001b[38;5;28mself\u001b[39m, evaluate_candidates):\n\u001b[32m   1950\u001b[39m \u001b[38;5;250m    \u001b[39m\u001b[33;03m\"\"\"Search n_iter candidates from param_distributions\"\"\"\u001b[39;00m\n\u001b[32m-> \u001b[39m\u001b[32m1951\u001b[39m     \u001b[43mevaluate_candidates\u001b[49m\u001b[43m(\u001b[49m\n\u001b[32m   1952\u001b[39m \u001b[43m        \u001b[49m\u001b[43mParameterSampler\u001b[49m\u001b[43m(\u001b[49m\n\u001b[32m   1953\u001b[39m \u001b[43m            \u001b[49m\u001b[38;5;28;43mself\u001b[39;49m\u001b[43m.\u001b[49m\u001b[43mparam_distributions\u001b[49m\u001b[43m,\u001b[49m\u001b[43m \u001b[49m\u001b[38;5;28;43mself\u001b[39;49m\u001b[43m.\u001b[49m\u001b[43mn_iter\u001b[49m\u001b[43m,\u001b[49m\u001b[43m \u001b[49m\u001b[43mrandom_state\u001b[49m\u001b[43m=\u001b[49m\u001b[38;5;28;43mself\u001b[39;49m\u001b[43m.\u001b[49m\u001b[43mrandom_state\u001b[49m\n\u001b[32m   1954\u001b[39m \u001b[43m        \u001b[49m\u001b[43m)\u001b[49m\n\u001b[32m   1955\u001b[39m \u001b[43m    \u001b[49m\u001b[43m)\u001b[49m\n",
            "\u001b[36mFile \u001b[39m\u001b[32mc:\\Users\\d0ubt\\Documents\\git\\Practica2_introIA\\.venv\\Lib\\site-packages\\sklearn\\model_selection\\_search.py:970\u001b[39m, in \u001b[36mBaseSearchCV.fit.<locals>.evaluate_candidates\u001b[39m\u001b[34m(candidate_params, cv, more_results)\u001b[39m\n\u001b[32m    962\u001b[39m \u001b[38;5;28;01mif\u001b[39;00m \u001b[38;5;28mself\u001b[39m.verbose > \u001b[32m0\u001b[39m:\n\u001b[32m    963\u001b[39m     \u001b[38;5;28mprint\u001b[39m(\n\u001b[32m    964\u001b[39m         \u001b[33m\"\u001b[39m\u001b[33mFitting \u001b[39m\u001b[38;5;132;01m{0}\u001b[39;00m\u001b[33m folds for each of \u001b[39m\u001b[38;5;132;01m{1}\u001b[39;00m\u001b[33m candidates,\u001b[39m\u001b[33m\"\u001b[39m\n\u001b[32m    965\u001b[39m         \u001b[33m\"\u001b[39m\u001b[33m totalling \u001b[39m\u001b[38;5;132;01m{2}\u001b[39;00m\u001b[33m fits\u001b[39m\u001b[33m\"\u001b[39m.format(\n\u001b[32m    966\u001b[39m             n_splits, n_candidates, n_candidates * n_splits\n\u001b[32m    967\u001b[39m         )\n\u001b[32m    968\u001b[39m     )\n\u001b[32m--> \u001b[39m\u001b[32m970\u001b[39m out = \u001b[43mparallel\u001b[49m\u001b[43m(\u001b[49m\n\u001b[32m    971\u001b[39m \u001b[43m    \u001b[49m\u001b[43mdelayed\u001b[49m\u001b[43m(\u001b[49m\u001b[43m_fit_and_score\u001b[49m\u001b[43m)\u001b[49m\u001b[43m(\u001b[49m\n\u001b[32m    972\u001b[39m \u001b[43m        \u001b[49m\u001b[43mclone\u001b[49m\u001b[43m(\u001b[49m\u001b[43mbase_estimator\u001b[49m\u001b[43m)\u001b[49m\u001b[43m,\u001b[49m\n\u001b[32m    973\u001b[39m \u001b[43m        \u001b[49m\u001b[43mX\u001b[49m\u001b[43m,\u001b[49m\n\u001b[32m    974\u001b[39m \u001b[43m        \u001b[49m\u001b[43my\u001b[49m\u001b[43m,\u001b[49m\n\u001b[32m    975\u001b[39m \u001b[43m        \u001b[49m\u001b[43mtrain\u001b[49m\u001b[43m=\u001b[49m\u001b[43mtrain\u001b[49m\u001b[43m,\u001b[49m\n\u001b[32m    976\u001b[39m \u001b[43m        \u001b[49m\u001b[43mtest\u001b[49m\u001b[43m=\u001b[49m\u001b[43mtest\u001b[49m\u001b[43m,\u001b[49m\n\u001b[32m    977\u001b[39m \u001b[43m        \u001b[49m\u001b[43mparameters\u001b[49m\u001b[43m=\u001b[49m\u001b[43mparameters\u001b[49m\u001b[43m,\u001b[49m\n\u001b[32m    978\u001b[39m \u001b[43m        \u001b[49m\u001b[43msplit_progress\u001b[49m\u001b[43m=\u001b[49m\u001b[43m(\u001b[49m\u001b[43msplit_idx\u001b[49m\u001b[43m,\u001b[49m\u001b[43m \u001b[49m\u001b[43mn_splits\u001b[49m\u001b[43m)\u001b[49m\u001b[43m,\u001b[49m\n\u001b[32m    979\u001b[39m \u001b[43m        \u001b[49m\u001b[43mcandidate_progress\u001b[49m\u001b[43m=\u001b[49m\u001b[43m(\u001b[49m\u001b[43mcand_idx\u001b[49m\u001b[43m,\u001b[49m\u001b[43m \u001b[49m\u001b[43mn_candidates\u001b[49m\u001b[43m)\u001b[49m\u001b[43m,\u001b[49m\n\u001b[32m    980\u001b[39m \u001b[43m        \u001b[49m\u001b[43m*\u001b[49m\u001b[43m*\u001b[49m\u001b[43mfit_and_score_kwargs\u001b[49m\u001b[43m,\u001b[49m\n\u001b[32m    981\u001b[39m \u001b[43m    \u001b[49m\u001b[43m)\u001b[49m\n\u001b[32m    982\u001b[39m \u001b[43m    \u001b[49m\u001b[38;5;28;43;01mfor\u001b[39;49;00m\u001b[43m \u001b[49m\u001b[43m(\u001b[49m\u001b[43mcand_idx\u001b[49m\u001b[43m,\u001b[49m\u001b[43m \u001b[49m\u001b[43mparameters\u001b[49m\u001b[43m)\u001b[49m\u001b[43m,\u001b[49m\u001b[43m \u001b[49m\u001b[43m(\u001b[49m\u001b[43msplit_idx\u001b[49m\u001b[43m,\u001b[49m\u001b[43m \u001b[49m\u001b[43m(\u001b[49m\u001b[43mtrain\u001b[49m\u001b[43m,\u001b[49m\u001b[43m \u001b[49m\u001b[43mtest\u001b[49m\u001b[43m)\u001b[49m\u001b[43m)\u001b[49m\u001b[43m \u001b[49m\u001b[38;5;129;43;01min\u001b[39;49;00m\u001b[43m \u001b[49m\u001b[43mproduct\u001b[49m\u001b[43m(\u001b[49m\n\u001b[32m    983\u001b[39m \u001b[43m        \u001b[49m\u001b[38;5;28;43menumerate\u001b[39;49m\u001b[43m(\u001b[49m\u001b[43mcandidate_params\u001b[49m\u001b[43m)\u001b[49m\u001b[43m,\u001b[49m\n\u001b[32m    984\u001b[39m \u001b[43m        \u001b[49m\u001b[38;5;28;43menumerate\u001b[39;49m\u001b[43m(\u001b[49m\u001b[43mcv\u001b[49m\u001b[43m.\u001b[49m\u001b[43msplit\u001b[49m\u001b[43m(\u001b[49m\u001b[43mX\u001b[49m\u001b[43m,\u001b[49m\u001b[43m \u001b[49m\u001b[43my\u001b[49m\u001b[43m,\u001b[49m\u001b[43m \u001b[49m\u001b[43m*\u001b[49m\u001b[43m*\u001b[49m\u001b[43mrouted_params\u001b[49m\u001b[43m.\u001b[49m\u001b[43msplitter\u001b[49m\u001b[43m.\u001b[49m\u001b[43msplit\u001b[49m\u001b[43m)\u001b[49m\u001b[43m)\u001b[49m\u001b[43m,\u001b[49m\n\u001b[32m    985\u001b[39m \u001b[43m    \u001b[49m\u001b[43m)\u001b[49m\n\u001b[32m    986\u001b[39m \u001b[43m\u001b[49m\u001b[43m)\u001b[49m\n\u001b[32m    988\u001b[39m \u001b[38;5;28;01mif\u001b[39;00m \u001b[38;5;28mlen\u001b[39m(out) < \u001b[32m1\u001b[39m:\n\u001b[32m    989\u001b[39m     \u001b[38;5;28;01mraise\u001b[39;00m \u001b[38;5;167;01mValueError\u001b[39;00m(\n\u001b[32m    990\u001b[39m         \u001b[33m\"\u001b[39m\u001b[33mNo fits were performed. \u001b[39m\u001b[33m\"\u001b[39m\n\u001b[32m    991\u001b[39m         \u001b[33m\"\u001b[39m\u001b[33mWas the CV iterator empty? \u001b[39m\u001b[33m\"\u001b[39m\n\u001b[32m    992\u001b[39m         \u001b[33m\"\u001b[39m\u001b[33mWere there no candidates?\u001b[39m\u001b[33m\"\u001b[39m\n\u001b[32m    993\u001b[39m     )\n",
            "\u001b[36mFile \u001b[39m\u001b[32mc:\\Users\\d0ubt\\Documents\\git\\Practica2_introIA\\.venv\\Lib\\site-packages\\sklearn\\utils\\parallel.py:77\u001b[39m, in \u001b[36mParallel.__call__\u001b[39m\u001b[34m(self, iterable)\u001b[39m\n\u001b[32m     72\u001b[39m config = get_config()\n\u001b[32m     73\u001b[39m iterable_with_config = (\n\u001b[32m     74\u001b[39m     (_with_config(delayed_func, config), args, kwargs)\n\u001b[32m     75\u001b[39m     \u001b[38;5;28;01mfor\u001b[39;00m delayed_func, args, kwargs \u001b[38;5;129;01min\u001b[39;00m iterable\n\u001b[32m     76\u001b[39m )\n\u001b[32m---> \u001b[39m\u001b[32m77\u001b[39m \u001b[38;5;28;01mreturn\u001b[39;00m \u001b[38;5;28;43msuper\u001b[39;49m\u001b[43m(\u001b[49m\u001b[43m)\u001b[49m\u001b[43m.\u001b[49m\u001b[34;43m__call__\u001b[39;49m\u001b[43m(\u001b[49m\u001b[43miterable_with_config\u001b[49m\u001b[43m)\u001b[49m\n",
            "\u001b[36mFile \u001b[39m\u001b[32mc:\\Users\\d0ubt\\Documents\\git\\Practica2_introIA\\.venv\\Lib\\site-packages\\joblib\\parallel.py:1986\u001b[39m, in \u001b[36mParallel.__call__\u001b[39m\u001b[34m(self, iterable)\u001b[39m\n\u001b[32m   1984\u001b[39m     output = \u001b[38;5;28mself\u001b[39m._get_sequential_output(iterable)\n\u001b[32m   1985\u001b[39m     \u001b[38;5;28mnext\u001b[39m(output)\n\u001b[32m-> \u001b[39m\u001b[32m1986\u001b[39m     \u001b[38;5;28;01mreturn\u001b[39;00m output \u001b[38;5;28;01mif\u001b[39;00m \u001b[38;5;28mself\u001b[39m.return_generator \u001b[38;5;28;01melse\u001b[39;00m \u001b[38;5;28;43mlist\u001b[39;49m\u001b[43m(\u001b[49m\u001b[43moutput\u001b[49m\u001b[43m)\u001b[49m\n\u001b[32m   1988\u001b[39m \u001b[38;5;66;03m# Let's create an ID that uniquely identifies the current call. If the\u001b[39;00m\n\u001b[32m   1989\u001b[39m \u001b[38;5;66;03m# call is interrupted early and that the same instance is immediately\u001b[39;00m\n\u001b[32m   1990\u001b[39m \u001b[38;5;66;03m# reused, this id will be used to prevent workers that were\u001b[39;00m\n\u001b[32m   1991\u001b[39m \u001b[38;5;66;03m# concurrently finalizing a task from the previous call to run the\u001b[39;00m\n\u001b[32m   1992\u001b[39m \u001b[38;5;66;03m# callback.\u001b[39;00m\n\u001b[32m   1993\u001b[39m \u001b[38;5;28;01mwith\u001b[39;00m \u001b[38;5;28mself\u001b[39m._lock:\n",
            "\u001b[36mFile \u001b[39m\u001b[32mc:\\Users\\d0ubt\\Documents\\git\\Practica2_introIA\\.venv\\Lib\\site-packages\\joblib\\parallel.py:1914\u001b[39m, in \u001b[36mParallel._get_sequential_output\u001b[39m\u001b[34m(self, iterable)\u001b[39m\n\u001b[32m   1912\u001b[39m \u001b[38;5;28mself\u001b[39m.n_dispatched_batches += \u001b[32m1\u001b[39m\n\u001b[32m   1913\u001b[39m \u001b[38;5;28mself\u001b[39m.n_dispatched_tasks += \u001b[32m1\u001b[39m\n\u001b[32m-> \u001b[39m\u001b[32m1914\u001b[39m res = \u001b[43mfunc\u001b[49m\u001b[43m(\u001b[49m\u001b[43m*\u001b[49m\u001b[43margs\u001b[49m\u001b[43m,\u001b[49m\u001b[43m \u001b[49m\u001b[43m*\u001b[49m\u001b[43m*\u001b[49m\u001b[43mkwargs\u001b[49m\u001b[43m)\u001b[49m\n\u001b[32m   1915\u001b[39m \u001b[38;5;28mself\u001b[39m.n_completed_tasks += \u001b[32m1\u001b[39m\n\u001b[32m   1916\u001b[39m \u001b[38;5;28mself\u001b[39m.print_progress()\n",
            "\u001b[36mFile \u001b[39m\u001b[32mc:\\Users\\d0ubt\\Documents\\git\\Practica2_introIA\\.venv\\Lib\\site-packages\\sklearn\\utils\\parallel.py:139\u001b[39m, in \u001b[36m_FuncWrapper.__call__\u001b[39m\u001b[34m(self, *args, **kwargs)\u001b[39m\n\u001b[32m    137\u001b[39m     config = {}\n\u001b[32m    138\u001b[39m \u001b[38;5;28;01mwith\u001b[39;00m config_context(**config):\n\u001b[32m--> \u001b[39m\u001b[32m139\u001b[39m     \u001b[38;5;28;01mreturn\u001b[39;00m \u001b[38;5;28;43mself\u001b[39;49m\u001b[43m.\u001b[49m\u001b[43mfunction\u001b[49m\u001b[43m(\u001b[49m\u001b[43m*\u001b[49m\u001b[43margs\u001b[49m\u001b[43m,\u001b[49m\u001b[43m \u001b[49m\u001b[43m*\u001b[49m\u001b[43m*\u001b[49m\u001b[43mkwargs\u001b[49m\u001b[43m)\u001b[49m\n",
            "\u001b[36mFile \u001b[39m\u001b[32mc:\\Users\\d0ubt\\Documents\\git\\Practica2_introIA\\.venv\\Lib\\site-packages\\sklearn\\model_selection\\_validation.py:888\u001b[39m, in \u001b[36m_fit_and_score\u001b[39m\u001b[34m(estimator, X, y, scorer, train, test, verbose, parameters, fit_params, score_params, return_train_score, return_parameters, return_n_test_samples, return_times, return_estimator, split_progress, candidate_progress, error_score)\u001b[39m\n\u001b[32m    885\u001b[39m result[\u001b[33m\"\u001b[39m\u001b[33mfit_error\u001b[39m\u001b[33m\"\u001b[39m] = \u001b[38;5;28;01mNone\u001b[39;00m\n\u001b[32m    887\u001b[39m fit_time = time.time() - start_time\n\u001b[32m--> \u001b[39m\u001b[32m888\u001b[39m test_scores = \u001b[43m_score\u001b[49m\u001b[43m(\u001b[49m\n\u001b[32m    889\u001b[39m \u001b[43m    \u001b[49m\u001b[43mestimator\u001b[49m\u001b[43m,\u001b[49m\u001b[43m \u001b[49m\u001b[43mX_test\u001b[49m\u001b[43m,\u001b[49m\u001b[43m \u001b[49m\u001b[43my_test\u001b[49m\u001b[43m,\u001b[49m\u001b[43m \u001b[49m\u001b[43mscorer\u001b[49m\u001b[43m,\u001b[49m\u001b[43m \u001b[49m\u001b[43mscore_params_test\u001b[49m\u001b[43m,\u001b[49m\u001b[43m \u001b[49m\u001b[43merror_score\u001b[49m\n\u001b[32m    890\u001b[39m \u001b[43m\u001b[49m\u001b[43m)\u001b[49m\n\u001b[32m    891\u001b[39m score_time = time.time() - start_time - fit_time\n\u001b[32m    892\u001b[39m \u001b[38;5;28;01mif\u001b[39;00m return_train_score:\n",
            "\u001b[36mFile \u001b[39m\u001b[32mc:\\Users\\d0ubt\\Documents\\git\\Practica2_introIA\\.venv\\Lib\\site-packages\\sklearn\\model_selection\\_validation.py:949\u001b[39m, in \u001b[36m_score\u001b[39m\u001b[34m(estimator, X_test, y_test, scorer, score_params, error_score)\u001b[39m\n\u001b[32m    947\u001b[39m         scores = scorer(estimator, X_test, **score_params)\n\u001b[32m    948\u001b[39m     \u001b[38;5;28;01melse\u001b[39;00m:\n\u001b[32m--> \u001b[39m\u001b[32m949\u001b[39m         scores = \u001b[43mscorer\u001b[49m\u001b[43m(\u001b[49m\u001b[43mestimator\u001b[49m\u001b[43m,\u001b[49m\u001b[43m \u001b[49m\u001b[43mX_test\u001b[49m\u001b[43m,\u001b[49m\u001b[43m \u001b[49m\u001b[43my_test\u001b[49m\u001b[43m,\u001b[49m\u001b[43m \u001b[49m\u001b[43m*\u001b[49m\u001b[43m*\u001b[49m\u001b[43mscore_params\u001b[49m\u001b[43m)\u001b[49m\n\u001b[32m    950\u001b[39m \u001b[38;5;28;01mexcept\u001b[39;00m \u001b[38;5;167;01mException\u001b[39;00m:\n\u001b[32m    951\u001b[39m     \u001b[38;5;28;01mif\u001b[39;00m \u001b[38;5;28misinstance\u001b[39m(scorer, _MultimetricScorer):\n\u001b[32m    952\u001b[39m         \u001b[38;5;66;03m# If `_MultimetricScorer` raises exception, the `error_score`\u001b[39;00m\n\u001b[32m    953\u001b[39m         \u001b[38;5;66;03m# parameter is equal to \"raise\".\u001b[39;00m\n",
            "\u001b[36mFile \u001b[39m\u001b[32mc:\\Users\\d0ubt\\Documents\\git\\Practica2_introIA\\.venv\\Lib\\site-packages\\sklearn\\metrics\\_scorer.py:140\u001b[39m, in \u001b[36m_MultimetricScorer.__call__\u001b[39m\u001b[34m(self, estimator, *args, **kwargs)\u001b[39m\n\u001b[32m    138\u001b[39m \u001b[38;5;28;01mtry\u001b[39;00m:\n\u001b[32m    139\u001b[39m     \u001b[38;5;28;01mif\u001b[39;00m \u001b[38;5;28misinstance\u001b[39m(scorer, _BaseScorer):\n\u001b[32m--> \u001b[39m\u001b[32m140\u001b[39m         score = \u001b[43mscorer\u001b[49m\u001b[43m.\u001b[49m\u001b[43m_score\u001b[49m\u001b[43m(\u001b[49m\n\u001b[32m    141\u001b[39m \u001b[43m            \u001b[49m\u001b[43mcached_call\u001b[49m\u001b[43m,\u001b[49m\u001b[43m \u001b[49m\u001b[43mestimator\u001b[49m\u001b[43m,\u001b[49m\u001b[43m \u001b[49m\u001b[43m*\u001b[49m\u001b[43margs\u001b[49m\u001b[43m,\u001b[49m\u001b[43m \u001b[49m\u001b[43m*\u001b[49m\u001b[43m*\u001b[49m\u001b[43mrouted_params\u001b[49m\u001b[43m.\u001b[49m\u001b[43mget\u001b[49m\u001b[43m(\u001b[49m\u001b[43mname\u001b[49m\u001b[43m)\u001b[49m\u001b[43m.\u001b[49m\u001b[43mscore\u001b[49m\n\u001b[32m    142\u001b[39m \u001b[43m        \u001b[49m\u001b[43m)\u001b[49m\n\u001b[32m    143\u001b[39m     \u001b[38;5;28;01melse\u001b[39;00m:\n\u001b[32m    144\u001b[39m         score = scorer(estimator, *args, **routed_params.get(name).score)\n",
            "\u001b[36mFile \u001b[39m\u001b[32mc:\\Users\\d0ubt\\Documents\\git\\Practica2_introIA\\.venv\\Lib\\site-packages\\sklearn\\metrics\\_scorer.py:388\u001b[39m, in \u001b[36m_Scorer._score\u001b[39m\u001b[34m(self, method_caller, estimator, X, y_true, **kwargs)\u001b[39m\n\u001b[32m    380\u001b[39m y_pred = method_caller(\n\u001b[32m    381\u001b[39m     estimator,\n\u001b[32m    382\u001b[39m     _get_response_method_name(response_method),\n\u001b[32m    383\u001b[39m     X,\n\u001b[32m    384\u001b[39m     pos_label=pos_label,\n\u001b[32m    385\u001b[39m )\n\u001b[32m    387\u001b[39m scoring_kwargs = {**\u001b[38;5;28mself\u001b[39m._kwargs, **kwargs}\n\u001b[32m--> \u001b[39m\u001b[32m388\u001b[39m \u001b[38;5;28;01mreturn\u001b[39;00m \u001b[38;5;28mself\u001b[39m._sign * \u001b[38;5;28;43mself\u001b[39;49m\u001b[43m.\u001b[49m\u001b[43m_score_func\u001b[49m\u001b[43m(\u001b[49m\u001b[43my_true\u001b[49m\u001b[43m,\u001b[49m\u001b[43m \u001b[49m\u001b[43my_pred\u001b[49m\u001b[43m,\u001b[49m\u001b[43m \u001b[49m\u001b[43m*\u001b[49m\u001b[43m*\u001b[49m\u001b[43mscoring_kwargs\u001b[49m\u001b[43m)\u001b[49m\n",
            "\u001b[36mFile \u001b[39m\u001b[32mc:\\Users\\d0ubt\\Documents\\git\\Practica2_introIA\\.venv\\Lib\\site-packages\\sklearn\\utils\\_param_validation.py:216\u001b[39m, in \u001b[36mvalidate_params.<locals>.decorator.<locals>.wrapper\u001b[39m\u001b[34m(*args, **kwargs)\u001b[39m\n\u001b[32m    210\u001b[39m \u001b[38;5;28;01mtry\u001b[39;00m:\n\u001b[32m    211\u001b[39m     \u001b[38;5;28;01mwith\u001b[39;00m config_context(\n\u001b[32m    212\u001b[39m         skip_parameter_validation=(\n\u001b[32m    213\u001b[39m             prefer_skip_nested_validation \u001b[38;5;129;01mor\u001b[39;00m global_skip_validation\n\u001b[32m    214\u001b[39m         )\n\u001b[32m    215\u001b[39m     ):\n\u001b[32m--> \u001b[39m\u001b[32m216\u001b[39m         \u001b[38;5;28;01mreturn\u001b[39;00m \u001b[43mfunc\u001b[49m\u001b[43m(\u001b[49m\u001b[43m*\u001b[49m\u001b[43margs\u001b[49m\u001b[43m,\u001b[49m\u001b[43m \u001b[49m\u001b[43m*\u001b[49m\u001b[43m*\u001b[49m\u001b[43mkwargs\u001b[49m\u001b[43m)\u001b[49m\n\u001b[32m    217\u001b[39m \u001b[38;5;28;01mexcept\u001b[39;00m InvalidParameterError \u001b[38;5;28;01mas\u001b[39;00m e:\n\u001b[32m    218\u001b[39m     \u001b[38;5;66;03m# When the function is just a wrapper around an estimator, we allow\u001b[39;00m\n\u001b[32m    219\u001b[39m     \u001b[38;5;66;03m# the function to delegate validation to the estimator, but we replace\u001b[39;00m\n\u001b[32m    220\u001b[39m     \u001b[38;5;66;03m# the name of the estimator by the name of the function in the error\u001b[39;00m\n\u001b[32m    221\u001b[39m     \u001b[38;5;66;03m# message to avoid confusion.\u001b[39;00m\n\u001b[32m    222\u001b[39m     msg = re.sub(\n\u001b[32m    223\u001b[39m         \u001b[33mr\u001b[39m\u001b[33m\"\u001b[39m\u001b[33mparameter of \u001b[39m\u001b[33m\\\u001b[39m\u001b[33mw+ must be\u001b[39m\u001b[33m\"\u001b[39m,\n\u001b[32m    224\u001b[39m         \u001b[33mf\u001b[39m\u001b[33m\"\u001b[39m\u001b[33mparameter of \u001b[39m\u001b[38;5;132;01m{\u001b[39;00mfunc.\u001b[34m__qualname__\u001b[39m\u001b[38;5;132;01m}\u001b[39;00m\u001b[33m must be\u001b[39m\u001b[33m\"\u001b[39m,\n\u001b[32m    225\u001b[39m         \u001b[38;5;28mstr\u001b[39m(e),\n\u001b[32m    226\u001b[39m     )\n",
            "\u001b[36mFile \u001b[39m\u001b[32mc:\\Users\\d0ubt\\Documents\\git\\Practica2_introIA\\.venv\\Lib\\site-packages\\sklearn\\metrics\\_classification.py:2429\u001b[39m, in \u001b[36mrecall_score\u001b[39m\u001b[34m(y_true, y_pred, labels, pos_label, average, sample_weight, zero_division)\u001b[39m\n\u001b[32m   2260\u001b[39m \u001b[38;5;129m@validate_params\u001b[39m(\n\u001b[32m   2261\u001b[39m     {\n\u001b[32m   2262\u001b[39m         \u001b[33m\"\u001b[39m\u001b[33my_true\u001b[39m\u001b[33m\"\u001b[39m: [\u001b[33m\"\u001b[39m\u001b[33marray-like\u001b[39m\u001b[33m\"\u001b[39m, \u001b[33m\"\u001b[39m\u001b[33msparse matrix\u001b[39m\u001b[33m\"\u001b[39m],\n\u001b[32m   (...)\u001b[39m\u001b[32m   2287\u001b[39m     zero_division=\u001b[33m\"\u001b[39m\u001b[33mwarn\u001b[39m\u001b[33m\"\u001b[39m,\n\u001b[32m   2288\u001b[39m ):\n\u001b[32m   2289\u001b[39m \u001b[38;5;250m    \u001b[39m\u001b[33;03m\"\"\"Compute the recall.\u001b[39;00m\n\u001b[32m   2290\u001b[39m \n\u001b[32m   2291\u001b[39m \u001b[33;03m    The recall is the ratio ``tp / (tp + fn)`` where ``tp`` is the number of\u001b[39;00m\n\u001b[32m   (...)\u001b[39m\u001b[32m   2427\u001b[39m \u001b[33;03m    array([1. , 1. , 0.5])\u001b[39;00m\n\u001b[32m   2428\u001b[39m \u001b[33;03m    \"\"\"\u001b[39;00m\n\u001b[32m-> \u001b[39m\u001b[32m2429\u001b[39m     _, r, _, _ = \u001b[43mprecision_recall_fscore_support\u001b[49m\u001b[43m(\u001b[49m\n\u001b[32m   2430\u001b[39m \u001b[43m        \u001b[49m\u001b[43my_true\u001b[49m\u001b[43m,\u001b[49m\n\u001b[32m   2431\u001b[39m \u001b[43m        \u001b[49m\u001b[43my_pred\u001b[49m\u001b[43m,\u001b[49m\n\u001b[32m   2432\u001b[39m \u001b[43m        \u001b[49m\u001b[43mlabels\u001b[49m\u001b[43m=\u001b[49m\u001b[43mlabels\u001b[49m\u001b[43m,\u001b[49m\n\u001b[32m   2433\u001b[39m \u001b[43m        \u001b[49m\u001b[43mpos_label\u001b[49m\u001b[43m=\u001b[49m\u001b[43mpos_label\u001b[49m\u001b[43m,\u001b[49m\n\u001b[32m   2434\u001b[39m \u001b[43m        \u001b[49m\u001b[43maverage\u001b[49m\u001b[43m=\u001b[49m\u001b[43maverage\u001b[49m\u001b[43m,\u001b[49m\n\u001b[32m   2435\u001b[39m \u001b[43m        \u001b[49m\u001b[43mwarn_for\u001b[49m\u001b[43m=\u001b[49m\u001b[43m(\u001b[49m\u001b[33;43m\"\u001b[39;49m\u001b[33;43mrecall\u001b[39;49m\u001b[33;43m\"\u001b[39;49m\u001b[43m,\u001b[49m\u001b[43m)\u001b[49m\u001b[43m,\u001b[49m\n\u001b[32m   2436\u001b[39m \u001b[43m        \u001b[49m\u001b[43msample_weight\u001b[49m\u001b[43m=\u001b[49m\u001b[43msample_weight\u001b[49m\u001b[43m,\u001b[49m\n\u001b[32m   2437\u001b[39m \u001b[43m        \u001b[49m\u001b[43mzero_division\u001b[49m\u001b[43m=\u001b[49m\u001b[43mzero_division\u001b[49m\u001b[43m,\u001b[49m\n\u001b[32m   2438\u001b[39m \u001b[43m    \u001b[49m\u001b[43m)\u001b[49m\n\u001b[32m   2439\u001b[39m     \u001b[38;5;28;01mreturn\u001b[39;00m r\n",
            "\u001b[36mFile \u001b[39m\u001b[32mc:\\Users\\d0ubt\\Documents\\git\\Practica2_introIA\\.venv\\Lib\\site-packages\\sklearn\\utils\\_param_validation.py:189\u001b[39m, in \u001b[36mvalidate_params.<locals>.decorator.<locals>.wrapper\u001b[39m\u001b[34m(*args, **kwargs)\u001b[39m\n\u001b[32m    187\u001b[39m global_skip_validation = get_config()[\u001b[33m\"\u001b[39m\u001b[33mskip_parameter_validation\u001b[39m\u001b[33m\"\u001b[39m]\n\u001b[32m    188\u001b[39m \u001b[38;5;28;01mif\u001b[39;00m global_skip_validation:\n\u001b[32m--> \u001b[39m\u001b[32m189\u001b[39m     \u001b[38;5;28;01mreturn\u001b[39;00m \u001b[43mfunc\u001b[49m\u001b[43m(\u001b[49m\u001b[43m*\u001b[49m\u001b[43margs\u001b[49m\u001b[43m,\u001b[49m\u001b[43m \u001b[49m\u001b[43m*\u001b[49m\u001b[43m*\u001b[49m\u001b[43mkwargs\u001b[49m\u001b[43m)\u001b[49m\n\u001b[32m    191\u001b[39m func_sig = signature(func)\n\u001b[32m    193\u001b[39m \u001b[38;5;66;03m# Map *args/**kwargs to the function signature\u001b[39;00m\n",
            "\u001b[36mFile \u001b[39m\u001b[32mc:\\Users\\d0ubt\\Documents\\git\\Practica2_introIA\\.venv\\Lib\\site-packages\\sklearn\\metrics\\_classification.py:1834\u001b[39m, in \u001b[36mprecision_recall_fscore_support\u001b[39m\u001b[34m(y_true, y_pred, beta, labels, pos_label, average, warn_for, sample_weight, zero_division)\u001b[39m\n\u001b[32m   1832\u001b[39m \u001b[38;5;66;03m# Calculate tp_sum, pred_sum, true_sum ###\u001b[39;00m\n\u001b[32m   1833\u001b[39m samplewise = average == \u001b[33m\"\u001b[39m\u001b[33msamples\u001b[39m\u001b[33m\"\u001b[39m\n\u001b[32m-> \u001b[39m\u001b[32m1834\u001b[39m MCM = \u001b[43mmultilabel_confusion_matrix\u001b[49m\u001b[43m(\u001b[49m\n\u001b[32m   1835\u001b[39m \u001b[43m    \u001b[49m\u001b[43my_true\u001b[49m\u001b[43m,\u001b[49m\n\u001b[32m   1836\u001b[39m \u001b[43m    \u001b[49m\u001b[43my_pred\u001b[49m\u001b[43m,\u001b[49m\n\u001b[32m   1837\u001b[39m \u001b[43m    \u001b[49m\u001b[43msample_weight\u001b[49m\u001b[43m=\u001b[49m\u001b[43msample_weight\u001b[49m\u001b[43m,\u001b[49m\n\u001b[32m   1838\u001b[39m \u001b[43m    \u001b[49m\u001b[43mlabels\u001b[49m\u001b[43m=\u001b[49m\u001b[43mlabels\u001b[49m\u001b[43m,\u001b[49m\n\u001b[32m   1839\u001b[39m \u001b[43m    \u001b[49m\u001b[43msamplewise\u001b[49m\u001b[43m=\u001b[49m\u001b[43msamplewise\u001b[49m\u001b[43m,\u001b[49m\n\u001b[32m   1840\u001b[39m \u001b[43m\u001b[49m\u001b[43m)\u001b[49m\n\u001b[32m   1841\u001b[39m tp_sum = MCM[:, \u001b[32m1\u001b[39m, \u001b[32m1\u001b[39m]\n\u001b[32m   1842\u001b[39m pred_sum = tp_sum + MCM[:, \u001b[32m0\u001b[39m, \u001b[32m1\u001b[39m]\n",
            "\u001b[36mFile \u001b[39m\u001b[32mc:\\Users\\d0ubt\\Documents\\git\\Practica2_introIA\\.venv\\Lib\\site-packages\\sklearn\\utils\\_param_validation.py:189\u001b[39m, in \u001b[36mvalidate_params.<locals>.decorator.<locals>.wrapper\u001b[39m\u001b[34m(*args, **kwargs)\u001b[39m\n\u001b[32m    187\u001b[39m global_skip_validation = get_config()[\u001b[33m\"\u001b[39m\u001b[33mskip_parameter_validation\u001b[39m\u001b[33m\"\u001b[39m]\n\u001b[32m    188\u001b[39m \u001b[38;5;28;01mif\u001b[39;00m global_skip_validation:\n\u001b[32m--> \u001b[39m\u001b[32m189\u001b[39m     \u001b[38;5;28;01mreturn\u001b[39;00m \u001b[43mfunc\u001b[49m\u001b[43m(\u001b[49m\u001b[43m*\u001b[49m\u001b[43margs\u001b[49m\u001b[43m,\u001b[49m\u001b[43m \u001b[49m\u001b[43m*\u001b[49m\u001b[43m*\u001b[49m\u001b[43mkwargs\u001b[49m\u001b[43m)\u001b[49m\n\u001b[32m    191\u001b[39m func_sig = signature(func)\n\u001b[32m    193\u001b[39m \u001b[38;5;66;03m# Map *args/**kwargs to the function signature\u001b[39;00m\n",
            "\u001b[36mFile \u001b[39m\u001b[32mc:\\Users\\d0ubt\\Documents\\git\\Practica2_introIA\\.venv\\Lib\\site-packages\\sklearn\\metrics\\_classification.py:562\u001b[39m, in \u001b[36mmultilabel_confusion_matrix\u001b[39m\u001b[34m(y_true, y_pred, sample_weight, labels, samplewise)\u001b[39m\n\u001b[32m    560\u001b[39m le.fit(labels)\n\u001b[32m    561\u001b[39m y_true = le.transform(y_true)\n\u001b[32m--> \u001b[39m\u001b[32m562\u001b[39m y_pred = \u001b[43mle\u001b[49m\u001b[43m.\u001b[49m\u001b[43mtransform\u001b[49m\u001b[43m(\u001b[49m\u001b[43my_pred\u001b[49m\u001b[43m)\u001b[49m\n\u001b[32m    563\u001b[39m sorted_labels = le.classes_\n\u001b[32m    565\u001b[39m \u001b[38;5;66;03m# labels are now from 0 to len(labels) - 1 -> use bincount\u001b[39;00m\n",
            "\u001b[36mFile \u001b[39m\u001b[32mc:\\Users\\d0ubt\\Documents\\git\\Practica2_introIA\\.venv\\Lib\\site-packages\\sklearn\\preprocessing\\_label.py:134\u001b[39m, in \u001b[36mLabelEncoder.transform\u001b[39m\u001b[34m(self, y)\u001b[39m\n\u001b[32m    131\u001b[39m \u001b[38;5;28;01mif\u001b[39;00m _num_samples(y) == \u001b[32m0\u001b[39m:\n\u001b[32m    132\u001b[39m     \u001b[38;5;28;01mreturn\u001b[39;00m xp.asarray([])\n\u001b[32m--> \u001b[39m\u001b[32m134\u001b[39m \u001b[38;5;28;01mreturn\u001b[39;00m \u001b[43m_encode\u001b[49m\u001b[43m(\u001b[49m\u001b[43my\u001b[49m\u001b[43m,\u001b[49m\u001b[43m \u001b[49m\u001b[43muniques\u001b[49m\u001b[43m=\u001b[49m\u001b[38;5;28;43mself\u001b[39;49m\u001b[43m.\u001b[49m\u001b[43mclasses_\u001b[49m\u001b[43m)\u001b[49m\n",
            "\u001b[36mFile \u001b[39m\u001b[32mc:\\Users\\d0ubt\\Documents\\git\\Practica2_introIA\\.venv\\Lib\\site-packages\\sklearn\\utils\\_encode.py:243\u001b[39m, in \u001b[36m_encode\u001b[39m\u001b[34m(values, uniques, check_unknown)\u001b[39m\n\u001b[32m    241\u001b[39m     \u001b[38;5;28;01mif\u001b[39;00m diff:\n\u001b[32m    242\u001b[39m         \u001b[38;5;28;01mraise\u001b[39;00m \u001b[38;5;167;01mValueError\u001b[39;00m(\u001b[33mf\u001b[39m\u001b[33m\"\u001b[39m\u001b[33my contains previously unseen labels: \u001b[39m\u001b[38;5;132;01m{\u001b[39;00m\u001b[38;5;28mstr\u001b[39m(diff)\u001b[38;5;132;01m}\u001b[39;00m\u001b[33m\"\u001b[39m)\n\u001b[32m--> \u001b[39m\u001b[32m243\u001b[39m \u001b[38;5;28;01mreturn\u001b[39;00m \u001b[43m_searchsorted\u001b[49m\u001b[43m(\u001b[49m\u001b[43muniques\u001b[49m\u001b[43m,\u001b[49m\u001b[43m \u001b[49m\u001b[43mvalues\u001b[49m\u001b[43m,\u001b[49m\u001b[43m \u001b[49m\u001b[43mxp\u001b[49m\u001b[43m=\u001b[49m\u001b[43mxp\u001b[49m\u001b[43m)\u001b[49m\n",
            "\u001b[36mFile \u001b[39m\u001b[32mc:\\Users\\d0ubt\\Documents\\git\\Practica2_introIA\\.venv\\Lib\\site-packages\\sklearn\\utils\\_array_api.py:944\u001b[39m, in \u001b[36m_searchsorted\u001b[39m\u001b[34m(a, v, side, sorter, xp)\u001b[39m\n\u001b[32m    942\u001b[39m xp, _ = get_namespace(a, v, xp=xp)\n\u001b[32m    943\u001b[39m \u001b[38;5;28;01mif\u001b[39;00m \u001b[38;5;28mhasattr\u001b[39m(xp, \u001b[33m\"\u001b[39m\u001b[33msearchsorted\u001b[39m\u001b[33m\"\u001b[39m):\n\u001b[32m--> \u001b[39m\u001b[32m944\u001b[39m     \u001b[38;5;28;01mreturn\u001b[39;00m \u001b[43mxp\u001b[49m\u001b[43m.\u001b[49m\u001b[43msearchsorted\u001b[49m\u001b[43m(\u001b[49m\u001b[43ma\u001b[49m\u001b[43m,\u001b[49m\u001b[43m \u001b[49m\u001b[43mv\u001b[49m\u001b[43m,\u001b[49m\u001b[43m \u001b[49m\u001b[43mside\u001b[49m\u001b[43m=\u001b[49m\u001b[43mside\u001b[49m\u001b[43m,\u001b[49m\u001b[43m \u001b[49m\u001b[43msorter\u001b[49m\u001b[43m=\u001b[49m\u001b[43msorter\u001b[49m\u001b[43m)\u001b[49m\n\u001b[32m    946\u001b[39m a_np = _convert_to_numpy(a, xp=xp)\n\u001b[32m    947\u001b[39m v_np = _convert_to_numpy(v, xp=xp)\n",
            "\u001b[36mFile \u001b[39m\u001b[32mc:\\Users\\d0ubt\\Documents\\git\\Practica2_introIA\\.venv\\Lib\\site-packages\\numpy\\_core\\fromnumeric.py:1526\u001b[39m, in \u001b[36msearchsorted\u001b[39m\u001b[34m(a, v, side, sorter)\u001b[39m\n\u001b[32m   1446\u001b[39m \u001b[38;5;129m@array_function_dispatch\u001b[39m(_searchsorted_dispatcher)\n\u001b[32m   1447\u001b[39m \u001b[38;5;28;01mdef\u001b[39;00m\u001b[38;5;250m \u001b[39m\u001b[34msearchsorted\u001b[39m(a, v, side=\u001b[33m'\u001b[39m\u001b[33mleft\u001b[39m\u001b[33m'\u001b[39m, sorter=\u001b[38;5;28;01mNone\u001b[39;00m):\n\u001b[32m   1448\u001b[39m \u001b[38;5;250m    \u001b[39m\u001b[33;03m\"\"\"\u001b[39;00m\n\u001b[32m   1449\u001b[39m \u001b[33;03m    Find indices where elements should be inserted to maintain order.\u001b[39;00m\n\u001b[32m   1450\u001b[39m \n\u001b[32m   (...)\u001b[39m\u001b[32m   1524\u001b[39m \u001b[33;03m    30  # The element at index 2 of the sorted array is 30.\u001b[39;00m\n\u001b[32m   1525\u001b[39m \u001b[33;03m    \"\"\"\u001b[39;00m\n\u001b[32m-> \u001b[39m\u001b[32m1526\u001b[39m     \u001b[38;5;28;01mreturn\u001b[39;00m \u001b[43m_wrapfunc\u001b[49m\u001b[43m(\u001b[49m\u001b[43ma\u001b[49m\u001b[43m,\u001b[49m\u001b[43m \u001b[49m\u001b[33;43m'\u001b[39;49m\u001b[33;43msearchsorted\u001b[39;49m\u001b[33;43m'\u001b[39;49m\u001b[43m,\u001b[49m\u001b[43m \u001b[49m\u001b[43mv\u001b[49m\u001b[43m,\u001b[49m\u001b[43m \u001b[49m\u001b[43mside\u001b[49m\u001b[43m=\u001b[49m\u001b[43mside\u001b[49m\u001b[43m,\u001b[49m\u001b[43m \u001b[49m\u001b[43msorter\u001b[49m\u001b[43m=\u001b[49m\u001b[43msorter\u001b[49m\u001b[43m)\u001b[49m\n",
            "\u001b[36mFile \u001b[39m\u001b[32mc:\\Users\\d0ubt\\Documents\\git\\Practica2_introIA\\.venv\\Lib\\site-packages\\numpy\\_core\\fromnumeric.py:57\u001b[39m, in \u001b[36m_wrapfunc\u001b[39m\u001b[34m(obj, method, *args, **kwds)\u001b[39m\n\u001b[32m     54\u001b[39m     \u001b[38;5;28;01mreturn\u001b[39;00m _wrapit(obj, method, *args, **kwds)\n\u001b[32m     56\u001b[39m \u001b[38;5;28;01mtry\u001b[39;00m:\n\u001b[32m---> \u001b[39m\u001b[32m57\u001b[39m     \u001b[38;5;28;01mreturn\u001b[39;00m \u001b[43mbound\u001b[49m\u001b[43m(\u001b[49m\u001b[43m*\u001b[49m\u001b[43margs\u001b[49m\u001b[43m,\u001b[49m\u001b[43m \u001b[49m\u001b[43m*\u001b[49m\u001b[43m*\u001b[49m\u001b[43mkwds\u001b[49m\u001b[43m)\u001b[49m\n\u001b[32m     58\u001b[39m \u001b[38;5;28;01mexcept\u001b[39;00m \u001b[38;5;167;01mTypeError\u001b[39;00m:\n\u001b[32m     59\u001b[39m     \u001b[38;5;66;03m# A TypeError occurs if the object does have such a method in its\u001b[39;00m\n\u001b[32m     60\u001b[39m     \u001b[38;5;66;03m# class, but its signature is not identical to that of NumPy's. This\u001b[39;00m\n\u001b[32m   (...)\u001b[39m\u001b[32m     64\u001b[39m     \u001b[38;5;66;03m# Call _wrapit from within the except clause to ensure a potential\u001b[39;00m\n\u001b[32m     65\u001b[39m     \u001b[38;5;66;03m# exception has a traceback chain.\u001b[39;00m\n\u001b[32m     66\u001b[39m     \u001b[38;5;28;01mreturn\u001b[39;00m _wrapit(obj, method, *args, **kwds)\n",
            "\u001b[31mKeyboardInterrupt\u001b[39m: "
          ]
        }
      ],
      "source": [
        "# Lista para almacenar información sobre cada configuración de modelo evaluada\n",
        "knn_info = []\n",
        "\n",
        "for combo in product([True, False], repeat=3):  # tqdm muestra una barra de progreso\n",
        "    make_outliers = combo[0]\n",
        "    balance = combo[1]\n",
        "    scale = combo[2]\n",
        "\n",
        "    # Se construye el conjunto de datos y pipeline de preprocesamiento+modelo según las opciones indicadas\n",
        "    X, y, pipeline = pipeline_maker(df, 'knn',\n",
        "                                    make_outliers=make_outliers,\n",
        "                                    balance=balance,\n",
        "                                    scale=scale)\n",
        "\n",
        "    # Se divide el dataset en entrenamiento y prueba con estratificación para mantener la proporción de clases\n",
        "    X_train, X_test, y_train, y_test = train_test_split(\n",
        "        X, y, test_size=0.2, stratify=y, random_state=42\n",
        "    )\n",
        "\n",
        "    # Definimos los hiperparámetros a explorar con RandomizedSearchCV\n",
        "    param_dist = {\n",
        "        'knn__n_neighbors': list(range(2, 30))  # número de vecinos para el clasificador KNN\n",
        "    }\n",
        "\n",
        "    # Búsqueda aleatoria de hiperparámetros con validación cruzada 5-fold\n",
        "    grid = RandomizedSearchCV(\n",
        "        pipeline,\n",
        "        param_distributions=param_dist,\n",
        "        n_iter=10,  # Número de combinaciones aleatorias a evaluar\n",
        "        cv=5,  # Validación cruzada de 5 folds\n",
        "        scoring=['accuracy', 'precision_macro', 'recall_macro', 'f1_macro'],  # Métricas a evaluar\n",
        "        refit='f1_macro',  # Se selecciona como mejor modelo el que tenga mejor f1_macro\n",
        "        verbose=1,\n",
        "        random_state=42\n",
        "    )\n",
        "\n",
        "    # Entrenamos el modelo con los datos de entrenamiento\n",
        "    grid.fit(X_train, y_train.ravel())\n",
        "\n",
        "    # Mostramos los mejores parámetros y el mejor score obtenido en validación cruzada\n",
        "    print(\"Mejores parámetros encontrados:\", grid.best_params_)\n",
        "    print(f\"Mejor score CV: {grid.best_score_:.3f}\")\n",
        "\n",
        "    # Se predice sobre el conjunto de prueba\n",
        "    y_pred = grid.predict(X_test)\n",
        "\n",
        "    # Se guarda la información relevante del modelo en un diccionario\n",
        "    my_model_info = {\n",
        "        'best_params': grid.best_params_,  # Hiperparámetros óptimos encontrados\n",
        "        'best_model': grid.best_estimator_,  # Pipeline completo con mejores hiperparámetros\n",
        "        'metrics': {  # Métricas de desempeño sobre el conjunto de prueba\n",
        "            'accuracy': accuracy_score(y_test, y_pred),\n",
        "            'precision': precision_score(y_test, y_pred, average='macro', zero_division=0),\n",
        "            'recall': recall_score(y_test, y_pred, average='macro'),\n",
        "            'f1': f1_score(y_test, y_pred, average='macro')\n",
        "        },\n",
        "        'dataset_info': {  # Información sobre la configuración de preprocesamiento\n",
        "            'make_outliers': make_outliers,\n",
        "            'balance': balance,\n",
        "            'scale': scale\n",
        "        }\n",
        "    }\n",
        "\n",
        "    # Agregamos la información del modelo a la lista de resultados\n",
        "    knn_info.append(my_model_info)\n"
      ]
    },
    {
      "cell_type": "code",
      "execution_count": null,
      "id": "v044KBxBlcYu",
      "metadata": {
        "colab": {
          "base_uri": "https://localhost:8080/"
        },
        "id": "v044KBxBlcYu",
        "outputId": "b8094846-3884-4978-ed20-0c14ee473c26"
      },
      "outputs": [
        {
          "data": {
            "text/plain": [
              "[{'best_params': {'knn__n_neighbors': 14},\n",
              "  'best_model': Pipeline(steps=[('preprocessor',\n",
              "                   ColumnTransformer(transformers=[('std_scaler',\n",
              "                                                    StandardScaler(),\n",
              "                                                    Index(['make_year', 'mileage_kmpl', 'engine_cc', 'owner_count',\n",
              "         'accidents_reported'],\n",
              "        dtype='object')),\n",
              "                                                   ('one_hot', OneHotEncoder(),\n",
              "                                                    Index(['fuel_type', 'brand', 'transmission', 'insurance_valid'], dtype='object'))])),\n",
              "                  ('smote', SMOTE(random_state=42)),\n",
              "                  ('knn', KNeighborsClassifier(n_neighbors=14))]),\n",
              "  'metrics': {'accuracy': 0.7104634495938844,\n",
              "   'precision': 0.6264016360618314,\n",
              "   'recall': 0.7477271952259164,\n",
              "   'f1': 0.6592213859355807},\n",
              "  'dataset_info': {'make_outliers': True, 'balance': True, 'scale': True}},\n",
              " {'best_params': {'knn__n_neighbors': 23},\n",
              "  'best_model': Pipeline(steps=[('preprocessor',\n",
              "                   ColumnTransformer(transformers=[('one_hot', OneHotEncoder(),\n",
              "                                                    Index(['fuel_type', 'brand', 'transmission', 'insurance_valid'], dtype='object'))])),\n",
              "                  ('smote', SMOTE(random_state=42)),\n",
              "                  ('knn', KNeighborsClassifier(n_neighbors=23))]),\n",
              "  'metrics': {'accuracy': 0.30817009077878643,\n",
              "   'precision': 0.2854093004045333,\n",
              "   'recall': 0.31675036813144236,\n",
              "   'f1': 0.2714768335676856},\n",
              "  'dataset_info': {'make_outliers': True, 'balance': True, 'scale': False}},\n",
              " {'best_params': {'knn__n_neighbors': 10},\n",
              "  'best_model': Pipeline(steps=[('preprocessor',\n",
              "                   ColumnTransformer(transformers=[('std_scaler',\n",
              "                                                    StandardScaler(),\n",
              "                                                    Index(['make_year', 'mileage_kmpl', 'engine_cc', 'owner_count',\n",
              "         'accidents_reported'],\n",
              "        dtype='object')),\n",
              "                                                   ('one_hot', OneHotEncoder(),\n",
              "                                                    Index(['fuel_type', 'brand', 'transmission', 'insurance_valid'], dtype='object'))])),\n",
              "                  ('knn', KNeighborsClassifier(n_neighbors=10))]),\n",
              "  'metrics': {'accuracy': 0.78786430960344,\n",
              "   'precision': 0.8463476481266332,\n",
              "   'recall': 0.6146456637991164,\n",
              "   'f1': 0.6585517802935175},\n",
              "  'dataset_info': {'make_outliers': True, 'balance': False, 'scale': True}},\n",
              " {'best_params': {'knn__n_neighbors': 11},\n",
              "  'best_model': Pipeline(steps=[('preprocessor',\n",
              "                   ColumnTransformer(transformers=[('one_hot', OneHotEncoder(),\n",
              "                                                    Index(['fuel_type', 'brand', 'transmission', 'insurance_valid'], dtype='object'))])),\n",
              "                  ('knn', KNeighborsClassifier(n_neighbors=11))]),\n",
              "  'metrics': {'accuracy': 0.5040611562350693,\n",
              "   'precision': 0.320445986235406,\n",
              "   'recall': 0.28308912655971485,\n",
              "   'f1': 0.27278737353850774},\n",
              "  'dataset_info': {'make_outliers': True, 'balance': False, 'scale': False}},\n",
              " {'best_params': {'knn__n_neighbors': 27},\n",
              "  'best_model': Pipeline(steps=[('preprocessor',\n",
              "                   ColumnTransformer(transformers=[('std_scaler',\n",
              "                                                    StandardScaler(),\n",
              "                                                    Index(['make_year', 'mileage_kmpl', 'engine_cc', 'owner_count',\n",
              "         'accidents_reported'],\n",
              "        dtype='object')),\n",
              "                                                   ('one_hot', OneHotEncoder(),\n",
              "                                                    Index(['fuel_type', 'brand', 'transmission', 'insurance_valid'], dtype='object'))])),\n",
              "                  ('smote', SMOTE(random_state=42)),\n",
              "                  ('knn', KNeighborsClassifier(n_neighbors=27))]),\n",
              "  'metrics': {'accuracy': 0.6859006522829905,\n",
              "   'precision': 0.585203280314568,\n",
              "   'recall': 0.7140821396667982,\n",
              "   'f1': 0.6133267958549753},\n",
              "  'dataset_info': {'make_outliers': False, 'balance': True, 'scale': True}},\n",
              " {'best_params': {'knn__n_neighbors': 15},\n",
              "  'best_model': Pipeline(steps=[('preprocessor',\n",
              "                   ColumnTransformer(transformers=[('one_hot', OneHotEncoder(),\n",
              "                                                    Index(['fuel_type', 'brand', 'transmission', 'insurance_valid'], dtype='object'))])),\n",
              "                  ('smote', SMOTE(random_state=42)),\n",
              "                  ('knn', KNeighborsClassifier(n_neighbors=15))]),\n",
              "  'metrics': {'accuracy': 0.327646763672855,\n",
              "   'precision': 0.27540200141620547,\n",
              "   'recall': 0.29211845736635256,\n",
              "   'f1': 0.2630006511545447},\n",
              "  'dataset_info': {'make_outliers': False, 'balance': True, 'scale': False}},\n",
              " {'best_params': {'knn__n_neighbors': 11},\n",
              "  'best_model': Pipeline(steps=[('preprocessor',\n",
              "                   ColumnTransformer(transformers=[('std_scaler',\n",
              "                                                    StandardScaler(),\n",
              "                                                    Index(['make_year', 'mileage_kmpl', 'engine_cc', 'owner_count',\n",
              "         'accidents_reported'],\n",
              "        dtype='object')),\n",
              "                                                   ('one_hot', OneHotEncoder(),\n",
              "                                                    Index(['fuel_type', 'brand', 'transmission', 'insurance_valid'], dtype='object'))])),\n",
              "                  ('knn', KNeighborsClassifier(n_neighbors=11))]),\n",
              "  'metrics': {'accuracy': 0.7531359759157049,\n",
              "   'precision': 0.8188397387455468,\n",
              "   'recall': 0.5466537542075427,\n",
              "   'f1': 0.5705921765238512},\n",
              "  'dataset_info': {'make_outliers': False, 'balance': False, 'scale': True}},\n",
              " {'best_params': {'knn__n_neighbors': 10},\n",
              "  'best_model': Pipeline(steps=[('preprocessor',\n",
              "                   ColumnTransformer(transformers=[('one_hot', OneHotEncoder(),\n",
              "                                                    Index(['fuel_type', 'brand', 'transmission', 'insurance_valid'], dtype='object'))])),\n",
              "                  ('knn', KNeighborsClassifier(n_neighbors=10))]),\n",
              "  'metrics': {'accuracy': 0.4927245358755645,\n",
              "   'precision': 0.32097626636708426,\n",
              "   'recall': 0.27048394646617285,\n",
              "   'f1': 0.2583630563408621},\n",
              "  'dataset_info': {'make_outliers': False, 'balance': False, 'scale': False}}]"
            ]
          },
          "execution_count": 75,
          "metadata": {},
          "output_type": "execute_result"
        }
      ],
      "source": [
        "knn_info"
      ]
    },
    {
      "cell_type": "markdown",
      "id": "zrBYARcMSCsB",
      "metadata": {
        "id": "zrBYARcMSCsB"
      },
      "source": [
        "#### 2.2.2. SVM"
      ]
    },
    {
      "cell_type": "code",
      "execution_count": null,
      "id": "0nGtMsAyzfUq",
      "metadata": {
        "colab": {
          "base_uri": "https://localhost:8080/",
          "height": 1000,
          "referenced_widgets": [
            "5cbd362918be43a88f7f968576abb24a",
            "f859d2adc0db42e0904ad015d9c02ffe",
            "f59ffa2a815148ea9b3a1a0cb684d973",
            "6760fe8061994a8181057275bf92e06a",
            "fd45d5e3556e41bda581a2a7352cb902",
            "3446311eab5841c19b9f2f4010e622e5",
            "1e588fc076ad4de5861459b1de1279a4",
            "0deb86981ed14cd986005d707d947c68",
            "1303777e696841ae887c38037b415fde",
            "03338a96815f4aa0960ccf41f7eb2373",
            "b021737875b64843bde3bf445bf0e3aa"
          ]
        },
        "id": "0nGtMsAyzfUq",
        "outputId": "93cb1e64-b046-484e-a615-05ce186f380e"
      },
      "outputs": [
        {
          "data": {
            "application/vnd.jupyter.widget-view+json": {
              "model_id": "5cbd362918be43a88f7f968576abb24a",
              "version_major": 2,
              "version_minor": 0
            },
            "text/plain": [
              "0it [00:00, ?it/s]"
            ]
          },
          "metadata": {},
          "output_type": "display_data"
        },
        {
          "name": "stdout",
          "output_type": "stream",
          "text": [
            "Fitting 5 folds for each of 10 candidates, totalling 50 fits\n",
            "[CV] END SVC__C=0.1, SVC__gamma=0.3593813663804626, SVC__kernel=poly; total time=   3.8s\n",
            "[CV] END SVC__C=0.1, SVC__gamma=0.3593813663804626, SVC__kernel=poly; total time=   2.6s\n",
            "[CV] END SVC__C=0.1, SVC__gamma=0.3593813663804626, SVC__kernel=poly; total time=   2.9s\n",
            "[CV] END SVC__C=0.1, SVC__gamma=0.3593813663804626, SVC__kernel=poly; total time=   3.4s\n",
            "[CV] END SVC__C=0.1, SVC__gamma=0.3593813663804626, SVC__kernel=poly; total time=   2.6s\n",
            "[CV] END SVC__C=0.46415888336127775, SVC__gamma=0.5994842503189409, SVC__kernel=poly; total time=   9.3s\n",
            "[CV] END SVC__C=0.46415888336127775, SVC__gamma=0.5994842503189409, SVC__kernel=poly; total time=   9.0s\n",
            "[CV] END SVC__C=0.46415888336127775, SVC__gamma=0.5994842503189409, SVC__kernel=poly; total time=   9.6s\n",
            "[CV] END SVC__C=0.46415888336127775, SVC__gamma=0.5994842503189409, SVC__kernel=poly; total time=   8.8s\n",
            "[CV] END SVC__C=0.46415888336127775, SVC__gamma=0.5994842503189409, SVC__kernel=poly; total time=   8.1s\n"
          ]
        },
        {
          "name": "stderr",
          "output_type": "stream",
          "text": [
            "/usr/local/lib/python3.11/dist-packages/sklearn/metrics/_classification.py:1565: UndefinedMetricWarning: Precision is ill-defined and being set to 0.0 in labels with no predicted samples. Use `zero_division` parameter to control this behavior.\n",
            "  _warn_prf(average, modifier, f\"{metric.capitalize()} is\", len(result))\n"
          ]
        },
        {
          "name": "stdout",
          "output_type": "stream",
          "text": [
            "[CV] END SVC__C=0.046415888336127774, SVC__gamma=0.01, SVC__kernel=poly; total time=  17.4s\n",
            "[CV] END SVC__C=0.046415888336127774, SVC__gamma=0.01, SVC__kernel=poly; total time=  17.0s\n"
          ]
        },
        {
          "name": "stderr",
          "output_type": "stream",
          "text": [
            "/usr/local/lib/python3.11/dist-packages/sklearn/metrics/_classification.py:1565: UndefinedMetricWarning: Precision is ill-defined and being set to 0.0 in labels with no predicted samples. Use `zero_division` parameter to control this behavior.\n",
            "  _warn_prf(average, modifier, f\"{metric.capitalize()} is\", len(result))\n"
          ]
        },
        {
          "name": "stdout",
          "output_type": "stream",
          "text": [
            "[CV] END SVC__C=0.046415888336127774, SVC__gamma=0.01, SVC__kernel=poly; total time=  17.6s\n",
            "[CV] END SVC__C=0.046415888336127774, SVC__gamma=0.01, SVC__kernel=poly; total time=  19.7s\n",
            "[CV] END SVC__C=0.046415888336127774, SVC__gamma=0.01, SVC__kernel=poly; total time=  17.7s\n",
            "[CV] END SVC__C=0.001, SVC__gamma=0.046415888336127774, SVC__kernel=linear; total time=   6.2s\n",
            "[CV] END SVC__C=0.001, SVC__gamma=0.046415888336127774, SVC__kernel=linear; total time=   7.2s\n",
            "[CV] END SVC__C=0.001, SVC__gamma=0.046415888336127774, SVC__kernel=linear; total time=   6.2s\n",
            "[CV] END SVC__C=0.001, SVC__gamma=0.046415888336127774, SVC__kernel=linear; total time=   7.1s\n",
            "[CV] END SVC__C=0.001, SVC__gamma=0.046415888336127774, SVC__kernel=linear; total time=   6.2s\n",
            "[CV] END SVC__C=0.21544346900318823, SVC__gamma=0.3593813663804626, SVC__kernel=poly; total time=   3.7s\n",
            "[CV] END SVC__C=0.21544346900318823, SVC__gamma=0.3593813663804626, SVC__kernel=poly; total time=   3.0s\n",
            "[CV] END SVC__C=0.21544346900318823, SVC__gamma=0.3593813663804626, SVC__kernel=poly; total time=   2.8s\n",
            "[CV] END SVC__C=0.21544346900318823, SVC__gamma=0.3593813663804626, SVC__kernel=poly; total time=   2.8s\n",
            "[CV] END SVC__C=0.21544346900318823, SVC__gamma=0.3593813663804626, SVC__kernel=poly; total time=   3.5s\n",
            "[CV] END SVC__C=0.21544346900318823, SVC__gamma=0.1291549665014884, SVC__kernel=rbf; total time=   4.1s\n",
            "[CV] END SVC__C=0.21544346900318823, SVC__gamma=0.1291549665014884, SVC__kernel=rbf; total time=   3.9s\n",
            "[CV] END SVC__C=0.21544346900318823, SVC__gamma=0.1291549665014884, SVC__kernel=rbf; total time=   4.7s\n",
            "[CV] END SVC__C=0.21544346900318823, SVC__gamma=0.1291549665014884, SVC__kernel=rbf; total time=   4.1s\n",
            "[CV] END SVC__C=0.21544346900318823, SVC__gamma=0.1291549665014884, SVC__kernel=rbf; total time=   4.0s\n",
            "[CV] END SVC__C=0.1, SVC__gamma=0.1291549665014884, SVC__kernel=rbf; total time=   5.7s\n",
            "[CV] END SVC__C=0.1, SVC__gamma=0.1291549665014884, SVC__kernel=rbf; total time=   4.7s\n",
            "[CV] END SVC__C=0.1, SVC__gamma=0.1291549665014884, SVC__kernel=rbf; total time=   4.9s\n",
            "[CV] END SVC__C=0.1, SVC__gamma=0.1291549665014884, SVC__kernel=rbf; total time=   5.5s\n",
            "[CV] END SVC__C=0.1, SVC__gamma=0.1291549665014884, SVC__kernel=rbf; total time=   4.8s\n",
            "[CV] END SVC__C=0.01, SVC__gamma=0.21544346900318834, SVC__kernel=rbf; total time=  12.7s\n",
            "[CV] END SVC__C=0.01, SVC__gamma=0.21544346900318834, SVC__kernel=rbf; total time=  12.3s\n",
            "[CV] END SVC__C=0.01, SVC__gamma=0.21544346900318834, SVC__kernel=rbf; total time=  12.7s\n",
            "[CV] END SVC__C=0.01, SVC__gamma=0.21544346900318834, SVC__kernel=rbf; total time=  12.3s\n",
            "[CV] END SVC__C=0.01, SVC__gamma=0.21544346900318834, SVC__kernel=rbf; total time=  12.4s\n"
          ]
        },
        {
          "name": "stderr",
          "output_type": "stream",
          "text": [
            "/usr/local/lib/python3.11/dist-packages/sklearn/metrics/_classification.py:1565: UndefinedMetricWarning: Precision is ill-defined and being set to 0.0 in labels with no predicted samples. Use `zero_division` parameter to control this behavior.\n",
            "  _warn_prf(average, modifier, f\"{metric.capitalize()} is\", len(result))\n"
          ]
        },
        {
          "name": "stdout",
          "output_type": "stream",
          "text": [
            "[CV] END SVC__C=0.001, SVC__gamma=0.016681005372000592, SVC__kernel=poly; total time=  17.6s\n",
            "[CV] END SVC__C=0.001, SVC__gamma=0.016681005372000592, SVC__kernel=poly; total time=  17.0s\n"
          ]
        },
        {
          "name": "stderr",
          "output_type": "stream",
          "text": [
            "/usr/local/lib/python3.11/dist-packages/sklearn/metrics/_classification.py:1565: UndefinedMetricWarning: Precision is ill-defined and being set to 0.0 in labels with no predicted samples. Use `zero_division` parameter to control this behavior.\n",
            "  _warn_prf(average, modifier, f\"{metric.capitalize()} is\", len(result))\n"
          ]
        },
        {
          "name": "stdout",
          "output_type": "stream",
          "text": [
            "[CV] END SVC__C=0.001, SVC__gamma=0.016681005372000592, SVC__kernel=poly; total time=  17.0s\n",
            "[CV] END SVC__C=0.001, SVC__gamma=0.016681005372000592, SVC__kernel=poly; total time=  17.8s\n",
            "[CV] END SVC__C=0.001, SVC__gamma=0.016681005372000592, SVC__kernel=poly; total time=  16.9s\n",
            "[CV] END SVC__C=0.046415888336127774, SVC__gamma=0.5994842503189409, SVC__kernel=rbf; total time=  19.1s\n",
            "[CV] END SVC__C=0.046415888336127774, SVC__gamma=0.5994842503189409, SVC__kernel=rbf; total time=  21.0s\n",
            "[CV] END SVC__C=0.046415888336127774, SVC__gamma=0.5994842503189409, SVC__kernel=rbf; total time=  15.1s\n",
            "[CV] END SVC__C=0.046415888336127774, SVC__gamma=0.5994842503189409, SVC__kernel=rbf; total time=  17.5s\n",
            "[CV] END SVC__C=0.046415888336127774, SVC__gamma=0.5994842503189409, SVC__kernel=rbf; total time=  13.8s\n",
            "Mejores parámetros encontrados: {'SVC__kernel': 'rbf', 'SVC__gamma': np.float64(0.1291549665014884), 'SVC__C': np.float64(0.21544346900318823)}\n",
            "Mejor score CV: 0.743\n",
            "Fitting 5 folds for each of 10 candidates, totalling 50 fits\n",
            "[CV] END SVC__C=0.1, SVC__gamma=0.3593813663804626, SVC__kernel=poly; total time=  14.9s\n",
            "[CV] END SVC__C=0.1, SVC__gamma=0.3593813663804626, SVC__kernel=poly; total time=  15.2s\n",
            "[CV] END SVC__C=0.1, SVC__gamma=0.3593813663804626, SVC__kernel=poly; total time=  14.3s\n",
            "[CV] END SVC__C=0.1, SVC__gamma=0.3593813663804626, SVC__kernel=poly; total time=  14.7s\n",
            "[CV] END SVC__C=0.1, SVC__gamma=0.3593813663804626, SVC__kernel=poly; total time=  14.7s\n",
            "[CV] END SVC__C=0.46415888336127775, SVC__gamma=0.5994842503189409, SVC__kernel=poly; total time=  15.1s\n",
            "[CV] END SVC__C=0.46415888336127775, SVC__gamma=0.5994842503189409, SVC__kernel=poly; total time=  15.4s\n",
            "[CV] END SVC__C=0.46415888336127775, SVC__gamma=0.5994842503189409, SVC__kernel=poly; total time=  14.8s\n",
            "[CV] END SVC__C=0.46415888336127775, SVC__gamma=0.5994842503189409, SVC__kernel=poly; total time=  15.6s\n",
            "[CV] END SVC__C=0.46415888336127775, SVC__gamma=0.5994842503189409, SVC__kernel=poly; total time=  15.2s\n",
            "[CV] END SVC__C=0.046415888336127774, SVC__gamma=0.01, SVC__kernel=poly; total time=  20.2s\n",
            "[CV] END SVC__C=0.046415888336127774, SVC__gamma=0.01, SVC__kernel=poly; total time=  20.5s\n",
            "[CV] END SVC__C=0.046415888336127774, SVC__gamma=0.01, SVC__kernel=poly; total time=  20.5s\n",
            "[CV] END SVC__C=0.046415888336127774, SVC__gamma=0.01, SVC__kernel=poly; total time=  19.8s\n",
            "[CV] END SVC__C=0.046415888336127774, SVC__gamma=0.01, SVC__kernel=poly; total time=  20.6s\n"
          ]
        },
        {
          "name": "stderr",
          "output_type": "stream",
          "text": [
            "/usr/local/lib/python3.11/dist-packages/sklearn/metrics/_classification.py:1565: UndefinedMetricWarning: Precision is ill-defined and being set to 0.0 in labels with no predicted samples. Use `zero_division` parameter to control this behavior.\n",
            "  _warn_prf(average, modifier, f\"{metric.capitalize()} is\", len(result))\n"
          ]
        },
        {
          "name": "stdout",
          "output_type": "stream",
          "text": [
            "[CV] END SVC__C=0.001, SVC__gamma=0.046415888336127774, SVC__kernel=linear; total time=  17.9s\n"
          ]
        },
        {
          "name": "stderr",
          "output_type": "stream",
          "text": [
            "/usr/local/lib/python3.11/dist-packages/sklearn/metrics/_classification.py:1565: UndefinedMetricWarning: Precision is ill-defined and being set to 0.0 in labels with no predicted samples. Use `zero_division` parameter to control this behavior.\n",
            "  _warn_prf(average, modifier, f\"{metric.capitalize()} is\", len(result))\n"
          ]
        },
        {
          "name": "stdout",
          "output_type": "stream",
          "text": [
            "[CV] END SVC__C=0.001, SVC__gamma=0.046415888336127774, SVC__kernel=linear; total time=  18.4s\n"
          ]
        },
        {
          "name": "stderr",
          "output_type": "stream",
          "text": [
            "/usr/local/lib/python3.11/dist-packages/sklearn/metrics/_classification.py:1565: UndefinedMetricWarning: Precision is ill-defined and being set to 0.0 in labels with no predicted samples. Use `zero_division` parameter to control this behavior.\n",
            "  _warn_prf(average, modifier, f\"{metric.capitalize()} is\", len(result))\n"
          ]
        },
        {
          "name": "stdout",
          "output_type": "stream",
          "text": [
            "[CV] END SVC__C=0.001, SVC__gamma=0.046415888336127774, SVC__kernel=linear; total time=  17.7s\n"
          ]
        },
        {
          "name": "stderr",
          "output_type": "stream",
          "text": [
            "/usr/local/lib/python3.11/dist-packages/sklearn/metrics/_classification.py:1565: UndefinedMetricWarning: Precision is ill-defined and being set to 0.0 in labels with no predicted samples. Use `zero_division` parameter to control this behavior.\n",
            "  _warn_prf(average, modifier, f\"{metric.capitalize()} is\", len(result))\n"
          ]
        },
        {
          "name": "stdout",
          "output_type": "stream",
          "text": [
            "[CV] END SVC__C=0.001, SVC__gamma=0.046415888336127774, SVC__kernel=linear; total time=  17.6s\n"
          ]
        },
        {
          "name": "stderr",
          "output_type": "stream",
          "text": [
            "/usr/local/lib/python3.11/dist-packages/sklearn/metrics/_classification.py:1565: UndefinedMetricWarning: Precision is ill-defined and being set to 0.0 in labels with no predicted samples. Use `zero_division` parameter to control this behavior.\n",
            "  _warn_prf(average, modifier, f\"{metric.capitalize()} is\", len(result))\n"
          ]
        },
        {
          "name": "stdout",
          "output_type": "stream",
          "text": [
            "[CV] END SVC__C=0.001, SVC__gamma=0.046415888336127774, SVC__kernel=linear; total time=  17.8s\n",
            "[CV] END SVC__C=0.21544346900318823, SVC__gamma=0.3593813663804626, SVC__kernel=poly; total time=  13.8s\n",
            "[CV] END SVC__C=0.21544346900318823, SVC__gamma=0.3593813663804626, SVC__kernel=poly; total time=  14.2s\n",
            "[CV] END SVC__C=0.21544346900318823, SVC__gamma=0.3593813663804626, SVC__kernel=poly; total time=  14.0s\n",
            "[CV] END SVC__C=0.21544346900318823, SVC__gamma=0.3593813663804626, SVC__kernel=poly; total time=  13.7s\n",
            "[CV] END SVC__C=0.21544346900318823, SVC__gamma=0.3593813663804626, SVC__kernel=poly; total time=  13.7s\n",
            "[CV] END SVC__C=0.21544346900318823, SVC__gamma=0.1291549665014884, SVC__kernel=rbf; total time=  17.6s\n",
            "[CV] END SVC__C=0.21544346900318823, SVC__gamma=0.1291549665014884, SVC__kernel=rbf; total time=  18.4s\n",
            "[CV] END SVC__C=0.21544346900318823, SVC__gamma=0.1291549665014884, SVC__kernel=rbf; total time=  17.4s\n",
            "[CV] END SVC__C=0.21544346900318823, SVC__gamma=0.1291549665014884, SVC__kernel=rbf; total time=  17.6s\n",
            "[CV] END SVC__C=0.21544346900318823, SVC__gamma=0.1291549665014884, SVC__kernel=rbf; total time=  17.5s\n",
            "[CV] END SVC__C=0.1, SVC__gamma=0.1291549665014884, SVC__kernel=rbf; total time=  18.4s\n"
          ]
        }
      ],
      "source": [
        "# Lista para almacenar información sobre cada configuración de modelo evaluada\n",
        "svm_info = []\n",
        "\n",
        "for combo in tqdm(product([True, False], repeat=3)):  # tqdm muestra una barra de progreso\n",
        "    make_outliers = combo[0]\n",
        "    balance = combo[1]\n",
        "    scale = combo[2]\n",
        "\n",
        "    # Se construye el conjunto de datos y pipeline de preprocesamiento+modelo según las opciones indicadas\n",
        "    X, y, pipeline = pipeline_maker(df, 'svm',\n",
        "                                    make_outliers=make_outliers,\n",
        "                                    balance=balance,\n",
        "                                    scale=scale)\n",
        "\n",
        "    # Se divide el dataset en entrenamiento y prueba con estratificación para mantener la proporción de clases\n",
        "    X_train, X_test, y_train, y_test = train_test_split(\n",
        "        X, y, test_size=0.2, stratify=y, random_state=42\n",
        "    )\n",
        "\n",
        "    # Definimos los hiperparámetros a explorar con RandomizedSearchCV\n",
        "    param_dist = {\n",
        "        'SVC__C': np.logspace(-3, 0, num = 10),\n",
        "        'SVC__kernel': ['linear', 'rbf', 'poly'],\n",
        "        'SVC__gamma': np.logspace(-2, 0, num = 10)\n",
        "    }\n",
        "\n",
        "    # Búsqueda aleatoria de hiperparámetros con validación cruzada 5-fold\n",
        "    grid = RandomizedSearchCV(\n",
        "        pipeline,\n",
        "        param_distributions=param_dist,\n",
        "        n_iter=10,  # Número de combinaciones aleatorias a evaluar\n",
        "        cv=5,  # Validación cruzada de 5 folds\n",
        "        scoring=['accuracy', 'precision_macro', 'recall_macro', 'f1_macro'],  # Métricas a evaluar\n",
        "        refit='f1_macro',  # Se selecciona como mejor modelo el que tenga mejor f1_macro\n",
        "        verbose=2,\n",
        "        random_state=42\n",
        "    )\n",
        "\n",
        "    # Entrenamos el modelo con los datos de entrenamiento\n",
        "    grid.fit(X_train, y_train.ravel())\n",
        "\n",
        "    # Mostramos los mejores parámetros y el mejor score obtenido en validación cruzada\n",
        "    print(\"Mejores parámetros encontrados:\", grid.best_params_)\n",
        "    print(f\"Mejor score CV: {grid.best_score_:.3f}\")\n",
        "\n",
        "    # Se predice sobre el conjunto de prueba\n",
        "    y_pred = grid.predict(X_test)\n",
        "\n",
        "    # Se guarda la información relevante del modelo en un diccionario\n",
        "    my_model_info = {\n",
        "        'best_params': grid.best_params_,  # Hiperparámetros óptimos encontrados\n",
        "        'best_model': grid.best_estimator_,  # Pipeline completo con mejores hiperparámetros\n",
        "        'metrics': {  # Métricas de desempeño sobre el conjunto de prueba\n",
        "            'accuracy': accuracy_score(y_test, y_pred),\n",
        "            'precision': precision_score(y_test, y_pred, average='macro', zero_division=0),\n",
        "            'recall': recall_score(y_test, y_pred, average='macro'),\n",
        "            'f1': f1_score(y_test, y_pred, average='macro')\n",
        "        },\n",
        "        'dataset_info': {  # Información sobre la configuración de preprocesamiento\n",
        "            'make_outliers': make_outliers,\n",
        "            'balance': balance,\n",
        "            'scale': scale\n",
        "        }\n",
        "    }\n",
        "\n",
        "    # Agregamos la información del modelo a la lista de resultados\n",
        "    svm_info.append(my_model_info)\n"
      ]
    },
    {
      "cell_type": "code",
      "execution_count": null,
      "id": "qziuAnmPs1Zy",
      "metadata": {
        "id": "qziuAnmPs1Zy"
      },
      "outputs": [],
      "source": [
        "[model['metrics'] for model in svm_info]"
      ]
    },
    {
      "cell_type": "markdown",
      "id": "3d0da152",
      "metadata": {},
      "source": [
        "# MODELOS NO SUPERVISADOS"
      ]
    },
    {
      "cell_type": "markdown",
      "id": "4746856b",
      "metadata": {},
      "source": [
        "## KMEANS"
      ]
    },
    {
      "cell_type": "code",
      "execution_count": 163,
      "id": "76e926e3",
      "metadata": {},
      "outputs": [],
      "source": [
        "results = {}\n",
        "\n",
        "# Recorremos todas las combinaciones de True y False\n",
        "for make_outliers in [True, False]:\n",
        "    for balance in [True, False]:\n",
        "        for scale in [True, False]:\n",
        "            \n",
        "            X, y, _ = pipeline_maker(df, 'kmeans', make_outliers=make_outliers, balance=balance, scale=scale)\n",
        "            X = pd.get_dummies(X)\n",
        "\n",
        "            X_train, X_test, y_train, y_test = train_test_split(\n",
        "                X, y, test_size=0.2, stratify=y, random_state=42)\n",
        "\n",
        "            # Scaling manual si se requiere\n",
        "            if scale:\n",
        "                scaler = StandardScaler()\n",
        "                X_train = scaler.fit_transform(X_train)\n",
        "                X_test = scaler.transform(X_test)\n",
        "\n",
        "            # Inicializar listas\n",
        "            inertia_list = []\n",
        "            silhouette_list = []\n",
        "\n",
        "            # Probar KMeans para k de 1 a 20\n",
        "            for k in range(2, 21):\n",
        "                kmeans = KMeans(n_clusters=k, random_state=42)\n",
        "                labels = kmeans.fit_predict(X_train)\n",
        "                inertia_list.append(kmeans.inertia_)\n",
        "\n",
        "                if k >= 2:\n",
        "                    silhouette = silhouette_score(X_train, labels)\n",
        "                else:\n",
        "                    silhouette = None  # No se define para k=1\n",
        "                silhouette_list.append(silhouette)\n",
        "\n",
        "            # Guardar resultados\n",
        "            key = f\"outliers_{make_outliers}_balance_{balance}_scale_{scale}\"\n",
        "            results[key] = {\n",
        "                \"inertia\": inertia_list,\n",
        "                \"silhouette\": silhouette_list\n",
        "            }\n",
        "\n",
        "            "
      ]
    },
    {
      "cell_type": "code",
      "execution_count": 164,
      "id": "6a659bc3",
      "metadata": {},
      "outputs": [
        {
          "data": {
            "image/png": "[encoded data removed]",
            "text/plain": [
              "<Figure size 1348.88x500 with 2 Axes>"
            ]
          },
          "metadata": {},
          "output_type": "display_data"
        }
      ],
      "source": [
        "# Tu diccionario (asegúrate de definirlo antes, lo puedes cargar como 'data')\n",
        "data = results\n",
        "# Preparar los datos en un DataFrame largo\n",
        "rows = []\n",
        "for config, metrics in data.items():\n",
        "    for metric_name, values in metrics.items():\n",
        "        for i, value in enumerate(values[1:], start=2):  # desde índice 2 hasta len(lista)\n",
        "            rows.append({\n",
        "                'Config': config,\n",
        "                'Metric': metric_name,\n",
        "                'Value': float(value),\n",
        "                'K': i\n",
        "            })\n",
        "\n",
        "df = pd.DataFrame(rows)\n",
        "\n",
        "# Crear la gráfica con seaborn: dos gráficas separadas por métrica\n",
        "sns.set(style=\"whitegrid\")\n",
        "g = sns.relplot(\n",
        "    data=df, \n",
        "    x='K', y='Value',\n",
        "    hue='Config',\n",
        "    col='Metric',\n",
        "    kind='line',\n",
        "    facet_kws={'sharey': False, 'sharex': True}\n",
        ")\n",
        "\n",
        "g.set_titles(col_template=\"{col_name}\")\n",
        "g.set_axis_labels(\"Número de Clusters (K)\", \"Valor de la métrica\")\n",
        "plt.show()"
      ]
    },
    {
      "cell_type": "code",
      "execution_count": 165,
      "id": "e027af99",
      "metadata": {},
      "outputs": [
        {
          "name": "stdout",
          "output_type": "stream",
          "text": [
            "Mejor configuración: outliers_False_balance_True_scale_False con k=10 y silhouette=0.957\n"
          ]
        },
        {
          "ename": "KeyError",
          "evalue": "'price_usd'",
          "output_type": "error",
          "traceback": [
            "\u001b[31m---------------------------------------------------------------------------\u001b[39m",
            "\u001b[31mKeyError\u001b[39m                                  Traceback (most recent call last)",
            "\u001b[36mFile \u001b[39m\u001b[32mc:\\Users\\d0ubt\\Documents\\git\\Practica2_introIA\\.venv\\Lib\\site-packages\\pandas\\core\\indexes\\base.py:3812\u001b[39m, in \u001b[36mIndex.get_loc\u001b[39m\u001b[34m(self, key)\u001b[39m\n\u001b[32m   3811\u001b[39m \u001b[38;5;28;01mtry\u001b[39;00m:\n\u001b[32m-> \u001b[39m\u001b[32m3812\u001b[39m     \u001b[38;5;28;01mreturn\u001b[39;00m \u001b[38;5;28;43mself\u001b[39;49m\u001b[43m.\u001b[49m\u001b[43m_engine\u001b[49m\u001b[43m.\u001b[49m\u001b[43mget_loc\u001b[49m\u001b[43m(\u001b[49m\u001b[43mcasted_key\u001b[49m\u001b[43m)\u001b[49m\n\u001b[32m   3813\u001b[39m \u001b[38;5;28;01mexcept\u001b[39;00m \u001b[38;5;167;01mKeyError\u001b[39;00m \u001b[38;5;28;01mas\u001b[39;00m err:\n",
            "\u001b[36mFile \u001b[39m\u001b[32mpandas/_libs/index.pyx:167\u001b[39m, in \u001b[36mpandas._libs.index.IndexEngine.get_loc\u001b[39m\u001b[34m()\u001b[39m\n",
            "\u001b[36mFile \u001b[39m\u001b[32mpandas/_libs/index.pyx:196\u001b[39m, in \u001b[36mpandas._libs.index.IndexEngine.get_loc\u001b[39m\u001b[34m()\u001b[39m\n",
            "\u001b[36mFile \u001b[39m\u001b[32mpandas/_libs/hashtable_class_helper.pxi:7088\u001b[39m, in \u001b[36mpandas._libs.hashtable.PyObjectHashTable.get_item\u001b[39m\u001b[34m()\u001b[39m\n",
            "\u001b[36mFile \u001b[39m\u001b[32mpandas/_libs/hashtable_class_helper.pxi:7096\u001b[39m, in \u001b[36mpandas._libs.hashtable.PyObjectHashTable.get_item\u001b[39m\u001b[34m()\u001b[39m\n",
            "\u001b[31mKeyError\u001b[39m: 'price_usd'",
            "\nThe above exception was the direct cause of the following exception:\n",
            "\u001b[31mKeyError\u001b[39m                                  Traceback (most recent call last)",
            "\u001b[36mCell\u001b[39m\u001b[36m \u001b[39m\u001b[32mIn[165]\u001b[39m\u001b[32m, line 30\u001b[39m\n\u001b[32m     27\u001b[39m best_balance = \u001b[33m\"\u001b[39m\u001b[33mbalance_True\u001b[39m\u001b[33m\"\u001b[39m \u001b[38;5;129;01min\u001b[39;00m best_config\n\u001b[32m     28\u001b[39m best_scale = \u001b[33m\"\u001b[39m\u001b[33mscale_True\u001b[39m\u001b[33m\"\u001b[39m \u001b[38;5;129;01min\u001b[39;00m best_config\n\u001b[32m---> \u001b[39m\u001b[32m30\u001b[39m X, y, _ = \u001b[43mpipeline_maker\u001b[49m\u001b[43m(\u001b[49m\u001b[43mdf\u001b[49m\u001b[43m,\u001b[49m\u001b[43m \u001b[49m\u001b[33;43m'\u001b[39;49m\u001b[33;43mkmeans\u001b[39;49m\u001b[33;43m'\u001b[39;49m\u001b[43m,\u001b[49m\n\u001b[32m     31\u001b[39m \u001b[43m                         \u001b[49m\u001b[43mmake_outliers\u001b[49m\u001b[43m=\u001b[49m\u001b[43mbest_outliers\u001b[49m\u001b[43m,\u001b[49m\n\u001b[32m     32\u001b[39m \u001b[43m                         \u001b[49m\u001b[43mbalance\u001b[49m\u001b[43m=\u001b[49m\u001b[43mbest_balance\u001b[49m\u001b[43m,\u001b[49m\n\u001b[32m     33\u001b[39m \u001b[43m                         \u001b[49m\u001b[43mscale\u001b[49m\u001b[43m=\u001b[49m\u001b[43mbest_scale\u001b[49m\u001b[43m)\u001b[49m\n\u001b[32m     34\u001b[39m X = pd.get_dummies(X)\n\u001b[32m     36\u001b[39m \u001b[38;5;66;03m# 3️⃣  Divide y escala si corresponde\u001b[39;00m\n",
            "\u001b[36mCell\u001b[39m\u001b[36m \u001b[39m\u001b[32mIn[161]\u001b[39m\u001b[32m, line 11\u001b[39m, in \u001b[36mpipeline_maker\u001b[39m\u001b[34m(dataframe, model, y_label, make_outliers, balance, scale)\u001b[39m\n\u001b[32m      8\u001b[39m     data = outliers_maker(data, make_outliers=\u001b[38;5;28;01mFalse\u001b[39;00m)\n\u001b[32m     10\u001b[39m \u001b[38;5;66;03m# Encode target variable\u001b[39;00m\n\u001b[32m---> \u001b[39m\u001b[32m11\u001b[39m y = y_encoder(\u001b[43mdata\u001b[49m\u001b[43m[\u001b[49m\u001b[43my_label\u001b[49m\u001b[43m]\u001b[49m)\n\u001b[32m     12\u001b[39m X = data.drop(columns=[y_label])\n\u001b[32m     14\u001b[39m \u001b[38;5;66;03m# lista donde se almacenarán los steps a usar\u001b[39;00m\n",
            "\u001b[36mFile \u001b[39m\u001b[32mc:\\Users\\d0ubt\\Documents\\git\\Practica2_introIA\\.venv\\Lib\\site-packages\\pandas\\core\\frame.py:4107\u001b[39m, in \u001b[36mDataFrame.__getitem__\u001b[39m\u001b[34m(self, key)\u001b[39m\n\u001b[32m   4105\u001b[39m \u001b[38;5;28;01mif\u001b[39;00m \u001b[38;5;28mself\u001b[39m.columns.nlevels > \u001b[32m1\u001b[39m:\n\u001b[32m   4106\u001b[39m     \u001b[38;5;28;01mreturn\u001b[39;00m \u001b[38;5;28mself\u001b[39m._getitem_multilevel(key)\n\u001b[32m-> \u001b[39m\u001b[32m4107\u001b[39m indexer = \u001b[38;5;28;43mself\u001b[39;49m\u001b[43m.\u001b[49m\u001b[43mcolumns\u001b[49m\u001b[43m.\u001b[49m\u001b[43mget_loc\u001b[49m\u001b[43m(\u001b[49m\u001b[43mkey\u001b[49m\u001b[43m)\u001b[49m\n\u001b[32m   4108\u001b[39m \u001b[38;5;28;01mif\u001b[39;00m is_integer(indexer):\n\u001b[32m   4109\u001b[39m     indexer = [indexer]\n",
            "\u001b[36mFile \u001b[39m\u001b[32mc:\\Users\\d0ubt\\Documents\\git\\Practica2_introIA\\.venv\\Lib\\site-packages\\pandas\\core\\indexes\\base.py:3819\u001b[39m, in \u001b[36mIndex.get_loc\u001b[39m\u001b[34m(self, key)\u001b[39m\n\u001b[32m   3814\u001b[39m     \u001b[38;5;28;01mif\u001b[39;00m \u001b[38;5;28misinstance\u001b[39m(casted_key, \u001b[38;5;28mslice\u001b[39m) \u001b[38;5;129;01mor\u001b[39;00m (\n\u001b[32m   3815\u001b[39m         \u001b[38;5;28misinstance\u001b[39m(casted_key, abc.Iterable)\n\u001b[32m   3816\u001b[39m         \u001b[38;5;129;01mand\u001b[39;00m \u001b[38;5;28many\u001b[39m(\u001b[38;5;28misinstance\u001b[39m(x, \u001b[38;5;28mslice\u001b[39m) \u001b[38;5;28;01mfor\u001b[39;00m x \u001b[38;5;129;01min\u001b[39;00m casted_key)\n\u001b[32m   3817\u001b[39m     ):\n\u001b[32m   3818\u001b[39m         \u001b[38;5;28;01mraise\u001b[39;00m InvalidIndexError(key)\n\u001b[32m-> \u001b[39m\u001b[32m3819\u001b[39m     \u001b[38;5;28;01mraise\u001b[39;00m \u001b[38;5;167;01mKeyError\u001b[39;00m(key) \u001b[38;5;28;01mfrom\u001b[39;00m\u001b[38;5;250m \u001b[39m\u001b[34;01merr\u001b[39;00m\n\u001b[32m   3820\u001b[39m \u001b[38;5;28;01mexcept\u001b[39;00m \u001b[38;5;167;01mTypeError\u001b[39;00m:\n\u001b[32m   3821\u001b[39m     \u001b[38;5;66;03m# If we have a listlike key, _check_indexing_error will raise\u001b[39;00m\n\u001b[32m   3822\u001b[39m     \u001b[38;5;66;03m#  InvalidIndexError. Otherwise we fall through and re-raise\u001b[39;00m\n\u001b[32m   3823\u001b[39m     \u001b[38;5;66;03m#  the TypeError.\u001b[39;00m\n\u001b[32m   3824\u001b[39m     \u001b[38;5;28mself\u001b[39m._check_indexing_error(key)\n",
            "\u001b[31mKeyError\u001b[39m: 'price_usd'"
          ]
        }
      ],
      "source": [
        "import numpy as np\n",
        "import matplotlib.pyplot as plt\n",
        "from sklearn.decomposition import PCA\n",
        "from sklearn.manifold import TSNE\n",
        "\n",
        "# 1️⃣  Encuentra la mejor configuración usando la métrica de silhouette promedio\n",
        "best_score = -1\n",
        "best_config = None\n",
        "best_k = None\n",
        "\n",
        "for key, value in results.items():\n",
        "    silhouettes = value[\"silhouette\"]\n",
        "    # Silhouette puede tener valores None, filtramos\n",
        "    valid_silhouettes = [s for s in silhouettes if s is not None]\n",
        "    max_silhouette = max(valid_silhouettes)\n",
        "    k = valid_silhouettes.index(max_silhouette) + 2  # +2 porque empiezas en k=2\n",
        "    if max_silhouette > best_score:\n",
        "        best_score = max_silhouette\n",
        "        best_config = key\n",
        "        best_k = k\n",
        "\n",
        "print(f\"Mejor configuración: {best_config} con k={best_k} y silhouette={best_score:.3f}\")\n",
        "\n",
        "# 2️⃣  Reconstruye los datos con esa configuración\n",
        "# Parseamos configuración\n",
        "best_outliers = \"outliers_True\" in best_config\n",
        "best_balance = \"balance_True\" in best_config\n",
        "best_scale = \"scale_True\" in best_config\n",
        "\n",
        "X, y, _ = pipeline_maker(df, 'kmeans',\n",
        "                         make_outliers=best_outliers,\n",
        "                         balance=best_balance,\n",
        "                         scale=best_scale)\n",
        "X = pd.get_dummies(X)\n",
        "\n",
        "# 3️⃣  Divide y escala si corresponde\n",
        "X_train, X_test, y_train, y_test = train_test_split(\n",
        "    X, y, test_size=0.2, stratify=y, random_state=42)\n",
        "\n",
        "if best_scale:\n",
        "    scaler = StandardScaler()\n",
        "    X_train = scaler.fit_transform(X_train)\n",
        "    X_test = scaler.transform(X_test)\n",
        "\n",
        "# 4️⃣  Ajusta KMeans con el mejor k\n",
        "kmeans = KMeans(n_clusters=best_k, random_state=42)\n",
        "labels = kmeans.fit_predict(X_train)\n",
        "\n",
        "# 5️⃣  Reduce a 2D con PCA o TSNE\n",
        "# PCA es rápido; TSNE es más detallado pero lento\n",
        "# Aquí uso PCA:\n",
        "pca = PCA(n_components=2)\n",
        "X_2D = pca.fit_transform(X_train)\n",
        "\n",
        "# 6️⃣  Grafica\n",
        "plt.figure(figsize=(10, 6))\n",
        "scatter = plt.scatter(X_2D[:, 0], X_2D[:, 1], c=labels, cmap='tab10', alpha=0.7)\n",
        "plt.title(f'Clusters del mejor modelo\\n{best_config} con k={best_k}')\n",
        "plt.xlabel('PCA 1')\n",
        "plt.ylabel('PCA 2')\n",
        "plt.colorbar(scatter, label='Cluster')\n",
        "plt.show()"
      ]
    },
    {
      "cell_type": "markdown",
      "id": "61143794",
      "metadata": {},
      "source": [
        "## DBSCAN"
      ]
    },
    {
      "cell_type": "code",
      "execution_count": 166,
      "id": "d291d193",
      "metadata": {},
      "outputs": [
        {
          "ename": "KeyError",
          "evalue": "'price_usd'",
          "output_type": "error",
          "traceback": [
            "\u001b[31m---------------------------------------------------------------------------\u001b[39m",
            "\u001b[31mKeyError\u001b[39m                                  Traceback (most recent call last)",
            "\u001b[36mFile \u001b[39m\u001b[32mc:\\Users\\d0ubt\\Documents\\git\\Practica2_introIA\\.venv\\Lib\\site-packages\\pandas\\core\\indexes\\base.py:3812\u001b[39m, in \u001b[36mIndex.get_loc\u001b[39m\u001b[34m(self, key)\u001b[39m\n\u001b[32m   3811\u001b[39m \u001b[38;5;28;01mtry\u001b[39;00m:\n\u001b[32m-> \u001b[39m\u001b[32m3812\u001b[39m     \u001b[38;5;28;01mreturn\u001b[39;00m \u001b[38;5;28;43mself\u001b[39;49m\u001b[43m.\u001b[49m\u001b[43m_engine\u001b[49m\u001b[43m.\u001b[49m\u001b[43mget_loc\u001b[49m\u001b[43m(\u001b[49m\u001b[43mcasted_key\u001b[49m\u001b[43m)\u001b[49m\n\u001b[32m   3813\u001b[39m \u001b[38;5;28;01mexcept\u001b[39;00m \u001b[38;5;167;01mKeyError\u001b[39;00m \u001b[38;5;28;01mas\u001b[39;00m err:\n",
            "\u001b[36mFile \u001b[39m\u001b[32mpandas/_libs/index.pyx:167\u001b[39m, in \u001b[36mpandas._libs.index.IndexEngine.get_loc\u001b[39m\u001b[34m()\u001b[39m\n",
            "\u001b[36mFile \u001b[39m\u001b[32mpandas/_libs/index.pyx:196\u001b[39m, in \u001b[36mpandas._libs.index.IndexEngine.get_loc\u001b[39m\u001b[34m()\u001b[39m\n",
            "\u001b[36mFile \u001b[39m\u001b[32mpandas/_libs/hashtable_class_helper.pxi:7088\u001b[39m, in \u001b[36mpandas._libs.hashtable.PyObjectHashTable.get_item\u001b[39m\u001b[34m()\u001b[39m\n",
            "\u001b[36mFile \u001b[39m\u001b[32mpandas/_libs/hashtable_class_helper.pxi:7096\u001b[39m, in \u001b[36mpandas._libs.hashtable.PyObjectHashTable.get_item\u001b[39m\u001b[34m()\u001b[39m\n",
            "\u001b[31mKeyError\u001b[39m: 'price_usd'",
            "\nThe above exception was the direct cause of the following exception:\n",
            "\u001b[31mKeyError\u001b[39m                                  Traceback (most recent call last)",
            "\u001b[36mCell\u001b[39m\u001b[36m \u001b[39m\u001b[32mIn[166]\u001b[39m\u001b[32m, line 12\u001b[39m\n\u001b[32m      8\u001b[39m \u001b[38;5;28;01mfor\u001b[39;00m balance \u001b[38;5;129;01min\u001b[39;00m [\u001b[38;5;28;01mTrue\u001b[39;00m, \u001b[38;5;28;01mFalse\u001b[39;00m]:\n\u001b[32m      9\u001b[39m     \u001b[38;5;28;01mfor\u001b[39;00m scale \u001b[38;5;129;01min\u001b[39;00m [\u001b[38;5;28;01mTrue\u001b[39;00m, \u001b[38;5;28;01mFalse\u001b[39;00m]:\n\u001b[32m     10\u001b[39m \n\u001b[32m     11\u001b[39m         \u001b[38;5;66;03m# Preprocesamiento de datos\u001b[39;00m\n\u001b[32m---> \u001b[39m\u001b[32m12\u001b[39m         X, y, _ = \u001b[43mpipeline_maker\u001b[49m\u001b[43m(\u001b[49m\u001b[43mdf\u001b[49m\u001b[43m,\u001b[49m\u001b[43m \u001b[49m\u001b[33;43m'\u001b[39;49m\u001b[33;43mkmeans\u001b[39;49m\u001b[33;43m'\u001b[39;49m\u001b[43m,\u001b[49m\u001b[43m \u001b[49m\u001b[43mmake_outliers\u001b[49m\u001b[43m=\u001b[49m\u001b[43mmake_outliers\u001b[49m\u001b[43m,\u001b[49m\u001b[43m \u001b[49m\u001b[43mbalance\u001b[49m\u001b[43m=\u001b[49m\u001b[43mbalance\u001b[49m\u001b[43m,\u001b[49m\u001b[43m \u001b[49m\u001b[43mscale\u001b[49m\u001b[43m=\u001b[49m\u001b[43mscale\u001b[49m\u001b[43m)\u001b[49m\n\u001b[32m     13\u001b[39m         X = pd.get_dummies(X)\n\u001b[32m     15\u001b[39m         \u001b[38;5;66;03m# División train-test (usamos solo X_train para clustering)\u001b[39;00m\n",
            "\u001b[36mCell\u001b[39m\u001b[36m \u001b[39m\u001b[32mIn[161]\u001b[39m\u001b[32m, line 11\u001b[39m, in \u001b[36mpipeline_maker\u001b[39m\u001b[34m(dataframe, model, y_label, make_outliers, balance, scale)\u001b[39m\n\u001b[32m      8\u001b[39m     data = outliers_maker(data, make_outliers=\u001b[38;5;28;01mFalse\u001b[39;00m)\n\u001b[32m     10\u001b[39m \u001b[38;5;66;03m# Encode target variable\u001b[39;00m\n\u001b[32m---> \u001b[39m\u001b[32m11\u001b[39m y = y_encoder(\u001b[43mdata\u001b[49m\u001b[43m[\u001b[49m\u001b[43my_label\u001b[49m\u001b[43m]\u001b[49m)\n\u001b[32m     12\u001b[39m X = data.drop(columns=[y_label])\n\u001b[32m     14\u001b[39m \u001b[38;5;66;03m# lista donde se almacenarán los steps a usar\u001b[39;00m\n",
            "\u001b[36mFile \u001b[39m\u001b[32mc:\\Users\\d0ubt\\Documents\\git\\Practica2_introIA\\.venv\\Lib\\site-packages\\pandas\\core\\frame.py:4107\u001b[39m, in \u001b[36mDataFrame.__getitem__\u001b[39m\u001b[34m(self, key)\u001b[39m\n\u001b[32m   4105\u001b[39m \u001b[38;5;28;01mif\u001b[39;00m \u001b[38;5;28mself\u001b[39m.columns.nlevels > \u001b[32m1\u001b[39m:\n\u001b[32m   4106\u001b[39m     \u001b[38;5;28;01mreturn\u001b[39;00m \u001b[38;5;28mself\u001b[39m._getitem_multilevel(key)\n\u001b[32m-> \u001b[39m\u001b[32m4107\u001b[39m indexer = \u001b[38;5;28;43mself\u001b[39;49m\u001b[43m.\u001b[49m\u001b[43mcolumns\u001b[49m\u001b[43m.\u001b[49m\u001b[43mget_loc\u001b[49m\u001b[43m(\u001b[49m\u001b[43mkey\u001b[49m\u001b[43m)\u001b[49m\n\u001b[32m   4108\u001b[39m \u001b[38;5;28;01mif\u001b[39;00m is_integer(indexer):\n\u001b[32m   4109\u001b[39m     indexer = [indexer]\n",
            "\u001b[36mFile \u001b[39m\u001b[32mc:\\Users\\d0ubt\\Documents\\git\\Practica2_introIA\\.venv\\Lib\\site-packages\\pandas\\core\\indexes\\base.py:3819\u001b[39m, in \u001b[36mIndex.get_loc\u001b[39m\u001b[34m(self, key)\u001b[39m\n\u001b[32m   3814\u001b[39m     \u001b[38;5;28;01mif\u001b[39;00m \u001b[38;5;28misinstance\u001b[39m(casted_key, \u001b[38;5;28mslice\u001b[39m) \u001b[38;5;129;01mor\u001b[39;00m (\n\u001b[32m   3815\u001b[39m         \u001b[38;5;28misinstance\u001b[39m(casted_key, abc.Iterable)\n\u001b[32m   3816\u001b[39m         \u001b[38;5;129;01mand\u001b[39;00m \u001b[38;5;28many\u001b[39m(\u001b[38;5;28misinstance\u001b[39m(x, \u001b[38;5;28mslice\u001b[39m) \u001b[38;5;28;01mfor\u001b[39;00m x \u001b[38;5;129;01min\u001b[39;00m casted_key)\n\u001b[32m   3817\u001b[39m     ):\n\u001b[32m   3818\u001b[39m         \u001b[38;5;28;01mraise\u001b[39;00m InvalidIndexError(key)\n\u001b[32m-> \u001b[39m\u001b[32m3819\u001b[39m     \u001b[38;5;28;01mraise\u001b[39;00m \u001b[38;5;167;01mKeyError\u001b[39;00m(key) \u001b[38;5;28;01mfrom\u001b[39;00m\u001b[38;5;250m \u001b[39m\u001b[34;01merr\u001b[39;00m\n\u001b[32m   3820\u001b[39m \u001b[38;5;28;01mexcept\u001b[39;00m \u001b[38;5;167;01mTypeError\u001b[39;00m:\n\u001b[32m   3821\u001b[39m     \u001b[38;5;66;03m# If we have a listlike key, _check_indexing_error will raise\u001b[39;00m\n\u001b[32m   3822\u001b[39m     \u001b[38;5;66;03m#  InvalidIndexError. Otherwise we fall through and re-raise\u001b[39;00m\n\u001b[32m   3823\u001b[39m     \u001b[38;5;66;03m#  the TypeError.\u001b[39;00m\n\u001b[32m   3824\u001b[39m     \u001b[38;5;28mself\u001b[39m._check_indexing_error(key)\n",
            "\u001b[31mKeyError\u001b[39m: 'price_usd'"
          ]
        }
      ],
      "source": [
        "from sklearn.cluster import DBSCAN\n",
        "from sklearn.metrics import silhouette_score\n",
        "import numpy as np\n",
        "\n",
        "results = {}\n",
        "\n",
        "for make_outliers in [True, False]:\n",
        "    for balance in [True, False]:\n",
        "        for scale in [True, False]:\n",
        "            \n",
        "            # Preprocesamiento de datos\n",
        "            X, y, _ = pipeline_maker(df, 'kmeans', make_outliers=make_outliers, balance=balance, scale=scale)\n",
        "            X = pd.get_dummies(X)\n",
        "            \n",
        "            # División train-test (usamos solo X_train para clustering)\n",
        "            X_train, X_test, y_train, y_test = train_test_split(\n",
        "                X, y, test_size=0.2, stratify=y, random_state=42)\n",
        "            \n",
        "            # Escalado manual si es necesario\n",
        "            if scale:\n",
        "                scaler = StandardScaler()\n",
        "                X_train = scaler.fit_transform(X_train)\n",
        "                X_test = scaler.transform(X_test)\n",
        "            \n",
        "            # Definir rangos de parámetros para DBSCAN\n",
        "            eps_values = [0.1, 0.5, 1.0, 1.5, 2.0] if scale else [1, 5, 10, 50, 100]\n",
        "            min_samples_values = [5, 10, 15]\n",
        "            \n",
        "            best_silhouette = -1  # Valor inicial (Silhouette Score varía en [-1, 1])\n",
        "            best_eps = None\n",
        "            best_min_samples = None\n",
        "            best_n_clusters = None\n",
        "            \n",
        "            # Probar combinaciones de parámetros para DBSCAN\n",
        "            for eps in eps_values:\n",
        "                for min_samples in min_samples_values:\n",
        "                    db = DBSCAN(eps=eps, min_samples=min_samples)\n",
        "                    labels = db.fit_predict(X_train)\n",
        "                    \n",
        "                    # Identificar clusters válidos (excluyendo ruido: etiqueta -1)\n",
        "                    unique_labels = set(labels)\n",
        "                    n_clusters = len(unique_labels) - (1 if -1 in unique_labels else 0)\n",
        "                    \n",
        "                    # Requerimos al menos 2 clusters para calcular Silhouette\n",
        "                    if n_clusters < 2:\n",
        "                        continue\n",
        "                    \n",
        "                    # Filtrar puntos no ruidosos\n",
        "                    mask = labels != -1\n",
        "                    labels_non_noise = labels[mask]\n",
        "                    \n",
        "                    # Verificar clusters válidos en puntos no ruidosos\n",
        "                    if len(set(labels_non_noise)) < 2:\n",
        "                        continue\n",
        "                    \n",
        "                    # Calcular Silhouette Score solo en puntos no ruidosos\n",
        "                    try:\n",
        "                        silhouette = silhouette_score(X_train[mask], labels_non_noise)\n",
        "                    except:\n",
        "                        continue\n",
        "                    \n",
        "                    # Actualizar mejor combinación si se mejora el score\n",
        "                    if silhouette > best_silhouette:\n",
        "                        best_silhouette = silhouette\n",
        "                        best_eps = eps\n",
        "                        best_min_samples = min_samples\n",
        "                        best_n_clusters = n_clusters\n",
        "            \n",
        "            # Guardar resultados\n",
        "            key = f\"outliers_{make_outliers}_balance_{balance}_scale_{scale}\"\n",
        "            results[key] = {\n",
        "                \"best_eps\": best_eps,\n",
        "                \"best_min_samples\": best_min_samples,\n",
        "                \"n_clusters\": best_n_clusters,\n",
        "                \"silhouette_score\": best_silhouette\n",
        "            }\n",
        "\n",
        "# Mostrar resultados\n",
        "for config, params in results.items():\n",
        "    print(f\"\\nConfiguración: {config}\")\n",
        "    print(f\"Mejor eps: {params['best_eps']}\")\n",
        "    print(f\"Mejor min_samples: {params['best_min_samples']}\")\n",
        "    print(f\"Número de clusters: {params['n_clusters']}\")\n",
        "    print(f\"Silhouette Score: {params['silhouette_score']:.3f}\")"
      ]
    },
    {
      "cell_type": "code",
      "execution_count": null,
      "id": "ce3202be",
      "metadata": {},
      "outputs": [],
      "source": []
    }
  ],
  "metadata": {
    "colab": {
      "provenance": [],
      "toc_visible": true
    },
    "kernelspec": {
      "display_name": ".venv",
      "language": "python",
      "name": "python3"
    },
    "language_info": {
      "codemirror_mode": {
        "name": "ipython",
        "version": 3
      },
      "file_extension": ".py",
      "mimetype": "text/x-python",
      "name": "python",
      "nbconvert_exporter": "python",
      "pygments_lexer": "ipython3",
      "version": "3.13.1"
    },
    "widgets": {
      "application/vnd.jupyter.widget-state+json": {
        "03338a96815f4aa0960ccf41f7eb2373": {
          "model_module": "@jupyter-widgets/base",
          "model_module_version": "1.2.0",
          "model_name": "LayoutModel",
          "state": {
            "_model_module": "@jupyter-widgets/base",
            "_model_module_version": "1.2.0",
            "_model_name": "LayoutModel",
            "_view_count": null,
            "_view_module": "@jupyter-widgets/base",
            "_view_module_version": "1.2.0",
            "_view_name": "LayoutView",
            "align_content": null,
            "align_items": null,
            "align_self": null,
            "border": null,
            "bottom": null,
            "display": null,
            "flex": null,
            "flex_flow": null,
            "grid_area": null,
            "grid_auto_columns": null,
            "grid_auto_flow": null,
            "grid_auto_rows": null,
            "grid_column": null,
            "grid_gap": null,
            "grid_row": null,
            "grid_template_areas": null,
            "grid_template_columns": null,
            "grid_template_rows": null,
            "height": null,
            "justify_content": null,
            "justify_items": null,
            "left": null,
            "margin": null,
            "max_height": null,
            "max_width": null,
            "min_height": null,
            "min_width": null,
            "object_fit": null,
            "object_position": null,
            "order": null,
            "overflow": null,
            "overflow_x": null,
            "overflow_y": null,
            "padding": null,
            "right": null,
            "top": null,
            "visibility": null,
            "width": null
          }
        },
        "0deb86981ed14cd986005d707d947c68": {
          "model_module": "@jupyter-widgets/base",
          "model_module_version": "1.2.0",
          "model_name": "LayoutModel",
          "state": {
            "_model_module": "@jupyter-widgets/base",
            "_model_module_version": "1.2.0",
            "_model_name": "LayoutModel",
            "_view_count": null,
            "_view_module": "@jupyter-widgets/base",
            "_view_module_version": "1.2.0",
            "_view_name": "LayoutView",
            "align_content": null,
            "align_items": null,
            "align_self": null,
            "border": null,
            "bottom": null,
            "display": null,
            "flex": null,
            "flex_flow": null,
            "grid_area": null,
            "grid_auto_columns": null,
            "grid_auto_flow": null,
            "grid_auto_rows": null,
            "grid_column": null,
            "grid_gap": null,
            "grid_row": null,
            "grid_template_areas": null,
            "grid_template_columns": null,
            "grid_template_rows": null,
            "height": null,
            "justify_content": null,
            "justify_items": null,
            "left": null,
            "margin": null,
            "max_height": null,
            "max_width": null,
            "min_height": null,
            "min_width": null,
            "object_fit": null,
            "object_position": null,
            "order": null,
            "overflow": null,
            "overflow_x": null,
            "overflow_y": null,
            "padding": null,
            "right": null,
            "top": null,
            "visibility": null,
            "width": "20px"
          }
        },
        "1303777e696841ae887c38037b415fde": {
          "model_module": "@jupyter-widgets/controls",
          "model_module_version": "1.5.0",
          "model_name": "ProgressStyleModel",
          "state": {
            "_model_module": "@jupyter-widgets/controls",
            "_model_module_version": "1.5.0",
            "_model_name": "ProgressStyleModel",
            "_view_count": null,
            "_view_module": "@jupyter-widgets/base",
            "_view_module_version": "1.2.0",
            "_view_name": "StyleView",
            "bar_color": null,
            "description_width": ""
          }
        },
        "1e588fc076ad4de5861459b1de1279a4": {
          "model_module": "@jupyter-widgets/controls",
          "model_module_version": "1.5.0",
          "model_name": "DescriptionStyleModel",
          "state": {
            "_model_module": "@jupyter-widgets/controls",
            "_model_module_version": "1.5.0",
            "_model_name": "DescriptionStyleModel",
            "_view_count": null,
            "_view_module": "@jupyter-widgets/base",
            "_view_module_version": "1.2.0",
            "_view_name": "StyleView",
            "description_width": ""
          }
        },
        "3446311eab5841c19b9f2f4010e622e5": {
          "model_module": "@jupyter-widgets/base",
          "model_module_version": "1.2.0",
          "model_name": "LayoutModel",
          "state": {
            "_model_module": "@jupyter-widgets/base",
            "_model_module_version": "1.2.0",
            "_model_name": "LayoutModel",
            "_view_count": null,
            "_view_module": "@jupyter-widgets/base",
            "_view_module_version": "1.2.0",
            "_view_name": "LayoutView",
            "align_content": null,
            "align_items": null,
            "align_self": null,
            "border": null,
            "bottom": null,
            "display": null,
            "flex": null,
            "flex_flow": null,
            "grid_area": null,
            "grid_auto_columns": null,
            "grid_auto_flow": null,
            "grid_auto_rows": null,
            "grid_column": null,
            "grid_gap": null,
            "grid_row": null,
            "grid_template_areas": null,
            "grid_template_columns": null,
            "grid_template_rows": null,
            "height": null,
            "justify_content": null,
            "justify_items": null,
            "left": null,
            "margin": null,
            "max_height": null,
            "max_width": null,
            "min_height": null,
            "min_width": null,
            "object_fit": null,
            "object_position": null,
            "order": null,
            "overflow": null,
            "overflow_x": null,
            "overflow_y": null,
            "padding": null,
            "right": null,
            "top": null,
            "visibility": null,
            "width": null
          }
        },
        "5cbd362918be43a88f7f968576abb24a": {
          "model_module": "@jupyter-widgets/controls",
          "model_module_version": "1.5.0",
          "model_name": "HBoxModel",
          "state": {
            "_dom_classes": [],
            "_model_module": "@jupyter-widgets/controls",
            "_model_module_version": "1.5.0",
            "_model_name": "HBoxModel",
            "_view_count": null,
            "_view_module": "@jupyter-widgets/controls",
            "_view_module_version": "1.5.0",
            "_view_name": "HBoxView",
            "box_style": "",
            "children": [
              "IPY_MODEL_f859d2adc0db42e0904ad015d9c02ffe",
              "IPY_MODEL_f59ffa2a815148ea9b3a1a0cb684d973",
              "IPY_MODEL_6760fe8061994a8181057275bf92e06a"
            ],
            "layout": "IPY_MODEL_fd45d5e3556e41bda581a2a7352cb902"
          }
        },
        "6760fe8061994a8181057275bf92e06a": {
          "model_module": "@jupyter-widgets/controls",
          "model_module_version": "1.5.0",
          "model_name": "HTMLModel",
          "state": {
            "_dom_classes": [],
            "_model_module": "@jupyter-widgets/controls",
            "_model_module_version": "1.5.0",
            "_model_name": "HTMLModel",
            "_view_count": null,
            "_view_module": "@jupyter-widgets/controls",
            "_view_module_version": "1.5.0",
            "_view_name": "HTMLView",
            "description": "",
            "description_tooltip": null,
            "layout": "IPY_MODEL_03338a96815f4aa0960ccf41f7eb2373",
            "placeholder": "​",
            "style": "IPY_MODEL_b021737875b64843bde3bf445bf0e3aa",
            "value": " 1/? [08:06&lt;00:00, 486.82s/it]"
          }
        },
        "b021737875b64843bde3bf445bf0e3aa": {
          "model_module": "@jupyter-widgets/controls",
          "model_module_version": "1.5.0",
          "model_name": "DescriptionStyleModel",
          "state": {
            "_model_module": "@jupyter-widgets/controls",
            "_model_module_version": "1.5.0",
            "_model_name": "DescriptionStyleModel",
            "_view_count": null,
            "_view_module": "@jupyter-widgets/base",
            "_view_module_version": "1.2.0",
            "_view_name": "StyleView",
            "description_width": ""
          }
        },
        "f59ffa2a815148ea9b3a1a0cb684d973": {
          "model_module": "@jupyter-widgets/controls",
          "model_module_version": "1.5.0",
          "model_name": "FloatProgressModel",
          "state": {
            "_dom_classes": [],
            "_model_module": "@jupyter-widgets/controls",
            "_model_module_version": "1.5.0",
            "_model_name": "FloatProgressModel",
            "_view_count": null,
            "_view_module": "@jupyter-widgets/controls",
            "_view_module_version": "1.5.0",
            "_view_name": "ProgressView",
            "bar_style": "info",
            "description": "",
            "description_tooltip": null,
            "layout": "IPY_MODEL_0deb86981ed14cd986005d707d947c68",
            "max": 1,
            "min": 0,
            "orientation": "horizontal",
            "style": "IPY_MODEL_1303777e696841ae887c38037b415fde",
            "value": 1
          }
        },
        "f859d2adc0db42e0904ad015d9c02ffe": {
          "model_module": "@jupyter-widgets/controls",
          "model_module_version": "1.5.0",
          "model_name": "HTMLModel",
          "state": {
            "_dom_classes": [],
            "_model_module": "@jupyter-widgets/controls",
            "_model_module_version": "1.5.0",
            "_model_name": "HTMLModel",
            "_view_count": null,
            "_view_module": "@jupyter-widgets/controls",
            "_view_module_version": "1.5.0",
            "_view_name": "HTMLView",
            "description": "",
            "description_tooltip": null,
            "layout": "IPY_MODEL_3446311eab5841c19b9f2f4010e622e5",
            "placeholder": "​",
            "style": "IPY_MODEL_1e588fc076ad4de5861459b1de1279a4",
            "value": ""
          }
        },
        "fd45d5e3556e41bda581a2a7352cb902": {
          "model_module": "@jupyter-widgets/base",
          "model_module_version": "1.2.0",
          "model_name": "LayoutModel",
          "state": {
            "_model_module": "@jupyter-widgets/base",
            "_model_module_version": "1.2.0",
            "_model_name": "LayoutModel",
            "_view_count": null,
            "_view_module": "@jupyter-widgets/base",
            "_view_module_version": "1.2.0",
            "_view_name": "LayoutView",
            "align_content": null,
            "align_items": null,
            "align_self": null,
            "border": null,
            "bottom": null,
            "display": null,
            "flex": null,
            "flex_flow": null,
            "grid_area": null,
            "grid_auto_columns": null,
            "grid_auto_flow": null,
            "grid_auto_rows": null,
            "grid_column": null,
            "grid_gap": null,
            "grid_row": null,
            "grid_template_areas": null,
            "grid_template_columns": null,
            "grid_template_rows": null,
            "height": null,
            "justify_content": null,
            "justify_items": null,
            "left": null,
            "margin": null,
            "max_height": null,
            "max_width": null,
            "min_height": null,
            "min_width": null,
            "object_fit": null,
            "object_position": null,
            "order": null,
            "overflow": null,
            "overflow_x": null,
            "overflow_y": null,
            "padding": null,
            "right": null,
            "top": null,
            "visibility": null,
            "width": null
          }
        }
      }
    }
  },
  "nbformat": 4,
  "nbformat_minor": 5
}
