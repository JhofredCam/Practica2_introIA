{
 "cells": [
  {
   "cell_type": "markdown",
   "id": "3bf62055",
   "metadata": {},
   "source": [
    "# Trabajo 2 - IA\n",
    "\n",
    "Resumen aqui\n"
   ]
  },
  {
   "cell_type": "code",
   "execution_count": null,
   "id": "058f52fe",
   "metadata": {},
   "outputs": [
    {
     "name": "stdout",
     "output_type": "stream",
     "text": [
      "(999997, 21)\n"
     ]
    }
   ],
   "source": [
    "import kagglehub\n",
    "import pandas as pd\n",
    "import matplotlib.pyplot as plt\n",
    "import seaborn as sns\n",
    "import numpy as np"
   ]
  },
  {
   "cell_type": "code",
   "execution_count": 10,
   "id": "63be99bf",
   "metadata": {},
   "outputs": [],
   "source": [
    "path = kagglehub.dataset_download(\"neuralsorcerer/student-performance\", path=\"test.csv\")\n",
    "\n",
    "df = pd.read_csv(path)\n",
    "df = df.sample(n = 50_000, axis = 0)"
   ]
  }
 ],
 "metadata": {
  "kernelspec": {
   "display_name": ".venv",
   "language": "python",
   "name": "python3"
  },
  "language_info": {
   "codemirror_mode": {
    "name": "ipython",
    "version": 3
   },
   "file_extension": ".py",
   "mimetype": "text/x-python",
   "name": "python",
   "nbconvert_exporter": "python",
   "pygments_lexer": "ipython3",
   "version": "3.13.1"
  }
 },
 "nbformat": 4,
 "nbformat_minor": 5
}
