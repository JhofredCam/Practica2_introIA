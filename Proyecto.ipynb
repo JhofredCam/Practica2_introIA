{
  "cells": [
    {
      "cell_type": "markdown",
      "id": "3bf62055",
      "metadata": {
        "id": "3bf62055"
      },
      "source": [
        "# Trabajo 2 - IA\n",
        "\n",
        "Resumen aqui\n"
      ]
    },
    {
      "cell_type": "code",
      "execution_count": 55,
      "id": "UcVvVTSQLTVP",
      "metadata": {
        "colab": {
          "base_uri": "https://localhost:8080/"
        },
        "id": "UcVvVTSQLTVP",
        "outputId": "d0e27ebb-028d-4f71-edac-6635f955523e"
      },
      "outputs": [
        {
          "name": "stdout",
          "output_type": "stream",
          "text": [
            "Requirement already satisfied: imblearn in c:\\users\\d0ubt\\documents\\git\\practica2_introia\\.venv\\lib\\site-packages (0.0)\n",
            "Requirement already satisfied: imbalanced-learn in c:\\users\\d0ubt\\documents\\git\\practica2_introia\\.venv\\lib\\site-packages (from imblearn) (0.13.0)\n",
            "Requirement already satisfied: numpy<3,>=1.24.3 in c:\\users\\d0ubt\\documents\\git\\practica2_introia\\.venv\\lib\\site-packages (from imbalanced-learn->imblearn) (2.3.0)\n",
            "Requirement already satisfied: scipy<2,>=1.10.1 in c:\\users\\d0ubt\\documents\\git\\practica2_introia\\.venv\\lib\\site-packages (from imbalanced-learn->imblearn) (1.15.3)\n",
            "Requirement already satisfied: scikit-learn<2,>=1.3.2 in c:\\users\\d0ubt\\documents\\git\\practica2_introia\\.venv\\lib\\site-packages (from imbalanced-learn->imblearn) (1.6.1)\n",
            "Requirement already satisfied: sklearn-compat<1,>=0.1 in c:\\users\\d0ubt\\documents\\git\\practica2_introia\\.venv\\lib\\site-packages (from imbalanced-learn->imblearn) (0.1.3)\n",
            "Requirement already satisfied: joblib<2,>=1.1.1 in c:\\users\\d0ubt\\documents\\git\\practica2_introia\\.venv\\lib\\site-packages (from imbalanced-learn->imblearn) (1.5.1)\n",
            "Requirement already satisfied: threadpoolctl<4,>=2.0.0 in c:\\users\\d0ubt\\documents\\git\\practica2_introia\\.venv\\lib\\site-packages (from imbalanced-learn->imblearn) (3.6.0)\n"
          ]
        },
        {
          "name": "stderr",
          "output_type": "stream",
          "text": [
            "\n",
            "[notice] A new release of pip is available: 24.3.1 -> 25.1.1\n",
            "[notice] To update, run: python.exe -m pip install --upgrade pip\n"
          ]
        }
      ],
      "source": [
        "!pip install imblearn"
      ]
    },
    {
      "cell_type": "code",
      "execution_count": 56,
      "id": "s4yMINRpfsTY",
      "metadata": {
        "id": "s4yMINRpfsTY"
      },
      "outputs": [],
      "source": [
        "import kagglehub\n",
        "\n",
        "import pandas as pd\n",
        "import matplotlib.pyplot as plt\n",
        "import seaborn as sns\n",
        "import numpy as np\n",
        "\n",
        "import scipy.stats as stats\n",
        "from scipy.stats import shapiro\n",
        "\n",
        "from sklearn.preprocessing import StandardScaler, OneHotEncoder, OrdinalEncoder\n",
        "\n",
        "# supervised\n",
        "from sklearn.neighbors import KNeighborsClassifier\n",
        "from sklearn.tree import DecisionTreeClassifier\n",
        "from sklearn.svm import SVC\n",
        "\n",
        "# unsupervised\n",
        "from sklearn.cluster import KMeans\n",
        "from sklearn.cluster import DBSCAN\n",
        "\n",
        "from sklearn.model_selection import train_test_split, GridSearchCV, RandomizedSearchCV\n",
        "from sklearn.metrics import classification_report, precision_score, accuracy_score, recall_score, f1_score\n",
        "from sklearn.feature_selection import SelectKBest, f_classif\n",
        "from sklearn.pipeline import Pipeline\n",
        "from sklearn.compose import ColumnTransformer\n",
        "\n",
        "# custom transformers\n",
        "\n",
        "from sklearn.base import BaseEstimator, TransformerMixin\n",
        "\n",
        "# balanceo\n",
        "\n",
        "from imblearn.over_sampling import SMOTE\n",
        "from imblearn.pipeline import Pipeline as imbPipeline\n",
        "\n",
        "from itertools import product\n",
        "from tqdm.notebook import tqdm"
      ]
    },
    {
      "cell_type": "code",
      "execution_count": 57,
      "id": "vwAU5__mfsTZ",
      "metadata": {
        "id": "vwAU5__mfsTZ"
      },
      "outputs": [],
      "source": [
        "path = kagglehub.dataset_download(\"therohithanand/used-car-price-prediction\", path=\"used_car_price_dataset_extended.csv\")\n",
        "\n",
        "raw_df = pd.read_csv(path)\n",
        "raw_df = raw_df.reset_index(drop=True)"
      ]
    },
    {
      "cell_type": "markdown",
      "id": "rotPprGqfsTb",
      "metadata": {
        "id": "rotPprGqfsTb"
      },
      "source": [
        "### Limpiando el Dataframe"
      ]
    },
    {
      "cell_type": "code",
      "execution_count": 58,
      "id": "OYUmyOJAfsTb",
      "metadata": {
        "colab": {
          "base_uri": "https://localhost:8080/",
          "height": 226
        },
        "id": "OYUmyOJAfsTb",
        "outputId": "404dc809-918d-4a08-86d1-c61ebb3fb02d"
      },
      "outputs": [
        {
          "data": {
            "text/html": [
              "<div>\n",
              "<style scoped>\n",
              "    .dataframe tbody tr th:only-of-type {\n",
              "        vertical-align: middle;\n",
              "    }\n",
              "\n",
              "    .dataframe tbody tr th {\n",
              "        vertical-align: top;\n",
              "    }\n",
              "\n",
              "    .dataframe thead th {\n",
              "        text-align: right;\n",
              "    }\n",
              "</style>\n",
              "<table border=\"1\" class=\"dataframe\">\n",
              "  <thead>\n",
              "    <tr style=\"text-align: right;\">\n",
              "      <th></th>\n",
              "      <th>make_year</th>\n",
              "      <th>mileage_kmpl</th>\n",
              "      <th>engine_cc</th>\n",
              "      <th>fuel_type</th>\n",
              "      <th>owner_count</th>\n",
              "      <th>price_usd</th>\n",
              "      <th>brand</th>\n",
              "      <th>transmission</th>\n",
              "      <th>accidents_reported</th>\n",
              "      <th>insurance_valid</th>\n",
              "    </tr>\n",
              "  </thead>\n",
              "  <tbody>\n",
              "    <tr>\n",
              "      <th>0</th>\n",
              "      <td>2001</td>\n",
              "      <td>8.17</td>\n",
              "      <td>4000</td>\n",
              "      <td>Petrol</td>\n",
              "      <td>4</td>\n",
              "      <td>8587.64</td>\n",
              "      <td>Chevrolet</td>\n",
              "      <td>Manual</td>\n",
              "      <td>0</td>\n",
              "      <td>No</td>\n",
              "    </tr>\n",
              "    <tr>\n",
              "      <th>1</th>\n",
              "      <td>2014</td>\n",
              "      <td>17.59</td>\n",
              "      <td>1500</td>\n",
              "      <td>Petrol</td>\n",
              "      <td>4</td>\n",
              "      <td>5943.50</td>\n",
              "      <td>Honda</td>\n",
              "      <td>Manual</td>\n",
              "      <td>0</td>\n",
              "      <td>Yes</td>\n",
              "    </tr>\n",
              "    <tr>\n",
              "      <th>2</th>\n",
              "      <td>2023</td>\n",
              "      <td>18.09</td>\n",
              "      <td>2500</td>\n",
              "      <td>Diesel</td>\n",
              "      <td>5</td>\n",
              "      <td>9273.58</td>\n",
              "      <td>BMW</td>\n",
              "      <td>Automatic</td>\n",
              "      <td>1</td>\n",
              "      <td>Yes</td>\n",
              "    </tr>\n",
              "    <tr>\n",
              "      <th>3</th>\n",
              "      <td>2009</td>\n",
              "      <td>11.28</td>\n",
              "      <td>800</td>\n",
              "      <td>Petrol</td>\n",
              "      <td>1</td>\n",
              "      <td>6836.24</td>\n",
              "      <td>Hyundai</td>\n",
              "      <td>Manual</td>\n",
              "      <td>0</td>\n",
              "      <td>Yes</td>\n",
              "    </tr>\n",
              "    <tr>\n",
              "      <th>4</th>\n",
              "      <td>2005</td>\n",
              "      <td>12.23</td>\n",
              "      <td>1000</td>\n",
              "      <td>Petrol</td>\n",
              "      <td>2</td>\n",
              "      <td>4625.79</td>\n",
              "      <td>Nissan</td>\n",
              "      <td>Automatic</td>\n",
              "      <td>0</td>\n",
              "      <td>Yes</td>\n",
              "    </tr>\n",
              "  </tbody>\n",
              "</table>\n",
              "</div>"
            ],
            "text/plain": [
              "   make_year  mileage_kmpl  engine_cc fuel_type  owner_count  price_usd  \\\n",
              "0       2001          8.17       4000    Petrol            4    8587.64   \n",
              "1       2014         17.59       1500    Petrol            4    5943.50   \n",
              "2       2023         18.09       2500    Diesel            5    9273.58   \n",
              "3       2009         11.28        800    Petrol            1    6836.24   \n",
              "4       2005         12.23       1000    Petrol            2    4625.79   \n",
              "\n",
              "       brand transmission  accidents_reported insurance_valid  \n",
              "0  Chevrolet       Manual                   0              No  \n",
              "1      Honda       Manual                   0             Yes  \n",
              "2        BMW    Automatic                   1             Yes  \n",
              "3    Hyundai       Manual                   0             Yes  \n",
              "4     Nissan    Automatic                   0             Yes  "
            ]
          },
          "execution_count": 58,
          "metadata": {},
          "output_type": "execute_result"
        }
      ],
      "source": [
        "df = raw_df.copy()\n",
        "df = df.drop(columns=['color', 'service_history'])\n",
        "df.head()"
      ]
    },
    {
      "cell_type": "markdown",
      "id": "cQu2mbYO3umO",
      "metadata": {
        "id": "cQu2mbYO3umO"
      },
      "source": [
        "Se verifica si la variable respuesta es normal o no para elegir el método de balanceo de datos"
      ]
    },
    {
      "cell_type": "code",
      "execution_count": 59,
      "id": "wLC-VbMlxoiM",
      "metadata": {
        "colab": {
          "base_uri": "https://localhost:8080/",
          "height": 448
        },
        "id": "wLC-VbMlxoiM",
        "outputId": "f53d8959-e973-4066-c91f-253049373fdf"
      },
      "outputs": [
        {
          "data": {
            "text/plain": [
              "<Axes: >"
            ]
          },
          "execution_count": 59,
          "metadata": {},
          "output_type": "execute_result"
        },
        {
          "data": {
            "image/png": "[encoded data removed]",
            "text/plain": [
              "<Figure size 640x480 with 1 Axes>"
            ]
          },
          "metadata": {},
          "output_type": "display_data"
        }
      ],
      "source": [
        "df['price_usd'].hist(bins=100)"
      ]
    },
    {
      "cell_type": "code",
      "execution_count": 60,
      "id": "oD2GGJH61V5A",
      "metadata": {
        "colab": {
          "base_uri": "https://localhost:8080/"
        },
        "id": "oD2GGJH61V5A",
        "outputId": "31564fdd-4e60-42af-a04b-c23c86a760ee"
      },
      "outputs": [
        {
          "name": "stdout",
          "output_type": "stream",
          "text": [
            "Estadístico W: 0.9907063127964498\n",
            "Valor p: 5.045010001757812e-25\n",
            "No parece una distribución normal (se rechaza H0)\n"
          ]
        },
        {
          "name": "stderr",
          "output_type": "stream",
          "text": [
            "c:\\Users\\d0ubt\\Documents\\git\\Practica2_introIA\\.venv\\Lib\\site-packages\\scipy\\stats\\_axis_nan_policy.py:586: UserWarning: scipy.stats.shapiro: For N > 5000, computed p-value may not be accurate. Current N is 10000.\n",
            "  res = hypotest_fun_out(*samples, **kwds)\n"
          ]
        }
      ],
      "source": [
        "# Ejecutar la prueba de Shapiro-Wilk\n",
        "stat, p_value = shapiro(df['price_usd'])\n",
        "\n",
        "# Mostrar resultados\n",
        "print(f'Estadístico W: {stat}')\n",
        "print(f'Valor p: {p_value}')\n",
        "\n",
        "# Interpretación\n",
        "if p_value > 0.05:\n",
        "    print(\"Parece una distribución normal (no se rechaza H0)\")\n",
        "else:\n",
        "    print(\"No parece una distribución normal (se rechaza H0)\")"
      ]
    },
    {
      "cell_type": "code",
      "execution_count": 61,
      "id": "3ODuT-oZfsTd",
      "metadata": {
        "colab": {
          "base_uri": "https://localhost:8080/"
        },
        "id": "3ODuT-oZfsTd",
        "outputId": "d4c6dcc2-7167-4fe6-8340-f74e0b5c9c8c"
      },
      "outputs": [
        {
          "name": "stdout",
          "output_type": "stream",
          "text": [
            "['engine_cc' 'make_year' 'owner_count' 'mileage_kmpl' 'accidents_reported']\n"
          ]
        }
      ],
      "source": [
        "cols_priority = (df.corr(numeric_only=True).abs()['price_usd'].sort_values(ascending=False)).index[1:]\n",
        "print(cols_priority.values)"
      ]
    },
    {
      "cell_type": "code",
      "execution_count": 26,
      "id": "M9tCDCbT4c9O",
      "metadata": {
        "colab": {
          "base_uri": "https://localhost:8080/",
          "height": 210
        },
        "id": "M9tCDCbT4c9O",
        "outputId": "03bf1d2b-bec9-403f-9fe5-e000cb561f06"
      },
      "outputs": [
        {
          "data": {
            "text/html": [
              "<div>\n",
              "<style scoped>\n",
              "    .dataframe tbody tr th:only-of-type {\n",
              "        vertical-align: middle;\n",
              "    }\n",
              "\n",
              "    .dataframe tbody tr th {\n",
              "        vertical-align: top;\n",
              "    }\n",
              "\n",
              "    .dataframe thead th {\n",
              "        text-align: right;\n",
              "    }\n",
              "</style>\n",
              "<table border=\"1\" class=\"dataframe\">\n",
              "  <thead>\n",
              "    <tr style=\"text-align: right;\">\n",
              "      <th></th>\n",
              "      <th>count</th>\n",
              "    </tr>\n",
              "  </thead>\n",
              "  <tbody>\n",
              "    <tr>\n",
              "      <th>(983.351, 5161.908]</th>\n",
              "      <td>2478</td>\n",
              "    </tr>\n",
              "    <tr>\n",
              "      <th>(5161.908, 9323.815]</th>\n",
              "      <td>5365</td>\n",
              "    </tr>\n",
              "    <tr>\n",
              "      <th>(9323.815, 13485.722]</th>\n",
              "      <td>1960</td>\n",
              "    </tr>\n",
              "    <tr>\n",
              "      <th>(13485.722, 17647.63]</th>\n",
              "      <td>197</td>\n",
              "    </tr>\n",
              "  </tbody>\n",
              "</table>\n",
              "</div><br><label><b>dtype:</b> int64</label>"
            ],
            "text/plain": [
              "(983.351, 5161.908]      2478\n",
              "(5161.908, 9323.815]     5365\n",
              "(9323.815, 13485.722]    1960\n",
              "(13485.722, 17647.63]     197\n",
              "Name: count, dtype: int64"
            ]
          },
          "execution_count": 26,
          "metadata": {},
          "output_type": "execute_result"
        }
      ],
      "source": [
        "df['price_usd'].value_counts(bins=4).sort_index()"
      ]
    },
    {
      "cell_type": "code",
      "execution_count": 27,
      "id": "5GZXDFjK45vf",
      "metadata": {
        "colab": {
          "base_uri": "https://localhost:8080/",
          "height": 448
        },
        "id": "5GZXDFjK45vf",
        "outputId": "c073fd0c-613c-4eaf-b6d5-ecc5d58008b2"
      },
      "outputs": [
        {
          "data": {
            "text/plain": [
              "<Axes: >"
            ]
          },
          "execution_count": 27,
          "metadata": {},
          "output_type": "execute_result"
        },
        {
          "data": {
            "image/png": "[encoded data removed]",
            "text/plain": [
              "<Figure size 640x480 with 1 Axes>"
            ]
          },
          "metadata": {},
          "output_type": "display_data"
        }
      ],
      "source": [
        "df['price_usd'].hist(bins=4)"
      ]
    },
    {
      "cell_type": "code",
      "execution_count": 62,
      "id": "Rvj6UlHAfsTf",
      "metadata": {
        "colab": {
          "base_uri": "https://localhost:8080/",
          "height": 226
        },
        "id": "Rvj6UlHAfsTf",
        "outputId": "cb16ebd3-d993-40e6-cc66-94342f7b4c7b"
      },
      "outputs": [
        {
          "data": {
            "text/html": [
              "<div>\n",
              "<style scoped>\n",
              "    .dataframe tbody tr th:only-of-type {\n",
              "        vertical-align: middle;\n",
              "    }\n",
              "\n",
              "    .dataframe tbody tr th {\n",
              "        vertical-align: top;\n",
              "    }\n",
              "\n",
              "    .dataframe thead th {\n",
              "        text-align: right;\n",
              "    }\n",
              "</style>\n",
              "<table border=\"1\" class=\"dataframe\">\n",
              "  <thead>\n",
              "    <tr style=\"text-align: right;\">\n",
              "      <th></th>\n",
              "      <th>price_usd</th>\n",
              "      <th>make_year</th>\n",
              "      <th>mileage_kmpl</th>\n",
              "      <th>engine_cc</th>\n",
              "      <th>fuel_type</th>\n",
              "      <th>owner_count</th>\n",
              "      <th>brand</th>\n",
              "      <th>transmission</th>\n",
              "      <th>accidents_reported</th>\n",
              "      <th>insurance_valid</th>\n",
              "    </tr>\n",
              "  </thead>\n",
              "  <tbody>\n",
              "    <tr>\n",
              "      <th>0</th>\n",
              "      <td>Low</td>\n",
              "      <td>2001</td>\n",
              "      <td>8.17</td>\n",
              "      <td>4000</td>\n",
              "      <td>Petrol</td>\n",
              "      <td>4</td>\n",
              "      <td>Chevrolet</td>\n",
              "      <td>Manual</td>\n",
              "      <td>0</td>\n",
              "      <td>No</td>\n",
              "    </tr>\n",
              "    <tr>\n",
              "      <th>1</th>\n",
              "      <td>Low</td>\n",
              "      <td>2014</td>\n",
              "      <td>17.59</td>\n",
              "      <td>1500</td>\n",
              "      <td>Petrol</td>\n",
              "      <td>4</td>\n",
              "      <td>Honda</td>\n",
              "      <td>Manual</td>\n",
              "      <td>0</td>\n",
              "      <td>Yes</td>\n",
              "    </tr>\n",
              "    <tr>\n",
              "      <th>2</th>\n",
              "      <td>Low</td>\n",
              "      <td>2023</td>\n",
              "      <td>18.09</td>\n",
              "      <td>2500</td>\n",
              "      <td>Diesel</td>\n",
              "      <td>5</td>\n",
              "      <td>BMW</td>\n",
              "      <td>Automatic</td>\n",
              "      <td>1</td>\n",
              "      <td>Yes</td>\n",
              "    </tr>\n",
              "    <tr>\n",
              "      <th>3</th>\n",
              "      <td>Low</td>\n",
              "      <td>2009</td>\n",
              "      <td>11.28</td>\n",
              "      <td>800</td>\n",
              "      <td>Petrol</td>\n",
              "      <td>1</td>\n",
              "      <td>Hyundai</td>\n",
              "      <td>Manual</td>\n",
              "      <td>0</td>\n",
              "      <td>Yes</td>\n",
              "    </tr>\n",
              "    <tr>\n",
              "      <th>4</th>\n",
              "      <td>Very Low</td>\n",
              "      <td>2005</td>\n",
              "      <td>12.23</td>\n",
              "      <td>1000</td>\n",
              "      <td>Petrol</td>\n",
              "      <td>2</td>\n",
              "      <td>Nissan</td>\n",
              "      <td>Automatic</td>\n",
              "      <td>0</td>\n",
              "      <td>Yes</td>\n",
              "    </tr>\n",
              "  </tbody>\n",
              "</table>\n",
              "</div>"
            ],
            "text/plain": [
              "  price_usd  make_year  mileage_kmpl  engine_cc fuel_type  owner_count  \\\n",
              "0       Low       2001          8.17       4000    Petrol            4   \n",
              "1       Low       2014         17.59       1500    Petrol            4   \n",
              "2       Low       2023         18.09       2500    Diesel            5   \n",
              "3       Low       2009         11.28        800    Petrol            1   \n",
              "4  Very Low       2005         12.23       1000    Petrol            2   \n",
              "\n",
              "       brand transmission  accidents_reported insurance_valid  \n",
              "0  Chevrolet       Manual                   0              No  \n",
              "1      Honda       Manual                   0             Yes  \n",
              "2        BMW    Automatic                   1             Yes  \n",
              "3    Hyundai       Manual                   0             Yes  \n",
              "4     Nissan    Automatic                   0             Yes  "
            ]
          },
          "execution_count": 62,
          "metadata": {},
          "output_type": "execute_result"
        }
      ],
      "source": [
        "#Mapea los categorias\n",
        "#Convierte todo a categorias en vez de objetos\n",
        "categorical_cols = df.select_dtypes(include='object').columns\n",
        "\n",
        "df[categorical_cols] = df[categorical_cols].astype('category')\n",
        "\n",
        "# convierte la variable objetivo a categorica\n",
        "labels = ['Very Low', 'Low', 'Moderate', 'High']\n",
        "df['price_usd'] = pd.cut(df['price_usd'], bins=4, labels=labels, include_lowest=True)\n",
        "\n",
        "#Insertar variable dependiente de primero por comodidad\n",
        "price_serie = df['price_usd']\n",
        "df = df.drop(columns=['price_usd'])\n",
        "df.insert(0, 'price_usd', price_serie)\n",
        "\n",
        "df.head()\n"
      ]
    },
    {
      "cell_type": "code",
      "execution_count": 29,
      "id": "oyvLqF1J4Tes",
      "metadata": {
        "colab": {
          "base_uri": "https://localhost:8080/",
          "height": 468
        },
        "id": "oyvLqF1J4Tes",
        "outputId": "3388d12a-b3ec-469c-c9d7-ee030bcde3b3"
      },
      "outputs": [
        {
          "data": {
            "text/plain": [
              "<Axes: xlabel='price_usd', ylabel='count'>"
            ]
          },
          "execution_count": 29,
          "metadata": {},
          "output_type": "execute_result"
        },
        {
          "data": {
            "image/png": "[encoded data removed]",
            "text/plain": [
              "<Figure size 640x480 with 1 Axes>"
            ]
          },
          "metadata": {},
          "output_type": "display_data"
        }
      ],
      "source": [
        "sns.countplot(x='price_usd', data=df, order=labels)"
      ]
    },
    {
      "cell_type": "markdown",
      "id": "sO6KNKnSMJ1e",
      "metadata": {
        "id": "sO6KNKnSMJ1e"
      },
      "source": [
        "## Preprocesamiento"
      ]
    },
    {
      "cell_type": "code",
      "execution_count": 63,
      "id": "mBkozbCpl86p",
      "metadata": {
        "id": "mBkozbCpl86p"
      },
      "outputs": [],
      "source": [
        "class OutliersHandler(BaseEstimator, TransformerMixin):\n",
        "    \"\"\"\n",
        "    Transformer personalizado para el manejo de outliers en conjuntos de datos numéricos.\n",
        "\n",
        "    Este transformador permite dos modos de operación:\n",
        "    - Eliminación de outliers usando el criterio del rango intercuartílico (IQR).\n",
        "    - Generación de outliers sintéticos para asegurar que representen el 5% del total del dataset.\n",
        "\n",
        "    Parámetros\n",
        "    ----------\n",
        "    make_outliers : bool, default=False\n",
        "        Si es True, se generarán outliers sintéticos en lugar de eliminarlos.\n",
        "    \"\"\"\n",
        "    def __init__(self, make_outliers = False):\n",
        "        self.column_name = \"\"\n",
        "        self.make_outliers = make_outliers\n",
        "\n",
        "    def fit(self, X, y=None):\n",
        "        return self  # The fit method typically does nothing for transformers\n",
        "\n",
        "    def transform(self, X):\n",
        "        # Your transformation logic goes here\n",
        "        X_transformed = X.copy()  # Copy the input DataFrame to avoid modifying the original\n",
        "        X_transformed = self._make_outliers(X_transformed) if self.make_outliers else self._delete_outliers(X_transformed)\n",
        "\n",
        "        return X_transformed\n",
        "\n",
        "    # Elimina las filas, donde uno de los valores numericos este fuera de los intervalos\n",
        "    def _delete_outliers(self, df: pd.DataFrame):\n",
        "        float_cols = df.select_dtypes('float64').columns\n",
        "\n",
        "        for col in float_cols:\n",
        "            Q1 = df[col].quantile(0.25)\n",
        "            Q3 = df[col].quantile(0.75)\n",
        "\n",
        "            IQR = Q3 - Q1\n",
        "\n",
        "            lower_bound = Q1 - 1.5 * IQR\n",
        "            upper_bound = Q3 + 1.5 * IQR\n",
        "            df = df[(df[col] >= lower_bound) & (df[col] <= upper_bound)]\n",
        "\n",
        "        return df\n",
        "\n",
        "    def _make_outliers(self, df: pd.DataFrame, random_state: int = 42) -> pd.DataFrame:\n",
        "        \"\"\"\n",
        "        A partir del df original, detecta sus outliers y genera (replicándolos\n",
        "        y añadiendo un pequeño ruido) tantas tuplas como hagan falta para que\n",
        "        los outliers representen el 5% del total.\n",
        "\n",
        "        Parámetros:\n",
        "        - df: DataFrame de entrada.\n",
        "        - random_state: semilla para la aleatoriedad.\n",
        "\n",
        "        Retorna:\n",
        "        - DataFrame con 5% outliers o sin outliers.\n",
        "        \"\"\"\n",
        "        float_cols = df.select_dtypes(include='float64').columns\n",
        "\n",
        "        outlier_mask = pd.Series(False, index=df.index)\n",
        "        for col in float_cols:\n",
        "            Q1 = df[col].quantile(0.25)\n",
        "            Q3 = df[col].quantile(0.75)\n",
        "            IQR = Q3 - Q1\n",
        "            lower = Q1 - 1.5 * IQR\n",
        "            upper = Q3 + 1.5 * IQR\n",
        "            outlier_mask |= (df[col] < lower) | (df[col] > upper)\n",
        "\n",
        "        outliers = df[outlier_mask]\n",
        "        non_outliers = df[~outlier_mask]\n",
        "\n",
        "        total_orig = len(df)\n",
        "        n_outliers = len(outliers)\n",
        "        target_outliers = int(np.floor(0.05 * total_orig))\n",
        "\n",
        "        # Si hay menos outliers que el 5%, generamos más\n",
        "        needed = target_outliers - n_outliers\n",
        "        synth = outliers.sample(n=needed, replace=True, random_state=random_state)\n",
        "        # Clonamos los outliers existentes pero les añadimos  ruido\n",
        "        for col in float_cols:\n",
        "            sigma = df[col].std() * 0.01\n",
        "            synth[col] = synth[col] + np.random.RandomState(random_state).normal(0, sigma, size=needed)\n",
        "        result = pd.concat([df, synth], ignore_index=True)\n",
        "\n",
        "        return result\n"
      ]
    },
    {
      "cell_type": "code",
      "execution_count": 64,
      "id": "w-4V9SB8rXvH",
      "metadata": {
        "id": "w-4V9SB8rXvH"
      },
      "outputs": [],
      "source": [
        "def outliers_maker(data, make_outliers = False):\n",
        "    outliers = OutliersHandler(make_outliers=make_outliers)\n",
        "    return outliers.fit_transform(data)\n",
        "\n",
        "def scaler(X_train, X_test, columns):\n",
        "    # fit_transform en X_train y transform en X_test\n",
        "    X_train_scaled = X_train.copy()\n",
        "    X_test_scaled = X_test.copy()\n",
        "    std_scaler = StandardScaler()\n",
        "\n",
        "    X_train_scaled[columns] = std_scaler.fit_transform(X_train[columns])\n",
        "    X_test_scaled[columns] = std_scaler.transform(X_test[columns])\n",
        "\n",
        "    return X_train_scaled, X_test_scaled\n",
        "\n",
        "def X_encoder(X_train : pd.DataFrame, X_test : pd.DataFrame, columns : str):\n",
        "    # para X_train y X_test (despues de escalar)\n",
        "    X_train_encoded = X_train.copy()\n",
        "    X_test_encoded = X_test.copy()\n",
        "    oh_enc = OneHotEncoder(sparse_output=False)\n",
        "\n",
        "    # aplicar one_hot\n",
        "    X_train_cat = oh_enc.fit_transform(X_train[columns])\n",
        "    X_test_cat = oh_enc.transform(X_test[columns])\n",
        "\n",
        "    # Get feature names for the encoded columns\n",
        "    encoded_cat_features = oh_enc.get_feature_names_out(columns)\n",
        "\n",
        "    # Create DataFrames from encoded arrays\n",
        "    X_train_cat_df = pd.DataFrame(X_train_cat, index=X_train.index, columns=encoded_cat_features)\n",
        "    X_test_cat_df = pd.DataFrame(X_test_cat, index=X_test.index, columns=encoded_cat_features)\n",
        "\n",
        "    # juntar columnas con one_hot con el resto del dataframe\n",
        "    X_train_encoded = X_train_encoded.drop(columns = columns)\n",
        "    X_test_encoded = X_test_encoded.drop(columns = columns)\n",
        "    X_train_encoded = X_train_encoded.join(X_train_cat_df)\n",
        "    X_test_encoded = X_test_encoded.join(X_test_cat_df)\n",
        "\n",
        "    return X_train_encoded, X_test_encoded\n",
        "\n",
        "def y_encoder(y):\n",
        "    ord_enc = OrdinalEncoder(categories=[['Very Low', 'Low', 'Moderate', 'High']])\n",
        "\n",
        "    y_encoded = pd.DataFrame(y)\n",
        "\n",
        "    # aplicar ordinal_enc\n",
        "    y_encoded = ord_enc.fit_transform(y_encoded)\n",
        "\n",
        "    # print({i: cat for i, cat in enumerate(list(ord_enc.categories_[0]))})\n",
        "\n",
        "    return y_encoded\n",
        "\n",
        "def balancer(X_train, y_train):\n",
        "    smote = SMOTE(random_state=42)\n",
        "    return smote.fit_resample(X_train, y_train)\n"
      ]
    },
    {
      "cell_type": "code",
      "execution_count": 65,
      "id": "ndagJrSBoaEg",
      "metadata": {
        "id": "ndagJrSBoaEg"
      },
      "outputs": [],
      "source": [
        "def pipeline_maker(dataframe : pd.DataFrame, model : str, y_label : str = 'price_usd', make_outliers = False, balance = False, scale = False):\n",
        "    data = dataframe.copy()\n",
        "\n",
        "    # hacer outliers\n",
        "    if make_outliers == True:\n",
        "        data = outliers_maker(data, make_outliers=True)\n",
        "    else:\n",
        "        data = outliers_maker(data, make_outliers=False)\n",
        "\n",
        "    # Encode target variable\n",
        "    y = y_encoder(data[y_label])\n",
        "    X = data.drop(columns=[y_label])\n",
        "\n",
        "    # lista donde se almacenarán los steps a usar\n",
        "    steps = []\n",
        "\n",
        "    cat_features = X.select_dtypes(include='category').columns\n",
        "    num_features = X.select_dtypes(include='number').columns\n",
        "\n",
        "    # escalado de datos\n",
        "    if scale:\n",
        "        col_transformer = ColumnTransformer([\n",
        "            ('std_scaler', StandardScaler(), num_features),\n",
        "            ('one_hot', OneHotEncoder(), cat_features)\n",
        "        ])\n",
        "    else: # en caso de no escalar\n",
        "        col_transformer = ColumnTransformer([\n",
        "            ('one_hot', OneHotEncoder(), cat_features)\n",
        "        ])\n",
        "    steps.append(('preprocessor', col_transformer))\n",
        "\n",
        "    # balanceo con smote\n",
        "    if balance:\n",
        "        steps.append(\n",
        "            ('smote', SMOTE(random_state=42))\n",
        "            )\n",
        "\n",
        "    # seleccion de modelo\n",
        "    if model == 'svm':\n",
        "        steps.append(\n",
        "            ('SVC', SVC(random_state=42))\n",
        "        )\n",
        "    elif model == 'knn':\n",
        "        steps.append(\n",
        "            ('knn', KNeighborsClassifier())\n",
        "        )\n",
        "    elif model == 'tree':\n",
        "        steps.append(\n",
        "            ('decision_tree', DecisionTreeClassifier(random_state=42))\n",
        "        )\n",
        "    elif model == 'nn':\n",
        "        raise NotImplementedError(\"modelo no implementado\")\n",
        "        steps.append(\n",
        "            ('neural_network', None)\n",
        "        )\n",
        "    elif model == 'kmeans':\n",
        "        steps.append(\n",
        "            ('kmeans', KMeans())\n",
        "        )\n",
        "    elif model == 'dbscan':\n",
        "        steps.append(\n",
        "            ('dbscan', DBSCAN())\n",
        "        )\n",
        "    else:\n",
        "        raise ValueError(\"Ingrese uno de los siguientes: 'svm', 'knn', 'tree', 'nn', 'kmeans', 'dbscan'\")\n",
        "\n",
        "\n",
        "    pipeline = imbPipeline(steps)\n",
        "\n",
        "    return X, y, pipeline"
      ]
    },
    {
      "cell_type": "markdown",
      "id": "TnefCPKcXL4F",
      "metadata": {
        "id": "TnefCPKcXL4F"
      },
      "source": [
        "## 2. Aprendizaje Supervisado"
      ]
    },
    {
      "cell_type": "markdown",
      "id": "LjuDiW0pNYZj",
      "metadata": {
        "id": "LjuDiW0pNYZj"
      },
      "source": [
        "### 2.2. Entrenamiento con Árboles, KNN, SVM, y Redes Neuronales."
      ]
    },
    {
      "cell_type": "markdown",
      "id": "FwpIZp87XT4D",
      "metadata": {
        "id": "FwpIZp87XT4D"
      },
      "source": [
        "#### 2.2.1 KNN"
      ]
    },
    {
      "cell_type": "code",
      "execution_count": 66,
      "id": "TKoaCtNyNhTr",
      "metadata": {
        "colab": {
          "base_uri": "https://localhost:8080/"
        },
        "id": "TKoaCtNyNhTr",
        "outputId": "a6734469-d989-4bb8-a26a-df319a6c72b7"
      },
      "outputs": [
        {
          "name": "stderr",
          "output_type": "stream",
          "text": [
            "\r0it [00:00, ?it/s]"
          ]
        },
        {
          "name": "stdout",
          "output_type": "stream",
          "text": [
            "Fitting 5 folds for each of 10 candidates, totalling 50 fits\n",
            "Mejores parámetros encontrados: {'knn__n_neighbors': 14}\n",
            "Mejor score CV: 0.623\n"
          ]
        },
        {
          "name": "stderr",
          "output_type": "stream",
          "text": [
            "\r1it [00:12, 12.87s/it]"
          ]
        },
        {
          "name": "stdout",
          "output_type": "stream",
          "text": [
            "Fitting 5 folds for each of 10 candidates, totalling 50 fits\n",
            "Mejores parámetros encontrados: {'knn__n_neighbors': 23}\n",
            "Mejor score CV: 0.311\n"
          ]
        },
        {
          "name": "stderr",
          "output_type": "stream",
          "text": [
            "\r2it [01:11, 39.73s/it]"
          ]
        },
        {
          "name": "stdout",
          "output_type": "stream",
          "text": [
            "Fitting 5 folds for each of 10 candidates, totalling 50 fits\n"
          ]
        },
        {
          "name": "stderr",
          "output_type": "stream",
          "text": [
            "\r3it [01:17, 24.36s/it]"
          ]
        },
        {
          "name": "stdout",
          "output_type": "stream",
          "text": [
            "Mejores parámetros encontrados: {'knn__n_neighbors': 10}\n",
            "Mejor score CV: 0.635\n",
            "Fitting 5 folds for each of 10 candidates, totalling 50 fits\n"
          ]
        },
        {
          "name": "stderr",
          "output_type": "stream",
          "text": [
            "/usr/local/lib/python3.11/dist-packages/sklearn/metrics/_classification.py:1565: UndefinedMetricWarning: Precision is ill-defined and being set to 0.0 in labels with no predicted samples. Use `zero_division` parameter to control this behavior.\n",
            "  _warn_prf(average, modifier, f\"{metric.capitalize()} is\", len(result))\n",
            "/usr/local/lib/python3.11/dist-packages/sklearn/metrics/_classification.py:1565: UndefinedMetricWarning: Precision is ill-defined and being set to 0.0 in labels with no predicted samples. Use `zero_division` parameter to control this behavior.\n",
            "  _warn_prf(average, modifier, f\"{metric.capitalize()} is\", len(result))\n",
            "/usr/local/lib/python3.11/dist-packages/sklearn/metrics/_classification.py:1565: UndefinedMetricWarning: Precision is ill-defined and being set to 0.0 in labels with no predicted samples. Use `zero_division` parameter to control this behavior.\n",
            "  _warn_prf(average, modifier, f\"{metric.capitalize()} is\", len(result))\n",
            "/usr/local/lib/python3.11/dist-packages/sklearn/metrics/_classification.py:1565: UndefinedMetricWarning: Precision is ill-defined and being set to 0.0 in labels with no predicted samples. Use `zero_division` parameter to control this behavior.\n",
            "  _warn_prf(average, modifier, f\"{metric.capitalize()} is\", len(result))\n",
            "/usr/local/lib/python3.11/dist-packages/sklearn/metrics/_classification.py:1565: UndefinedMetricWarning: Precision is ill-defined and being set to 0.0 in labels with no predicted samples. Use `zero_division` parameter to control this behavior.\n",
            "  _warn_prf(average, modifier, f\"{metric.capitalize()} is\", len(result))\n",
            "/usr/local/lib/python3.11/dist-packages/sklearn/metrics/_classification.py:1565: UndefinedMetricWarning: Precision is ill-defined and being set to 0.0 in labels with no predicted samples. Use `zero_division` parameter to control this behavior.\n",
            "  _warn_prf(average, modifier, f\"{metric.capitalize()} is\", len(result))\n",
            "/usr/local/lib/python3.11/dist-packages/sklearn/metrics/_classification.py:1565: UndefinedMetricWarning: Precision is ill-defined and being set to 0.0 in labels with no predicted samples. Use `zero_division` parameter to control this behavior.\n",
            "  _warn_prf(average, modifier, f\"{metric.capitalize()} is\", len(result))\n",
            "/usr/local/lib/python3.11/dist-packages/sklearn/metrics/_classification.py:1565: UndefinedMetricWarning: Precision is ill-defined and being set to 0.0 in labels with no predicted samples. Use `zero_division` parameter to control this behavior.\n",
            "  _warn_prf(average, modifier, f\"{metric.capitalize()} is\", len(result))\n",
            "/usr/local/lib/python3.11/dist-packages/sklearn/metrics/_classification.py:1565: UndefinedMetricWarning: Precision is ill-defined and being set to 0.0 in labels with no predicted samples. Use `zero_division` parameter to control this behavior.\n",
            "  _warn_prf(average, modifier, f\"{metric.capitalize()} is\", len(result))\n",
            "/usr/local/lib/python3.11/dist-packages/sklearn/metrics/_classification.py:1565: UndefinedMetricWarning: Precision is ill-defined and being set to 0.0 in labels with no predicted samples. Use `zero_division` parameter to control this behavior.\n",
            "  _warn_prf(average, modifier, f\"{metric.capitalize()} is\", len(result))\n",
            "/usr/local/lib/python3.11/dist-packages/sklearn/metrics/_classification.py:1565: UndefinedMetricWarning: Precision is ill-defined and being set to 0.0 in labels with no predicted samples. Use `zero_division` parameter to control this behavior.\n",
            "  _warn_prf(average, modifier, f\"{metric.capitalize()} is\", len(result))\n",
            "/usr/local/lib/python3.11/dist-packages/sklearn/metrics/_classification.py:1565: UndefinedMetricWarning: Precision is ill-defined and being set to 0.0 in labels with no predicted samples. Use `zero_division` parameter to control this behavior.\n",
            "  _warn_prf(average, modifier, f\"{metric.capitalize()} is\", len(result))\n",
            "/usr/local/lib/python3.11/dist-packages/sklearn/metrics/_classification.py:1565: UndefinedMetricWarning: Precision is ill-defined and being set to 0.0 in labels with no predicted samples. Use `zero_division` parameter to control this behavior.\n",
            "  _warn_prf(average, modifier, f\"{metric.capitalize()} is\", len(result))\n",
            "/usr/local/lib/python3.11/dist-packages/sklearn/metrics/_classification.py:1565: UndefinedMetricWarning: Precision is ill-defined and being set to 0.0 in labels with no predicted samples. Use `zero_division` parameter to control this behavior.\n",
            "  _warn_prf(average, modifier, f\"{metric.capitalize()} is\", len(result))\n",
            "/usr/local/lib/python3.11/dist-packages/sklearn/metrics/_classification.py:1565: UndefinedMetricWarning: Precision is ill-defined and being set to 0.0 in labels with no predicted samples. Use `zero_division` parameter to control this behavior.\n",
            "  _warn_prf(average, modifier, f\"{metric.capitalize()} is\", len(result))\n",
            "/usr/local/lib/python3.11/dist-packages/sklearn/metrics/_classification.py:1565: UndefinedMetricWarning: Precision is ill-defined and being set to 0.0 in labels with no predicted samples. Use `zero_division` parameter to control this behavior.\n",
            "  _warn_prf(average, modifier, f\"{metric.capitalize()} is\", len(result))\n",
            "/usr/local/lib/python3.11/dist-packages/sklearn/metrics/_classification.py:1565: UndefinedMetricWarning: Precision is ill-defined and being set to 0.0 in labels with no predicted samples. Use `zero_division` parameter to control this behavior.\n",
            "  _warn_prf(average, modifier, f\"{metric.capitalize()} is\", len(result))\n",
            "/usr/local/lib/python3.11/dist-packages/sklearn/metrics/_classification.py:1565: UndefinedMetricWarning: Precision is ill-defined and being set to 0.0 in labels with no predicted samples. Use `zero_division` parameter to control this behavior.\n",
            "  _warn_prf(average, modifier, f\"{metric.capitalize()} is\", len(result))\n",
            "/usr/local/lib/python3.11/dist-packages/sklearn/metrics/_classification.py:1565: UndefinedMetricWarning: Precision is ill-defined and being set to 0.0 in labels with no predicted samples. Use `zero_division` parameter to control this behavior.\n",
            "  _warn_prf(average, modifier, f\"{metric.capitalize()} is\", len(result))\n",
            "/usr/local/lib/python3.11/dist-packages/sklearn/metrics/_classification.py:1565: UndefinedMetricWarning: Precision is ill-defined and being set to 0.0 in labels with no predicted samples. Use `zero_division` parameter to control this behavior.\n",
            "  _warn_prf(average, modifier, f\"{metric.capitalize()} is\", len(result))\n",
            "/usr/local/lib/python3.11/dist-packages/sklearn/metrics/_classification.py:1565: UndefinedMetricWarning: Precision is ill-defined and being set to 0.0 in labels with no predicted samples. Use `zero_division` parameter to control this behavior.\n",
            "  _warn_prf(average, modifier, f\"{metric.capitalize()} is\", len(result))\n",
            "/usr/local/lib/python3.11/dist-packages/sklearn/metrics/_classification.py:1565: UndefinedMetricWarning: Precision is ill-defined and being set to 0.0 in labels with no predicted samples. Use `zero_division` parameter to control this behavior.\n",
            "  _warn_prf(average, modifier, f\"{metric.capitalize()} is\", len(result))\n",
            "/usr/local/lib/python3.11/dist-packages/sklearn/metrics/_classification.py:1565: UndefinedMetricWarning: Precision is ill-defined and being set to 0.0 in labels with no predicted samples. Use `zero_division` parameter to control this behavior.\n",
            "  _warn_prf(average, modifier, f\"{metric.capitalize()} is\", len(result))\n",
            "/usr/local/lib/python3.11/dist-packages/sklearn/metrics/_classification.py:1565: UndefinedMetricWarning: Precision is ill-defined and being set to 0.0 in labels with no predicted samples. Use `zero_division` parameter to control this behavior.\n",
            "  _warn_prf(average, modifier, f\"{metric.capitalize()} is\", len(result))\n",
            "/usr/local/lib/python3.11/dist-packages/sklearn/metrics/_classification.py:1565: UndefinedMetricWarning: Precision is ill-defined and being set to 0.0 in labels with no predicted samples. Use `zero_division` parameter to control this behavior.\n",
            "  _warn_prf(average, modifier, f\"{metric.capitalize()} is\", len(result))\n",
            "/usr/local/lib/python3.11/dist-packages/sklearn/metrics/_classification.py:1565: UndefinedMetricWarning: Precision is ill-defined and being set to 0.0 in labels with no predicted samples. Use `zero_division` parameter to control this behavior.\n",
            "  _warn_prf(average, modifier, f\"{metric.capitalize()} is\", len(result))\n",
            "/usr/local/lib/python3.11/dist-packages/sklearn/metrics/_classification.py:1565: UndefinedMetricWarning: Precision is ill-defined and being set to 0.0 in labels with no predicted samples. Use `zero_division` parameter to control this behavior.\n",
            "  _warn_prf(average, modifier, f\"{metric.capitalize()} is\", len(result))\n",
            "/usr/local/lib/python3.11/dist-packages/sklearn/metrics/_classification.py:1565: UndefinedMetricWarning: Precision is ill-defined and being set to 0.0 in labels with no predicted samples. Use `zero_division` parameter to control this behavior.\n",
            "  _warn_prf(average, modifier, f\"{metric.capitalize()} is\", len(result))\n",
            "/usr/local/lib/python3.11/dist-packages/sklearn/metrics/_classification.py:1565: UndefinedMetricWarning: Precision is ill-defined and being set to 0.0 in labels with no predicted samples. Use `zero_division` parameter to control this behavior.\n",
            "  _warn_prf(average, modifier, f\"{metric.capitalize()} is\", len(result))\n",
            "/usr/local/lib/python3.11/dist-packages/sklearn/metrics/_classification.py:1565: UndefinedMetricWarning: Precision is ill-defined and being set to 0.0 in labels with no predicted samples. Use `zero_division` parameter to control this behavior.\n",
            "  _warn_prf(average, modifier, f\"{metric.capitalize()} is\", len(result))\n",
            "/usr/local/lib/python3.11/dist-packages/sklearn/metrics/_classification.py:1565: UndefinedMetricWarning: Precision is ill-defined and being set to 0.0 in labels with no predicted samples. Use `zero_division` parameter to control this behavior.\n",
            "  _warn_prf(average, modifier, f\"{metric.capitalize()} is\", len(result))\n",
            "/usr/local/lib/python3.11/dist-packages/sklearn/metrics/_classification.py:1565: UndefinedMetricWarning: Precision is ill-defined and being set to 0.0 in labels with no predicted samples. Use `zero_division` parameter to control this behavior.\n",
            "  _warn_prf(average, modifier, f\"{metric.capitalize()} is\", len(result))\n",
            "/usr/local/lib/python3.11/dist-packages/sklearn/metrics/_classification.py:1565: UndefinedMetricWarning: Precision is ill-defined and being set to 0.0 in labels with no predicted samples. Use `zero_division` parameter to control this behavior.\n",
            "  _warn_prf(average, modifier, f\"{metric.capitalize()} is\", len(result))\n",
            "/usr/local/lib/python3.11/dist-packages/sklearn/metrics/_classification.py:1565: UndefinedMetricWarning: Precision is ill-defined and being set to 0.0 in labels with no predicted samples. Use `zero_division` parameter to control this behavior.\n",
            "  _warn_prf(average, modifier, f\"{metric.capitalize()} is\", len(result))\n",
            "/usr/local/lib/python3.11/dist-packages/sklearn/metrics/_classification.py:1565: UndefinedMetricWarning: Precision is ill-defined and being set to 0.0 in labels with no predicted samples. Use `zero_division` parameter to control this behavior.\n",
            "  _warn_prf(average, modifier, f\"{metric.capitalize()} is\", len(result))\n"
          ]
        },
        {
          "name": "stdout",
          "output_type": "stream",
          "text": [
            "Mejores parámetros encontrados: {'knn__n_neighbors': 11}\n",
            "Mejor score CV: 0.285\n"
          ]
        },
        {
          "name": "stderr",
          "output_type": "stream",
          "text": [
            "\r4it [01:42, 24.52s/it]"
          ]
        },
        {
          "name": "stdout",
          "output_type": "stream",
          "text": [
            "Fitting 5 folds for each of 10 candidates, totalling 50 fits\n",
            "Mejores parámetros encontrados: {'knn__n_neighbors': 27}\n",
            "Mejor score CV: 0.630\n"
          ]
        },
        {
          "name": "stderr",
          "output_type": "stream",
          "text": [
            "\r5it [01:52, 19.24s/it]"
          ]
        },
        {
          "name": "stdout",
          "output_type": "stream",
          "text": [
            "Fitting 5 folds for each of 10 candidates, totalling 50 fits\n",
            "Mejores parámetros encontrados: {'knn__n_neighbors': 15}\n",
            "Mejor score CV: 0.286\n"
          ]
        },
        {
          "name": "stderr",
          "output_type": "stream",
          "text": [
            "\r6it [02:48, 32.04s/it]"
          ]
        },
        {
          "name": "stdout",
          "output_type": "stream",
          "text": [
            "Fitting 5 folds for each of 10 candidates, totalling 50 fits\n"
          ]
        },
        {
          "name": "stderr",
          "output_type": "stream",
          "text": [
            "/usr/local/lib/python3.11/dist-packages/sklearn/metrics/_classification.py:1565: UndefinedMetricWarning: Precision is ill-defined and being set to 0.0 in labels with no predicted samples. Use `zero_division` parameter to control this behavior.\n",
            "  _warn_prf(average, modifier, f\"{metric.capitalize()} is\", len(result))\n",
            "/usr/local/lib/python3.11/dist-packages/sklearn/metrics/_classification.py:1565: UndefinedMetricWarning: Precision is ill-defined and being set to 0.0 in labels with no predicted samples. Use `zero_division` parameter to control this behavior.\n",
            "  _warn_prf(average, modifier, f\"{metric.capitalize()} is\", len(result))\n",
            "/usr/local/lib/python3.11/dist-packages/sklearn/metrics/_classification.py:1565: UndefinedMetricWarning: Precision is ill-defined and being set to 0.0 in labels with no predicted samples. Use `zero_division` parameter to control this behavior.\n",
            "  _warn_prf(average, modifier, f\"{metric.capitalize()} is\", len(result))\n",
            "/usr/local/lib/python3.11/dist-packages/sklearn/metrics/_classification.py:1565: UndefinedMetricWarning: Precision is ill-defined and being set to 0.0 in labels with no predicted samples. Use `zero_division` parameter to control this behavior.\n",
            "  _warn_prf(average, modifier, f\"{metric.capitalize()} is\", len(result))\n",
            "/usr/local/lib/python3.11/dist-packages/sklearn/metrics/_classification.py:1565: UndefinedMetricWarning: Precision is ill-defined and being set to 0.0 in labels with no predicted samples. Use `zero_division` parameter to control this behavior.\n",
            "  _warn_prf(average, modifier, f\"{metric.capitalize()} is\", len(result))\n",
            "/usr/local/lib/python3.11/dist-packages/sklearn/metrics/_classification.py:1565: UndefinedMetricWarning: Precision is ill-defined and being set to 0.0 in labels with no predicted samples. Use `zero_division` parameter to control this behavior.\n",
            "  _warn_prf(average, modifier, f\"{metric.capitalize()} is\", len(result))\n",
            "/usr/local/lib/python3.11/dist-packages/sklearn/metrics/_classification.py:1565: UndefinedMetricWarning: Precision is ill-defined and being set to 0.0 in labels with no predicted samples. Use `zero_division` parameter to control this behavior.\n",
            "  _warn_prf(average, modifier, f\"{metric.capitalize()} is\", len(result))\n",
            "/usr/local/lib/python3.11/dist-packages/sklearn/metrics/_classification.py:1565: UndefinedMetricWarning: Precision is ill-defined and being set to 0.0 in labels with no predicted samples. Use `zero_division` parameter to control this behavior.\n",
            "  _warn_prf(average, modifier, f\"{metric.capitalize()} is\", len(result))\n",
            "/usr/local/lib/python3.11/dist-packages/sklearn/metrics/_classification.py:1565: UndefinedMetricWarning: Precision is ill-defined and being set to 0.0 in labels with no predicted samples. Use `zero_division` parameter to control this behavior.\n",
            "  _warn_prf(average, modifier, f\"{metric.capitalize()} is\", len(result))\n",
            "/usr/local/lib/python3.11/dist-packages/sklearn/metrics/_classification.py:1565: UndefinedMetricWarning: Precision is ill-defined and being set to 0.0 in labels with no predicted samples. Use `zero_division` parameter to control this behavior.\n",
            "  _warn_prf(average, modifier, f\"{metric.capitalize()} is\", len(result))\n",
            "/usr/local/lib/python3.11/dist-packages/sklearn/metrics/_classification.py:1565: UndefinedMetricWarning: Precision is ill-defined and being set to 0.0 in labels with no predicted samples. Use `zero_division` parameter to control this behavior.\n",
            "  _warn_prf(average, modifier, f\"{metric.capitalize()} is\", len(result))\n",
            "/usr/local/lib/python3.11/dist-packages/sklearn/metrics/_classification.py:1565: UndefinedMetricWarning: Precision is ill-defined and being set to 0.0 in labels with no predicted samples. Use `zero_division` parameter to control this behavior.\n",
            "  _warn_prf(average, modifier, f\"{metric.capitalize()} is\", len(result))\n",
            "/usr/local/lib/python3.11/dist-packages/sklearn/metrics/_classification.py:1565: UndefinedMetricWarning: Precision is ill-defined and being set to 0.0 in labels with no predicted samples. Use `zero_division` parameter to control this behavior.\n",
            "  _warn_prf(average, modifier, f\"{metric.capitalize()} is\", len(result))\n",
            "/usr/local/lib/python3.11/dist-packages/sklearn/metrics/_classification.py:1565: UndefinedMetricWarning: Precision is ill-defined and being set to 0.0 in labels with no predicted samples. Use `zero_division` parameter to control this behavior.\n",
            "  _warn_prf(average, modifier, f\"{metric.capitalize()} is\", len(result))\n",
            "/usr/local/lib/python3.11/dist-packages/sklearn/metrics/_classification.py:1565: UndefinedMetricWarning: Precision is ill-defined and being set to 0.0 in labels with no predicted samples. Use `zero_division` parameter to control this behavior.\n",
            "  _warn_prf(average, modifier, f\"{metric.capitalize()} is\", len(result))\n",
            "7it [02:55, 23.78s/it]"
          ]
        },
        {
          "name": "stdout",
          "output_type": "stream",
          "text": [
            "Mejores parámetros encontrados: {'knn__n_neighbors': 11}\n",
            "Mejor score CV: 0.571\n",
            "Fitting 5 folds for each of 10 candidates, totalling 50 fits\n"
          ]
        },
        {
          "name": "stderr",
          "output_type": "stream",
          "text": [
            "/usr/local/lib/python3.11/dist-packages/sklearn/metrics/_classification.py:1565: UndefinedMetricWarning: Precision is ill-defined and being set to 0.0 in labels with no predicted samples. Use `zero_division` parameter to control this behavior.\n",
            "  _warn_prf(average, modifier, f\"{metric.capitalize()} is\", len(result))\n",
            "/usr/local/lib/python3.11/dist-packages/sklearn/metrics/_classification.py:1565: UndefinedMetricWarning: Precision is ill-defined and being set to 0.0 in labels with no predicted samples. Use `zero_division` parameter to control this behavior.\n",
            "  _warn_prf(average, modifier, f\"{metric.capitalize()} is\", len(result))\n",
            "/usr/local/lib/python3.11/dist-packages/sklearn/metrics/_classification.py:1565: UndefinedMetricWarning: Precision is ill-defined and being set to 0.0 in labels with no predicted samples. Use `zero_division` parameter to control this behavior.\n",
            "  _warn_prf(average, modifier, f\"{metric.capitalize()} is\", len(result))\n",
            "/usr/local/lib/python3.11/dist-packages/sklearn/metrics/_classification.py:1565: UndefinedMetricWarning: Precision is ill-defined and being set to 0.0 in labels with no predicted samples. Use `zero_division` parameter to control this behavior.\n",
            "  _warn_prf(average, modifier, f\"{metric.capitalize()} is\", len(result))\n",
            "/usr/local/lib/python3.11/dist-packages/sklearn/metrics/_classification.py:1565: UndefinedMetricWarning: Precision is ill-defined and being set to 0.0 in labels with no predicted samples. Use `zero_division` parameter to control this behavior.\n",
            "  _warn_prf(average, modifier, f\"{metric.capitalize()} is\", len(result))\n",
            "/usr/local/lib/python3.11/dist-packages/sklearn/metrics/_classification.py:1565: UndefinedMetricWarning: Precision is ill-defined and being set to 0.0 in labels with no predicted samples. Use `zero_division` parameter to control this behavior.\n",
            "  _warn_prf(average, modifier, f\"{metric.capitalize()} is\", len(result))\n",
            "/usr/local/lib/python3.11/dist-packages/sklearn/metrics/_classification.py:1565: UndefinedMetricWarning: Precision is ill-defined and being set to 0.0 in labels with no predicted samples. Use `zero_division` parameter to control this behavior.\n",
            "  _warn_prf(average, modifier, f\"{metric.capitalize()} is\", len(result))\n",
            "/usr/local/lib/python3.11/dist-packages/sklearn/metrics/_classification.py:1565: UndefinedMetricWarning: Precision is ill-defined and being set to 0.0 in labels with no predicted samples. Use `zero_division` parameter to control this behavior.\n",
            "  _warn_prf(average, modifier, f\"{metric.capitalize()} is\", len(result))\n",
            "/usr/local/lib/python3.11/dist-packages/sklearn/metrics/_classification.py:1565: UndefinedMetricWarning: Precision is ill-defined and being set to 0.0 in labels with no predicted samples. Use `zero_division` parameter to control this behavior.\n",
            "  _warn_prf(average, modifier, f\"{metric.capitalize()} is\", len(result))\n",
            "/usr/local/lib/python3.11/dist-packages/sklearn/metrics/_classification.py:1565: UndefinedMetricWarning: Precision is ill-defined and being set to 0.0 in labels with no predicted samples. Use `zero_division` parameter to control this behavior.\n",
            "  _warn_prf(average, modifier, f\"{metric.capitalize()} is\", len(result))\n",
            "/usr/local/lib/python3.11/dist-packages/sklearn/metrics/_classification.py:1565: UndefinedMetricWarning: Precision is ill-defined and being set to 0.0 in labels with no predicted samples. Use `zero_division` parameter to control this behavior.\n",
            "  _warn_prf(average, modifier, f\"{metric.capitalize()} is\", len(result))\n",
            "/usr/local/lib/python3.11/dist-packages/sklearn/metrics/_classification.py:1565: UndefinedMetricWarning: Precision is ill-defined and being set to 0.0 in labels with no predicted samples. Use `zero_division` parameter to control this behavior.\n",
            "  _warn_prf(average, modifier, f\"{metric.capitalize()} is\", len(result))\n",
            "/usr/local/lib/python3.11/dist-packages/sklearn/metrics/_classification.py:1565: UndefinedMetricWarning: Precision is ill-defined and being set to 0.0 in labels with no predicted samples. Use `zero_division` parameter to control this behavior.\n",
            "  _warn_prf(average, modifier, f\"{metric.capitalize()} is\", len(result))\n",
            "/usr/local/lib/python3.11/dist-packages/sklearn/metrics/_classification.py:1565: UndefinedMetricWarning: Precision is ill-defined and being set to 0.0 in labels with no predicted samples. Use `zero_division` parameter to control this behavior.\n",
            "  _warn_prf(average, modifier, f\"{metric.capitalize()} is\", len(result))\n",
            "/usr/local/lib/python3.11/dist-packages/sklearn/metrics/_classification.py:1565: UndefinedMetricWarning: Precision is ill-defined and being set to 0.0 in labels with no predicted samples. Use `zero_division` parameter to control this behavior.\n",
            "  _warn_prf(average, modifier, f\"{metric.capitalize()} is\", len(result))\n",
            "/usr/local/lib/python3.11/dist-packages/sklearn/metrics/_classification.py:1565: UndefinedMetricWarning: Precision is ill-defined and being set to 0.0 in labels with no predicted samples. Use `zero_division` parameter to control this behavior.\n",
            "  _warn_prf(average, modifier, f\"{metric.capitalize()} is\", len(result))\n",
            "/usr/local/lib/python3.11/dist-packages/sklearn/metrics/_classification.py:1565: UndefinedMetricWarning: Precision is ill-defined and being set to 0.0 in labels with no predicted samples. Use `zero_division` parameter to control this behavior.\n",
            "  _warn_prf(average, modifier, f\"{metric.capitalize()} is\", len(result))\n",
            "/usr/local/lib/python3.11/dist-packages/sklearn/metrics/_classification.py:1565: UndefinedMetricWarning: Precision is ill-defined and being set to 0.0 in labels with no predicted samples. Use `zero_division` parameter to control this behavior.\n",
            "  _warn_prf(average, modifier, f\"{metric.capitalize()} is\", len(result))\n",
            "/usr/local/lib/python3.11/dist-packages/sklearn/metrics/_classification.py:1565: UndefinedMetricWarning: Precision is ill-defined and being set to 0.0 in labels with no predicted samples. Use `zero_division` parameter to control this behavior.\n",
            "  _warn_prf(average, modifier, f\"{metric.capitalize()} is\", len(result))\n",
            "/usr/local/lib/python3.11/dist-packages/sklearn/metrics/_classification.py:1565: UndefinedMetricWarning: Precision is ill-defined and being set to 0.0 in labels with no predicted samples. Use `zero_division` parameter to control this behavior.\n",
            "  _warn_prf(average, modifier, f\"{metric.capitalize()} is\", len(result))\n",
            "/usr/local/lib/python3.11/dist-packages/sklearn/metrics/_classification.py:1565: UndefinedMetricWarning: Precision is ill-defined and being set to 0.0 in labels with no predicted samples. Use `zero_division` parameter to control this behavior.\n",
            "  _warn_prf(average, modifier, f\"{metric.capitalize()} is\", len(result))\n",
            "/usr/local/lib/python3.11/dist-packages/sklearn/metrics/_classification.py:1565: UndefinedMetricWarning: Precision is ill-defined and being set to 0.0 in labels with no predicted samples. Use `zero_division` parameter to control this behavior.\n",
            "  _warn_prf(average, modifier, f\"{metric.capitalize()} is\", len(result))\n",
            "/usr/local/lib/python3.11/dist-packages/sklearn/metrics/_classification.py:1565: UndefinedMetricWarning: Precision is ill-defined and being set to 0.0 in labels with no predicted samples. Use `zero_division` parameter to control this behavior.\n",
            "  _warn_prf(average, modifier, f\"{metric.capitalize()} is\", len(result))\n",
            "/usr/local/lib/python3.11/dist-packages/sklearn/metrics/_classification.py:1565: UndefinedMetricWarning: Precision is ill-defined and being set to 0.0 in labels with no predicted samples. Use `zero_division` parameter to control this behavior.\n",
            "  _warn_prf(average, modifier, f\"{metric.capitalize()} is\", len(result))\n",
            "/usr/local/lib/python3.11/dist-packages/sklearn/metrics/_classification.py:1565: UndefinedMetricWarning: Precision is ill-defined and being set to 0.0 in labels with no predicted samples. Use `zero_division` parameter to control this behavior.\n",
            "  _warn_prf(average, modifier, f\"{metric.capitalize()} is\", len(result))\n",
            "/usr/local/lib/python3.11/dist-packages/sklearn/metrics/_classification.py:1565: UndefinedMetricWarning: Precision is ill-defined and being set to 0.0 in labels with no predicted samples. Use `zero_division` parameter to control this behavior.\n",
            "  _warn_prf(average, modifier, f\"{metric.capitalize()} is\", len(result))\n",
            "/usr/local/lib/python3.11/dist-packages/sklearn/metrics/_classification.py:1565: UndefinedMetricWarning: Precision is ill-defined and being set to 0.0 in labels with no predicted samples. Use `zero_division` parameter to control this behavior.\n",
            "  _warn_prf(average, modifier, f\"{metric.capitalize()} is\", len(result))\n",
            "/usr/local/lib/python3.11/dist-packages/sklearn/metrics/_classification.py:1565: UndefinedMetricWarning: Precision is ill-defined and being set to 0.0 in labels with no predicted samples. Use `zero_division` parameter to control this behavior.\n",
            "  _warn_prf(average, modifier, f\"{metric.capitalize()} is\", len(result))\n",
            "/usr/local/lib/python3.11/dist-packages/sklearn/metrics/_classification.py:1565: UndefinedMetricWarning: Precision is ill-defined and being set to 0.0 in labels with no predicted samples. Use `zero_division` parameter to control this behavior.\n",
            "  _warn_prf(average, modifier, f\"{metric.capitalize()} is\", len(result))\n",
            "/usr/local/lib/python3.11/dist-packages/sklearn/metrics/_classification.py:1565: UndefinedMetricWarning: Precision is ill-defined and being set to 0.0 in labels with no predicted samples. Use `zero_division` parameter to control this behavior.\n",
            "  _warn_prf(average, modifier, f\"{metric.capitalize()} is\", len(result))\n",
            "/usr/local/lib/python3.11/dist-packages/sklearn/metrics/_classification.py:1565: UndefinedMetricWarning: Precision is ill-defined and being set to 0.0 in labels with no predicted samples. Use `zero_division` parameter to control this behavior.\n",
            "  _warn_prf(average, modifier, f\"{metric.capitalize()} is\", len(result))\n",
            "/usr/local/lib/python3.11/dist-packages/sklearn/metrics/_classification.py:1565: UndefinedMetricWarning: Precision is ill-defined and being set to 0.0 in labels with no predicted samples. Use `zero_division` parameter to control this behavior.\n",
            "  _warn_prf(average, modifier, f\"{metric.capitalize()} is\", len(result))\n",
            "/usr/local/lib/python3.11/dist-packages/sklearn/metrics/_classification.py:1565: UndefinedMetricWarning: Precision is ill-defined and being set to 0.0 in labels with no predicted samples. Use `zero_division` parameter to control this behavior.\n",
            "  _warn_prf(average, modifier, f\"{metric.capitalize()} is\", len(result))\n",
            "/usr/local/lib/python3.11/dist-packages/sklearn/metrics/_classification.py:1565: UndefinedMetricWarning: Precision is ill-defined and being set to 0.0 in labels with no predicted samples. Use `zero_division` parameter to control this behavior.\n",
            "  _warn_prf(average, modifier, f\"{metric.capitalize()} is\", len(result))\n",
            "/usr/local/lib/python3.11/dist-packages/sklearn/metrics/_classification.py:1565: UndefinedMetricWarning: Precision is ill-defined and being set to 0.0 in labels with no predicted samples. Use `zero_division` parameter to control this behavior.\n",
            "  _warn_prf(average, modifier, f\"{metric.capitalize()} is\", len(result))\n",
            "/usr/local/lib/python3.11/dist-packages/sklearn/metrics/_classification.py:1565: UndefinedMetricWarning: Precision is ill-defined and being set to 0.0 in labels with no predicted samples. Use `zero_division` parameter to control this behavior.\n",
            "  _warn_prf(average, modifier, f\"{metric.capitalize()} is\", len(result))\n",
            "/usr/local/lib/python3.11/dist-packages/sklearn/metrics/_classification.py:1565: UndefinedMetricWarning: Precision is ill-defined and being set to 0.0 in labels with no predicted samples. Use `zero_division` parameter to control this behavior.\n",
            "  _warn_prf(average, modifier, f\"{metric.capitalize()} is\", len(result))\n",
            "/usr/local/lib/python3.11/dist-packages/sklearn/metrics/_classification.py:1565: UndefinedMetricWarning: Precision is ill-defined and being set to 0.0 in labels with no predicted samples. Use `zero_division` parameter to control this behavior.\n",
            "  _warn_prf(average, modifier, f\"{metric.capitalize()} is\", len(result))\n",
            "/usr/local/lib/python3.11/dist-packages/sklearn/metrics/_classification.py:1565: UndefinedMetricWarning: Precision is ill-defined and being set to 0.0 in labels with no predicted samples. Use `zero_division` parameter to control this behavior.\n",
            "  _warn_prf(average, modifier, f\"{metric.capitalize()} is\", len(result))\n",
            "/usr/local/lib/python3.11/dist-packages/sklearn/metrics/_classification.py:1565: UndefinedMetricWarning: Precision is ill-defined and being set to 0.0 in labels with no predicted samples. Use `zero_division` parameter to control this behavior.\n",
            "  _warn_prf(average, modifier, f\"{metric.capitalize()} is\", len(result))\n",
            "/usr/local/lib/python3.11/dist-packages/sklearn/metrics/_classification.py:1565: UndefinedMetricWarning: Precision is ill-defined and being set to 0.0 in labels with no predicted samples. Use `zero_division` parameter to control this behavior.\n",
            "  _warn_prf(average, modifier, f\"{metric.capitalize()} is\", len(result))\n",
            "/usr/local/lib/python3.11/dist-packages/sklearn/metrics/_classification.py:1565: UndefinedMetricWarning: Precision is ill-defined and being set to 0.0 in labels with no predicted samples. Use `zero_division` parameter to control this behavior.\n",
            "  _warn_prf(average, modifier, f\"{metric.capitalize()} is\", len(result))\n",
            "/usr/local/lib/python3.11/dist-packages/sklearn/metrics/_classification.py:1565: UndefinedMetricWarning: Precision is ill-defined and being set to 0.0 in labels with no predicted samples. Use `zero_division` parameter to control this behavior.\n",
            "  _warn_prf(average, modifier, f\"{metric.capitalize()} is\", len(result))\n",
            "/usr/local/lib/python3.11/dist-packages/sklearn/metrics/_classification.py:1565: UndefinedMetricWarning: Precision is ill-defined and being set to 0.0 in labels with no predicted samples. Use `zero_division` parameter to control this behavior.\n",
            "  _warn_prf(average, modifier, f\"{metric.capitalize()} is\", len(result))\n",
            "/usr/local/lib/python3.11/dist-packages/sklearn/metrics/_classification.py:1565: UndefinedMetricWarning: Precision is ill-defined and being set to 0.0 in labels with no predicted samples. Use `zero_division` parameter to control this behavior.\n",
            "  _warn_prf(average, modifier, f\"{metric.capitalize()} is\", len(result))\n",
            "/usr/local/lib/python3.11/dist-packages/sklearn/metrics/_classification.py:1565: UndefinedMetricWarning: Precision is ill-defined and being set to 0.0 in labels with no predicted samples. Use `zero_division` parameter to control this behavior.\n",
            "  _warn_prf(average, modifier, f\"{metric.capitalize()} is\", len(result))\n",
            "/usr/local/lib/python3.11/dist-packages/sklearn/metrics/_classification.py:1565: UndefinedMetricWarning: Precision is ill-defined and being set to 0.0 in labels with no predicted samples. Use `zero_division` parameter to control this behavior.\n",
            "  _warn_prf(average, modifier, f\"{metric.capitalize()} is\", len(result))\n",
            "/usr/local/lib/python3.11/dist-packages/sklearn/metrics/_classification.py:1565: UndefinedMetricWarning: Precision is ill-defined and being set to 0.0 in labels with no predicted samples. Use `zero_division` parameter to control this behavior.\n",
            "  _warn_prf(average, modifier, f\"{metric.capitalize()} is\", len(result))\n"
          ]
        },
        {
          "name": "stdout",
          "output_type": "stream",
          "text": [
            "Mejores parámetros encontrados: {'knn__n_neighbors': 10}\n",
            "Mejor score CV: 0.256\n"
          ]
        },
        {
          "name": "stderr",
          "output_type": "stream",
          "text": [
            "8it [03:19, 24.91s/it]\n"
          ]
        }
      ],
      "source": [
        "# Lista para almacenar información sobre cada configuración de modelo evaluada\n",
        "knn_info = []\n",
        "\n",
        "for combo in tqdm(product([True, False], repeat=3)):  # tqdm muestra una barra de progreso\n",
        "    make_outliers = combo[0]\n",
        "    balance = combo[1]\n",
        "    scale = combo[2]\n",
        "\n",
        "    # Se construye el conjunto de datos y pipeline de preprocesamiento+modelo según las opciones indicadas\n",
        "    X, y, pipeline = pipeline_maker(df, 'knn',\n",
        "                                    make_outliers=make_outliers,\n",
        "                                    balance=balance,\n",
        "                                    scale=scale)\n",
        "\n",
        "    # Se divide el dataset en entrenamiento y prueba con estratificación para mantener la proporción de clases\n",
        "    X_train, X_test, y_train, y_test = train_test_split(\n",
        "        X, y, test_size=0.2, stratify=y, random_state=42\n",
        "    )\n",
        "\n",
        "    # Definimos los hiperparámetros a explorar con RandomizedSearchCV\n",
        "    param_dist = {\n",
        "        'knn__n_neighbors': list(range(2, 30))  # número de vecinos para el clasificador KNN\n",
        "    }\n",
        "\n",
        "    # Búsqueda aleatoria de hiperparámetros con validación cruzada 5-fold\n",
        "    grid = RandomizedSearchCV(\n",
        "        pipeline,\n",
        "        param_distributions=param_dist,\n",
        "        n_iter=10,  # Número de combinaciones aleatorias a evaluar\n",
        "        cv=5,  # Validación cruzada de 5 folds\n",
        "        scoring=['accuracy', 'precision_macro', 'recall_macro', 'f1_macro'],  # Métricas a evaluar\n",
        "        refit='f1_macro',  # Se selecciona como mejor modelo el que tenga mejor f1_macro\n",
        "        verbose=1,\n",
        "        random_state=42\n",
        "    )\n",
        "\n",
        "    # Entrenamos el modelo con los datos de entrenamiento\n",
        "    grid.fit(X_train, y_train.ravel())\n",
        "\n",
        "    # Mostramos los mejores parámetros y el mejor score obtenido en validación cruzada\n",
        "    print(\"Mejores parámetros encontrados:\", grid.best_params_)\n",
        "    print(f\"Mejor score CV: {grid.best_score_:.3f}\")\n",
        "\n",
        "    # Se predice sobre el conjunto de prueba\n",
        "    y_pred = grid.predict(X_test)\n",
        "\n",
        "    # Se guarda la información relevante del modelo en un diccionario\n",
        "    my_model_info = {\n",
        "        'best_params': grid.best_params_,  # Hiperparámetros óptimos encontrados\n",
        "        'best_model': grid.best_estimator_,  # Pipeline completo con mejores hiperparámetros\n",
        "        'metrics': {  # Métricas de desempeño sobre el conjunto de prueba\n",
        "            'accuracy': accuracy_score(y_test, y_pred),\n",
        "            'precision': precision_score(y_test, y_pred, average='macro', zero_division=0),\n",
        "            'recall': recall_score(y_test, y_pred, average='macro'),\n",
        "            'f1': f1_score(y_test, y_pred, average='macro')\n",
        "        },\n",
        "        'dataset_info': {  # Información sobre la configuración de preprocesamiento\n",
        "            'make_outliers': make_outliers,\n",
        "            'balance': balance,\n",
        "            'scale': scale\n",
        "        }\n",
        "    }\n",
        "\n",
        "    # Agregamos la información del modelo a la lista de resultados\n",
        "    knn_info.append(my_model_info)\n"
      ]
    },
    {
      "cell_type": "code",
      "execution_count": 75,
      "id": "v044KBxBlcYu",
      "metadata": {
        "colab": {
          "base_uri": "https://localhost:8080/"
        },
        "id": "v044KBxBlcYu",
        "outputId": "b8094846-3884-4978-ed20-0c14ee473c26"
      },
      "outputs": [
        {
          "data": {
            "text/plain": [
              "[{'best_params': {'knn__n_neighbors': 14},\n",
              "  'best_model': Pipeline(steps=[('preprocessor',\n",
              "                   ColumnTransformer(transformers=[('std_scaler',\n",
              "                                                    StandardScaler(),\n",
              "                                                    Index(['make_year', 'mileage_kmpl', 'engine_cc', 'owner_count',\n",
              "         'accidents_reported'],\n",
              "        dtype='object')),\n",
              "                                                   ('one_hot', OneHotEncoder(),\n",
              "                                                    Index(['fuel_type', 'brand', 'transmission', 'insurance_valid'], dtype='object'))])),\n",
              "                  ('smote', SMOTE(random_state=42)),\n",
              "                  ('knn', KNeighborsClassifier(n_neighbors=14))]),\n",
              "  'metrics': {'accuracy': 0.7104634495938844,\n",
              "   'precision': 0.6264016360618314,\n",
              "   'recall': 0.7477271952259164,\n",
              "   'f1': 0.6592213859355807},\n",
              "  'dataset_info': {'make_outliers': True, 'balance': True, 'scale': True}},\n",
              " {'best_params': {'knn__n_neighbors': 23},\n",
              "  'best_model': Pipeline(steps=[('preprocessor',\n",
              "                   ColumnTransformer(transformers=[('one_hot', OneHotEncoder(),\n",
              "                                                    Index(['fuel_type', 'brand', 'transmission', 'insurance_valid'], dtype='object'))])),\n",
              "                  ('smote', SMOTE(random_state=42)),\n",
              "                  ('knn', KNeighborsClassifier(n_neighbors=23))]),\n",
              "  'metrics': {'accuracy': 0.30817009077878643,\n",
              "   'precision': 0.2854093004045333,\n",
              "   'recall': 0.31675036813144236,\n",
              "   'f1': 0.2714768335676856},\n",
              "  'dataset_info': {'make_outliers': True, 'balance': True, 'scale': False}},\n",
              " {'best_params': {'knn__n_neighbors': 10},\n",
              "  'best_model': Pipeline(steps=[('preprocessor',\n",
              "                   ColumnTransformer(transformers=[('std_scaler',\n",
              "                                                    StandardScaler(),\n",
              "                                                    Index(['make_year', 'mileage_kmpl', 'engine_cc', 'owner_count',\n",
              "         'accidents_reported'],\n",
              "        dtype='object')),\n",
              "                                                   ('one_hot', OneHotEncoder(),\n",
              "                                                    Index(['fuel_type', 'brand', 'transmission', 'insurance_valid'], dtype='object'))])),\n",
              "                  ('knn', KNeighborsClassifier(n_neighbors=10))]),\n",
              "  'metrics': {'accuracy': 0.78786430960344,\n",
              "   'precision': 0.8463476481266332,\n",
              "   'recall': 0.6146456637991164,\n",
              "   'f1': 0.6585517802935175},\n",
              "  'dataset_info': {'make_outliers': True, 'balance': False, 'scale': True}},\n",
              " {'best_params': {'knn__n_neighbors': 11},\n",
              "  'best_model': Pipeline(steps=[('preprocessor',\n",
              "                   ColumnTransformer(transformers=[('one_hot', OneHotEncoder(),\n",
              "                                                    Index(['fuel_type', 'brand', 'transmission', 'insurance_valid'], dtype='object'))])),\n",
              "                  ('knn', KNeighborsClassifier(n_neighbors=11))]),\n",
              "  'metrics': {'accuracy': 0.5040611562350693,\n",
              "   'precision': 0.320445986235406,\n",
              "   'recall': 0.28308912655971485,\n",
              "   'f1': 0.27278737353850774},\n",
              "  'dataset_info': {'make_outliers': True, 'balance': False, 'scale': False}},\n",
              " {'best_params': {'knn__n_neighbors': 27},\n",
              "  'best_model': Pipeline(steps=[('preprocessor',\n",
              "                   ColumnTransformer(transformers=[('std_scaler',\n",
              "                                                    StandardScaler(),\n",
              "                                                    Index(['make_year', 'mileage_kmpl', 'engine_cc', 'owner_count',\n",
              "         'accidents_reported'],\n",
              "        dtype='object')),\n",
              "                                                   ('one_hot', OneHotEncoder(),\n",
              "                                                    Index(['fuel_type', 'brand', 'transmission', 'insurance_valid'], dtype='object'))])),\n",
              "                  ('smote', SMOTE(random_state=42)),\n",
              "                  ('knn', KNeighborsClassifier(n_neighbors=27))]),\n",
              "  'metrics': {'accuracy': 0.6859006522829905,\n",
              "   'precision': 0.585203280314568,\n",
              "   'recall': 0.7140821396667982,\n",
              "   'f1': 0.6133267958549753},\n",
              "  'dataset_info': {'make_outliers': False, 'balance': True, 'scale': True}},\n",
              " {'best_params': {'knn__n_neighbors': 15},\n",
              "  'best_model': Pipeline(steps=[('preprocessor',\n",
              "                   ColumnTransformer(transformers=[('one_hot', OneHotEncoder(),\n",
              "                                                    Index(['fuel_type', 'brand', 'transmission', 'insurance_valid'], dtype='object'))])),\n",
              "                  ('smote', SMOTE(random_state=42)),\n",
              "                  ('knn', KNeighborsClassifier(n_neighbors=15))]),\n",
              "  'metrics': {'accuracy': 0.327646763672855,\n",
              "   'precision': 0.27540200141620547,\n",
              "   'recall': 0.29211845736635256,\n",
              "   'f1': 0.2630006511545447},\n",
              "  'dataset_info': {'make_outliers': False, 'balance': True, 'scale': False}},\n",
              " {'best_params': {'knn__n_neighbors': 11},\n",
              "  'best_model': Pipeline(steps=[('preprocessor',\n",
              "                   ColumnTransformer(transformers=[('std_scaler',\n",
              "                                                    StandardScaler(),\n",
              "                                                    Index(['make_year', 'mileage_kmpl', 'engine_cc', 'owner_count',\n",
              "         'accidents_reported'],\n",
              "        dtype='object')),\n",
              "                                                   ('one_hot', OneHotEncoder(),\n",
              "                                                    Index(['fuel_type', 'brand', 'transmission', 'insurance_valid'], dtype='object'))])),\n",
              "                  ('knn', KNeighborsClassifier(n_neighbors=11))]),\n",
              "  'metrics': {'accuracy': 0.7531359759157049,\n",
              "   'precision': 0.8188397387455468,\n",
              "   'recall': 0.5466537542075427,\n",
              "   'f1': 0.5705921765238512},\n",
              "  'dataset_info': {'make_outliers': False, 'balance': False, 'scale': True}},\n",
              " {'best_params': {'knn__n_neighbors': 10},\n",
              "  'best_model': Pipeline(steps=[('preprocessor',\n",
              "                   ColumnTransformer(transformers=[('one_hot', OneHotEncoder(),\n",
              "                                                    Index(['fuel_type', 'brand', 'transmission', 'insurance_valid'], dtype='object'))])),\n",
              "                  ('knn', KNeighborsClassifier(n_neighbors=10))]),\n",
              "  'metrics': {'accuracy': 0.4927245358755645,\n",
              "   'precision': 0.32097626636708426,\n",
              "   'recall': 0.27048394646617285,\n",
              "   'f1': 0.2583630563408621},\n",
              "  'dataset_info': {'make_outliers': False, 'balance': False, 'scale': False}}]"
            ]
          },
          "execution_count": 75,
          "metadata": {},
          "output_type": "execute_result"
        }
      ],
      "source": [
        "knn_info"
      ]
    },
    {
      "cell_type": "markdown",
      "id": "zrBYARcMSCsB",
      "metadata": {
        "id": "zrBYARcMSCsB"
      },
      "source": [
        "#### 2.2.2. SVM"
      ]
    },
    {
      "cell_type": "code",
      "execution_count": null,
      "id": "0nGtMsAyzfUq",
      "metadata": {
        "colab": {
          "base_uri": "https://localhost:8080/",
          "height": 1000,
          "referenced_widgets": [
            "5cbd362918be43a88f7f968576abb24a",
            "f859d2adc0db42e0904ad015d9c02ffe",
            "f59ffa2a815148ea9b3a1a0cb684d973",
            "6760fe8061994a8181057275bf92e06a",
            "fd45d5e3556e41bda581a2a7352cb902",
            "3446311eab5841c19b9f2f4010e622e5",
            "1e588fc076ad4de5861459b1de1279a4",
            "0deb86981ed14cd986005d707d947c68",
            "1303777e696841ae887c38037b415fde",
            "03338a96815f4aa0960ccf41f7eb2373",
            "b021737875b64843bde3bf445bf0e3aa"
          ]
        },
        "id": "0nGtMsAyzfUq",
        "outputId": "93cb1e64-b046-484e-a615-05ce186f380e"
      },
      "outputs": [
        {
          "data": {
            "application/vnd.jupyter.widget-view+json": {
              "model_id": "5cbd362918be43a88f7f968576abb24a",
              "version_major": 2,
              "version_minor": 0
            },
            "text/plain": [
              "0it [00:00, ?it/s]"
            ]
          },
          "metadata": {},
          "output_type": "display_data"
        },
        {
          "name": "stdout",
          "output_type": "stream",
          "text": [
            "Fitting 5 folds for each of 10 candidates, totalling 50 fits\n",
            "[CV] END SVC__C=0.1, SVC__gamma=0.3593813663804626, SVC__kernel=poly; total time=   3.8s\n",
            "[CV] END SVC__C=0.1, SVC__gamma=0.3593813663804626, SVC__kernel=poly; total time=   2.6s\n",
            "[CV] END SVC__C=0.1, SVC__gamma=0.3593813663804626, SVC__kernel=poly; total time=   2.9s\n",
            "[CV] END SVC__C=0.1, SVC__gamma=0.3593813663804626, SVC__kernel=poly; total time=   3.4s\n",
            "[CV] END SVC__C=0.1, SVC__gamma=0.3593813663804626, SVC__kernel=poly; total time=   2.6s\n",
            "[CV] END SVC__C=0.46415888336127775, SVC__gamma=0.5994842503189409, SVC__kernel=poly; total time=   9.3s\n",
            "[CV] END SVC__C=0.46415888336127775, SVC__gamma=0.5994842503189409, SVC__kernel=poly; total time=   9.0s\n",
            "[CV] END SVC__C=0.46415888336127775, SVC__gamma=0.5994842503189409, SVC__kernel=poly; total time=   9.6s\n",
            "[CV] END SVC__C=0.46415888336127775, SVC__gamma=0.5994842503189409, SVC__kernel=poly; total time=   8.8s\n",
            "[CV] END SVC__C=0.46415888336127775, SVC__gamma=0.5994842503189409, SVC__kernel=poly; total time=   8.1s\n"
          ]
        },
        {
          "name": "stderr",
          "output_type": "stream",
          "text": [
            "/usr/local/lib/python3.11/dist-packages/sklearn/metrics/_classification.py:1565: UndefinedMetricWarning: Precision is ill-defined and being set to 0.0 in labels with no predicted samples. Use `zero_division` parameter to control this behavior.\n",
            "  _warn_prf(average, modifier, f\"{metric.capitalize()} is\", len(result))\n"
          ]
        },
        {
          "name": "stdout",
          "output_type": "stream",
          "text": [
            "[CV] END SVC__C=0.046415888336127774, SVC__gamma=0.01, SVC__kernel=poly; total time=  17.4s\n",
            "[CV] END SVC__C=0.046415888336127774, SVC__gamma=0.01, SVC__kernel=poly; total time=  17.0s\n"
          ]
        },
        {
          "name": "stderr",
          "output_type": "stream",
          "text": [
            "/usr/local/lib/python3.11/dist-packages/sklearn/metrics/_classification.py:1565: UndefinedMetricWarning: Precision is ill-defined and being set to 0.0 in labels with no predicted samples. Use `zero_division` parameter to control this behavior.\n",
            "  _warn_prf(average, modifier, f\"{metric.capitalize()} is\", len(result))\n"
          ]
        },
        {
          "name": "stdout",
          "output_type": "stream",
          "text": [
            "[CV] END SVC__C=0.046415888336127774, SVC__gamma=0.01, SVC__kernel=poly; total time=  17.6s\n",
            "[CV] END SVC__C=0.046415888336127774, SVC__gamma=0.01, SVC__kernel=poly; total time=  19.7s\n",
            "[CV] END SVC__C=0.046415888336127774, SVC__gamma=0.01, SVC__kernel=poly; total time=  17.7s\n",
            "[CV] END SVC__C=0.001, SVC__gamma=0.046415888336127774, SVC__kernel=linear; total time=   6.2s\n",
            "[CV] END SVC__C=0.001, SVC__gamma=0.046415888336127774, SVC__kernel=linear; total time=   7.2s\n",
            "[CV] END SVC__C=0.001, SVC__gamma=0.046415888336127774, SVC__kernel=linear; total time=   6.2s\n",
            "[CV] END SVC__C=0.001, SVC__gamma=0.046415888336127774, SVC__kernel=linear; total time=   7.1s\n",
            "[CV] END SVC__C=0.001, SVC__gamma=0.046415888336127774, SVC__kernel=linear; total time=   6.2s\n",
            "[CV] END SVC__C=0.21544346900318823, SVC__gamma=0.3593813663804626, SVC__kernel=poly; total time=   3.7s\n",
            "[CV] END SVC__C=0.21544346900318823, SVC__gamma=0.3593813663804626, SVC__kernel=poly; total time=   3.0s\n",
            "[CV] END SVC__C=0.21544346900318823, SVC__gamma=0.3593813663804626, SVC__kernel=poly; total time=   2.8s\n",
            "[CV] END SVC__C=0.21544346900318823, SVC__gamma=0.3593813663804626, SVC__kernel=poly; total time=   2.8s\n",
            "[CV] END SVC__C=0.21544346900318823, SVC__gamma=0.3593813663804626, SVC__kernel=poly; total time=   3.5s\n",
            "[CV] END SVC__C=0.21544346900318823, SVC__gamma=0.1291549665014884, SVC__kernel=rbf; total time=   4.1s\n",
            "[CV] END SVC__C=0.21544346900318823, SVC__gamma=0.1291549665014884, SVC__kernel=rbf; total time=   3.9s\n",
            "[CV] END SVC__C=0.21544346900318823, SVC__gamma=0.1291549665014884, SVC__kernel=rbf; total time=   4.7s\n",
            "[CV] END SVC__C=0.21544346900318823, SVC__gamma=0.1291549665014884, SVC__kernel=rbf; total time=   4.1s\n",
            "[CV] END SVC__C=0.21544346900318823, SVC__gamma=0.1291549665014884, SVC__kernel=rbf; total time=   4.0s\n",
            "[CV] END SVC__C=0.1, SVC__gamma=0.1291549665014884, SVC__kernel=rbf; total time=   5.7s\n",
            "[CV] END SVC__C=0.1, SVC__gamma=0.1291549665014884, SVC__kernel=rbf; total time=   4.7s\n",
            "[CV] END SVC__C=0.1, SVC__gamma=0.1291549665014884, SVC__kernel=rbf; total time=   4.9s\n",
            "[CV] END SVC__C=0.1, SVC__gamma=0.1291549665014884, SVC__kernel=rbf; total time=   5.5s\n",
            "[CV] END SVC__C=0.1, SVC__gamma=0.1291549665014884, SVC__kernel=rbf; total time=   4.8s\n",
            "[CV] END SVC__C=0.01, SVC__gamma=0.21544346900318834, SVC__kernel=rbf; total time=  12.7s\n",
            "[CV] END SVC__C=0.01, SVC__gamma=0.21544346900318834, SVC__kernel=rbf; total time=  12.3s\n",
            "[CV] END SVC__C=0.01, SVC__gamma=0.21544346900318834, SVC__kernel=rbf; total time=  12.7s\n",
            "[CV] END SVC__C=0.01, SVC__gamma=0.21544346900318834, SVC__kernel=rbf; total time=  12.3s\n",
            "[CV] END SVC__C=0.01, SVC__gamma=0.21544346900318834, SVC__kernel=rbf; total time=  12.4s\n"
          ]
        },
        {
          "name": "stderr",
          "output_type": "stream",
          "text": [
            "/usr/local/lib/python3.11/dist-packages/sklearn/metrics/_classification.py:1565: UndefinedMetricWarning: Precision is ill-defined and being set to 0.0 in labels with no predicted samples. Use `zero_division` parameter to control this behavior.\n",
            "  _warn_prf(average, modifier, f\"{metric.capitalize()} is\", len(result))\n"
          ]
        },
        {
          "name": "stdout",
          "output_type": "stream",
          "text": [
            "[CV] END SVC__C=0.001, SVC__gamma=0.016681005372000592, SVC__kernel=poly; total time=  17.6s\n",
            "[CV] END SVC__C=0.001, SVC__gamma=0.016681005372000592, SVC__kernel=poly; total time=  17.0s\n"
          ]
        },
        {
          "name": "stderr",
          "output_type": "stream",
          "text": [
            "/usr/local/lib/python3.11/dist-packages/sklearn/metrics/_classification.py:1565: UndefinedMetricWarning: Precision is ill-defined and being set to 0.0 in labels with no predicted samples. Use `zero_division` parameter to control this behavior.\n",
            "  _warn_prf(average, modifier, f\"{metric.capitalize()} is\", len(result))\n"
          ]
        },
        {
          "name": "stdout",
          "output_type": "stream",
          "text": [
            "[CV] END SVC__C=0.001, SVC__gamma=0.016681005372000592, SVC__kernel=poly; total time=  17.0s\n",
            "[CV] END SVC__C=0.001, SVC__gamma=0.016681005372000592, SVC__kernel=poly; total time=  17.8s\n",
            "[CV] END SVC__C=0.001, SVC__gamma=0.016681005372000592, SVC__kernel=poly; total time=  16.9s\n",
            "[CV] END SVC__C=0.046415888336127774, SVC__gamma=0.5994842503189409, SVC__kernel=rbf; total time=  19.1s\n",
            "[CV] END SVC__C=0.046415888336127774, SVC__gamma=0.5994842503189409, SVC__kernel=rbf; total time=  21.0s\n",
            "[CV] END SVC__C=0.046415888336127774, SVC__gamma=0.5994842503189409, SVC__kernel=rbf; total time=  15.1s\n",
            "[CV] END SVC__C=0.046415888336127774, SVC__gamma=0.5994842503189409, SVC__kernel=rbf; total time=  17.5s\n",
            "[CV] END SVC__C=0.046415888336127774, SVC__gamma=0.5994842503189409, SVC__kernel=rbf; total time=  13.8s\n",
            "Mejores parámetros encontrados: {'SVC__kernel': 'rbf', 'SVC__gamma': np.float64(0.1291549665014884), 'SVC__C': np.float64(0.21544346900318823)}\n",
            "Mejor score CV: 0.743\n",
            "Fitting 5 folds for each of 10 candidates, totalling 50 fits\n",
            "[CV] END SVC__C=0.1, SVC__gamma=0.3593813663804626, SVC__kernel=poly; total time=  14.9s\n",
            "[CV] END SVC__C=0.1, SVC__gamma=0.3593813663804626, SVC__kernel=poly; total time=  15.2s\n",
            "[CV] END SVC__C=0.1, SVC__gamma=0.3593813663804626, SVC__kernel=poly; total time=  14.3s\n",
            "[CV] END SVC__C=0.1, SVC__gamma=0.3593813663804626, SVC__kernel=poly; total time=  14.7s\n",
            "[CV] END SVC__C=0.1, SVC__gamma=0.3593813663804626, SVC__kernel=poly; total time=  14.7s\n",
            "[CV] END SVC__C=0.46415888336127775, SVC__gamma=0.5994842503189409, SVC__kernel=poly; total time=  15.1s\n",
            "[CV] END SVC__C=0.46415888336127775, SVC__gamma=0.5994842503189409, SVC__kernel=poly; total time=  15.4s\n",
            "[CV] END SVC__C=0.46415888336127775, SVC__gamma=0.5994842503189409, SVC__kernel=poly; total time=  14.8s\n",
            "[CV] END SVC__C=0.46415888336127775, SVC__gamma=0.5994842503189409, SVC__kernel=poly; total time=  15.6s\n",
            "[CV] END SVC__C=0.46415888336127775, SVC__gamma=0.5994842503189409, SVC__kernel=poly; total time=  15.2s\n",
            "[CV] END SVC__C=0.046415888336127774, SVC__gamma=0.01, SVC__kernel=poly; total time=  20.2s\n",
            "[CV] END SVC__C=0.046415888336127774, SVC__gamma=0.01, SVC__kernel=poly; total time=  20.5s\n",
            "[CV] END SVC__C=0.046415888336127774, SVC__gamma=0.01, SVC__kernel=poly; total time=  20.5s\n",
            "[CV] END SVC__C=0.046415888336127774, SVC__gamma=0.01, SVC__kernel=poly; total time=  19.8s\n",
            "[CV] END SVC__C=0.046415888336127774, SVC__gamma=0.01, SVC__kernel=poly; total time=  20.6s\n"
          ]
        },
        {
          "name": "stderr",
          "output_type": "stream",
          "text": [
            "/usr/local/lib/python3.11/dist-packages/sklearn/metrics/_classification.py:1565: UndefinedMetricWarning: Precision is ill-defined and being set to 0.0 in labels with no predicted samples. Use `zero_division` parameter to control this behavior.\n",
            "  _warn_prf(average, modifier, f\"{metric.capitalize()} is\", len(result))\n"
          ]
        },
        {
          "name": "stdout",
          "output_type": "stream",
          "text": [
            "[CV] END SVC__C=0.001, SVC__gamma=0.046415888336127774, SVC__kernel=linear; total time=  17.9s\n"
          ]
        },
        {
          "name": "stderr",
          "output_type": "stream",
          "text": [
            "/usr/local/lib/python3.11/dist-packages/sklearn/metrics/_classification.py:1565: UndefinedMetricWarning: Precision is ill-defined and being set to 0.0 in labels with no predicted samples. Use `zero_division` parameter to control this behavior.\n",
            "  _warn_prf(average, modifier, f\"{metric.capitalize()} is\", len(result))\n"
          ]
        },
        {
          "name": "stdout",
          "output_type": "stream",
          "text": [
            "[CV] END SVC__C=0.001, SVC__gamma=0.046415888336127774, SVC__kernel=linear; total time=  18.4s\n"
          ]
        },
        {
          "name": "stderr",
          "output_type": "stream",
          "text": [
            "/usr/local/lib/python3.11/dist-packages/sklearn/metrics/_classification.py:1565: UndefinedMetricWarning: Precision is ill-defined and being set to 0.0 in labels with no predicted samples. Use `zero_division` parameter to control this behavior.\n",
            "  _warn_prf(average, modifier, f\"{metric.capitalize()} is\", len(result))\n"
          ]
        },
        {
          "name": "stdout",
          "output_type": "stream",
          "text": [
            "[CV] END SVC__C=0.001, SVC__gamma=0.046415888336127774, SVC__kernel=linear; total time=  17.7s\n"
          ]
        },
        {
          "name": "stderr",
          "output_type": "stream",
          "text": [
            "/usr/local/lib/python3.11/dist-packages/sklearn/metrics/_classification.py:1565: UndefinedMetricWarning: Precision is ill-defined and being set to 0.0 in labels with no predicted samples. Use `zero_division` parameter to control this behavior.\n",
            "  _warn_prf(average, modifier, f\"{metric.capitalize()} is\", len(result))\n"
          ]
        },
        {
          "name": "stdout",
          "output_type": "stream",
          "text": [
            "[CV] END SVC__C=0.001, SVC__gamma=0.046415888336127774, SVC__kernel=linear; total time=  17.6s\n"
          ]
        },
        {
          "name": "stderr",
          "output_type": "stream",
          "text": [
            "/usr/local/lib/python3.11/dist-packages/sklearn/metrics/_classification.py:1565: UndefinedMetricWarning: Precision is ill-defined and being set to 0.0 in labels with no predicted samples. Use `zero_division` parameter to control this behavior.\n",
            "  _warn_prf(average, modifier, f\"{metric.capitalize()} is\", len(result))\n"
          ]
        },
        {
          "name": "stdout",
          "output_type": "stream",
          "text": [
            "[CV] END SVC__C=0.001, SVC__gamma=0.046415888336127774, SVC__kernel=linear; total time=  17.8s\n",
            "[CV] END SVC__C=0.21544346900318823, SVC__gamma=0.3593813663804626, SVC__kernel=poly; total time=  13.8s\n",
            "[CV] END SVC__C=0.21544346900318823, SVC__gamma=0.3593813663804626, SVC__kernel=poly; total time=  14.2s\n",
            "[CV] END SVC__C=0.21544346900318823, SVC__gamma=0.3593813663804626, SVC__kernel=poly; total time=  14.0s\n",
            "[CV] END SVC__C=0.21544346900318823, SVC__gamma=0.3593813663804626, SVC__kernel=poly; total time=  13.7s\n",
            "[CV] END SVC__C=0.21544346900318823, SVC__gamma=0.3593813663804626, SVC__kernel=poly; total time=  13.7s\n",
            "[CV] END SVC__C=0.21544346900318823, SVC__gamma=0.1291549665014884, SVC__kernel=rbf; total time=  17.6s\n",
            "[CV] END SVC__C=0.21544346900318823, SVC__gamma=0.1291549665014884, SVC__kernel=rbf; total time=  18.4s\n",
            "[CV] END SVC__C=0.21544346900318823, SVC__gamma=0.1291549665014884, SVC__kernel=rbf; total time=  17.4s\n",
            "[CV] END SVC__C=0.21544346900318823, SVC__gamma=0.1291549665014884, SVC__kernel=rbf; total time=  17.6s\n",
            "[CV] END SVC__C=0.21544346900318823, SVC__gamma=0.1291549665014884, SVC__kernel=rbf; total time=  17.5s\n",
            "[CV] END SVC__C=0.1, SVC__gamma=0.1291549665014884, SVC__kernel=rbf; total time=  18.4s\n"
          ]
        }
      ],
      "source": [
        "# Lista para almacenar información sobre cada configuración de modelo evaluada\n",
        "svm_info = []\n",
        "\n",
        "for combo in tqdm(product([True, False], repeat=3)):  # tqdm muestra una barra de progreso\n",
        "    make_outliers = combo[0]\n",
        "    balance = combo[1]\n",
        "    scale = combo[2]\n",
        "\n",
        "    # Se construye el conjunto de datos y pipeline de preprocesamiento+modelo según las opciones indicadas\n",
        "    X, y, pipeline = pipeline_maker(df, 'svm',\n",
        "                                    make_outliers=make_outliers,\n",
        "                                    balance=balance,\n",
        "                                    scale=scale)\n",
        "\n",
        "    # Se divide el dataset en entrenamiento y prueba con estratificación para mantener la proporción de clases\n",
        "    X_train, X_test, y_train, y_test = train_test_split(\n",
        "        X, y, test_size=0.2, stratify=y, random_state=42\n",
        "    )\n",
        "\n",
        "    # Definimos los hiperparámetros a explorar con RandomizedSearchCV\n",
        "    param_dist = {\n",
        "        'SVC__C': np.logspace(-3, 0, num = 10),\n",
        "        'SVC__kernel': ['linear', 'rbf', 'poly'],\n",
        "        'SVC__gamma': np.logspace(-2, 0, num = 10)\n",
        "    }\n",
        "\n",
        "    # Búsqueda aleatoria de hiperparámetros con validación cruzada 5-fold\n",
        "    grid = RandomizedSearchCV(\n",
        "        pipeline,\n",
        "        param_distributions=param_dist,\n",
        "        n_iter=10,  # Número de combinaciones aleatorias a evaluar\n",
        "        cv=5,  # Validación cruzada de 5 folds\n",
        "        scoring=['accuracy', 'precision_macro', 'recall_macro', 'f1_macro'],  # Métricas a evaluar\n",
        "        refit='f1_macro',  # Se selecciona como mejor modelo el que tenga mejor f1_macro\n",
        "        verbose=2,\n",
        "        random_state=42\n",
        "    )\n",
        "\n",
        "    # Entrenamos el modelo con los datos de entrenamiento\n",
        "    grid.fit(X_train, y_train.ravel())\n",
        "\n",
        "    # Mostramos los mejores parámetros y el mejor score obtenido en validación cruzada\n",
        "    print(\"Mejores parámetros encontrados:\", grid.best_params_)\n",
        "    print(f\"Mejor score CV: {grid.best_score_:.3f}\")\n",
        "\n",
        "    # Se predice sobre el conjunto de prueba\n",
        "    y_pred = grid.predict(X_test)\n",
        "\n",
        "    # Se guarda la información relevante del modelo en un diccionario\n",
        "    my_model_info = {\n",
        "        'best_params': grid.best_params_,  # Hiperparámetros óptimos encontrados\n",
        "        'best_model': grid.best_estimator_,  # Pipeline completo con mejores hiperparámetros\n",
        "        'metrics': {  # Métricas de desempeño sobre el conjunto de prueba\n",
        "            'accuracy': accuracy_score(y_test, y_pred),\n",
        "            'precision': precision_score(y_test, y_pred, average='macro', zero_division=0),\n",
        "            'recall': recall_score(y_test, y_pred, average='macro'),\n",
        "            'f1': f1_score(y_test, y_pred, average='macro')\n",
        "        },\n",
        "        'dataset_info': {  # Información sobre la configuración de preprocesamiento\n",
        "            'make_outliers': make_outliers,\n",
        "            'balance': balance,\n",
        "            'scale': scale\n",
        "        }\n",
        "    }\n",
        "\n",
        "    # Agregamos la información del modelo a la lista de resultados\n",
        "    svm_info.append(my_model_info)\n"
      ]
    },
    {
      "cell_type": "code",
      "execution_count": null,
      "id": "qziuAnmPs1Zy",
      "metadata": {
        "id": "qziuAnmPs1Zy"
      },
      "outputs": [],
      "source": [
        "[model['metrics'] for model in svm_info]"
      ]
    },
    {
      "cell_type": "markdown",
      "id": "3d0da152",
      "metadata": {},
      "source": [
        "# MODELOS NO SUPERVISADOS"
      ]
    },
    {
      "cell_type": "markdown",
      "id": "4746856b",
      "metadata": {},
      "source": [
        "## KMEANS"
      ]
    },
    {
      "cell_type": "code",
      "execution_count": 66,
      "id": "76e926e3",
      "metadata": {},
      "outputs": [],
      "source": [
        "results = {}\n",
        "\n",
        "# Recorremos todas las combinaciones de True y False\n",
        "for make_outliers in [True, False]:\n",
        "    for balance in [True, False]:\n",
        "        for scale in [True, False]:\n",
        "            \n",
        "            X, y, _ = pipeline_maker(df, 'kmeans', make_outliers=make_outliers, balance=balance, scale=scale)\n",
        "            X = pd.get_dummies(X)\n",
        "\n",
        "            X_train, X_test, y_train, y_test = train_test_split(\n",
        "                X, y, test_size=0.2, stratify=y, random_state=42)\n",
        "\n",
        "            # Scaling manual si se requiere\n",
        "            if scale:\n",
        "                scaler = StandardScaler()\n",
        "                X_train = scaler.fit_transform(X_train)\n",
        "                X_test = scaler.transform(X_test)\n",
        "\n",
        "            # Inicializar listas\n",
        "            inertia_list = []\n",
        "            silhouette_list = []\n",
        "\n",
        "            # Probar KMeans para k de 1 a 20\n",
        "            for k in range(2, 21):\n",
        "                kmeans = KMeans(n_clusters=k, random_state=42)\n",
        "                labels = kmeans.fit_predict(X_train)\n",
        "                inertia_list.append(kmeans.inertia_)\n",
        "\n",
        "                if k >= 2:\n",
        "                    silhouette = silhouette_score(X_train, labels)\n",
        "                else:\n",
        "                    silhouette = None  # No se define para k=1\n",
        "                silhouette_list.append(silhouette)\n",
        "\n",
        "            # Guardar resultados\n",
        "            key = f\"outliers_{make_outliers}_balance_{balance}_scale_{scale}\"\n",
        "            results[key] = {\n",
        "                \"inertia\": inertia_list,\n",
        "                \"silhouette\": silhouette_list\n",
        "            }\n",
        "\n",
        "            "
      ]
    },
    {
      "cell_type": "code",
      "execution_count": 67,
      "id": "6a659bc3",
      "metadata": {},
      "outputs": [
        {
          "data": {
            "image/png": "[encoded data removed]",
            "text/plain": [
              "<Figure size 1348.88x500 with 2 Axes>"
            ]
          },
          "metadata": {},
          "output_type": "display_data"
        }
      ],
      "source": [
        "# Tu diccionario (asegúrate de definirlo antes, lo puedes cargar como 'data')\n",
        "data = results\n",
        "# Preparar los datos en un DataFrame largo\n",
        "rows = []\n",
        "for config, metrics in data.items():\n",
        "    for metric_name, values in metrics.items():\n",
        "        for i, value in enumerate(values[1:], start=2):  # desde índice 2 hasta len(lista)\n",
        "            rows.append({\n",
        "                'Config': config,\n",
        "                'Metric': metric_name,\n",
        "                'Value': float(value),\n",
        "                'K': i\n",
        "            })\n",
        "\n",
        "df = pd.DataFrame(rows)\n",
        "\n",
        "# Crear la gráfica con seaborn: dos gráficas separadas por métrica\n",
        "sns.set(style=\"whitegrid\")\n",
        "g = sns.relplot(\n",
        "    data=df, \n",
        "    x='K', y='Value',\n",
        "    hue='Config',\n",
        "    col='Metric',\n",
        "    kind='line',\n",
        "    facet_kws={'sharey': False, 'sharex': True}\n",
        ")\n",
        "\n",
        "g.set_titles(col_template=\"{col_name}\")\n",
        "g.set_axis_labels(\"Número de Clusters (K)\", \"Valor de la métrica\")\n",
        "plt.show()"
      ]
    },
    {
      "cell_type": "markdown",
      "id": "61143794",
      "metadata": {},
      "source": [
        "## DBSCAN"
      ]
    },
    {
      "cell_type": "code",
      "execution_count": 72,
      "id": "d291d193",
      "metadata": {},
      "outputs": [
        {
          "ename": "ValueError",
          "evalue": "A negative number of rows requested. Please provide `n` >= 0.",
          "output_type": "error",
          "traceback": [
            "\u001b[31m---------------------------------------------------------------------------\u001b[39m",
            "\u001b[31mValueError\u001b[39m                                Traceback (most recent call last)",
            "\u001b[36mCell\u001b[39m\u001b[36m \u001b[39m\u001b[32mIn[72]\u001b[39m\u001b[32m, line 12\u001b[39m\n\u001b[32m      8\u001b[39m \u001b[38;5;28;01mfor\u001b[39;00m balance \u001b[38;5;129;01min\u001b[39;00m [\u001b[38;5;28;01mTrue\u001b[39;00m, \u001b[38;5;28;01mFalse\u001b[39;00m]:\n\u001b[32m      9\u001b[39m     \u001b[38;5;28;01mfor\u001b[39;00m scale \u001b[38;5;129;01min\u001b[39;00m [\u001b[38;5;28;01mTrue\u001b[39;00m, \u001b[38;5;28;01mFalse\u001b[39;00m]:\n\u001b[32m     10\u001b[39m \n\u001b[32m     11\u001b[39m         \u001b[38;5;66;03m# Preprocesamiento de datos\u001b[39;00m\n\u001b[32m---> \u001b[39m\u001b[32m12\u001b[39m         X, y, _ = \u001b[43mpipeline_maker\u001b[49m\u001b[43m(\u001b[49m\u001b[43mdf\u001b[49m\u001b[43m,\u001b[49m\u001b[43m \u001b[49m\u001b[33;43m'\u001b[39;49m\u001b[33;43mdbscan\u001b[39;49m\u001b[33;43m'\u001b[39;49m\u001b[43m,\u001b[49m\u001b[43m \u001b[49m\u001b[43mmake_outliers\u001b[49m\u001b[43m=\u001b[49m\u001b[43mmake_outliers\u001b[49m\u001b[43m,\u001b[49m\u001b[43m \u001b[49m\u001b[43mbalance\u001b[49m\u001b[43m=\u001b[49m\u001b[43mbalance\u001b[49m\u001b[43m,\u001b[49m\u001b[43m \u001b[49m\u001b[43mscale\u001b[49m\u001b[43m=\u001b[49m\u001b[43mscale\u001b[49m\u001b[43m)\u001b[49m\n\u001b[32m     13\u001b[39m         X = pd.get_dummies(X)\n\u001b[32m     15\u001b[39m         \u001b[38;5;66;03m# División train-test (usamos solo X_train para clustering)\u001b[39;00m\n",
            "\u001b[36mCell\u001b[39m\u001b[36m \u001b[39m\u001b[32mIn[65]\u001b[39m\u001b[32m, line 6\u001b[39m, in \u001b[36mpipeline_maker\u001b[39m\u001b[34m(dataframe, model, y_label, make_outliers, balance, scale)\u001b[39m\n\u001b[32m      4\u001b[39m \u001b[38;5;66;03m# hacer outliers\u001b[39;00m\n\u001b[32m      5\u001b[39m \u001b[38;5;28;01mif\u001b[39;00m make_outliers == \u001b[38;5;28;01mTrue\u001b[39;00m:\n\u001b[32m----> \u001b[39m\u001b[32m6\u001b[39m     data = \u001b[43moutliers_maker\u001b[49m\u001b[43m(\u001b[49m\u001b[43mdata\u001b[49m\u001b[43m,\u001b[49m\u001b[43m \u001b[49m\u001b[43mmake_outliers\u001b[49m\u001b[43m=\u001b[49m\u001b[38;5;28;43;01mTrue\u001b[39;49;00m\u001b[43m)\u001b[49m\n\u001b[32m      7\u001b[39m \u001b[38;5;28;01melse\u001b[39;00m:\n\u001b[32m      8\u001b[39m     data = outliers_maker(data, make_outliers=\u001b[38;5;28;01mFalse\u001b[39;00m)\n",
            "\u001b[36mCell\u001b[39m\u001b[36m \u001b[39m\u001b[32mIn[64]\u001b[39m\u001b[32m, line 3\u001b[39m, in \u001b[36moutliers_maker\u001b[39m\u001b[34m(data, make_outliers)\u001b[39m\n\u001b[32m      1\u001b[39m \u001b[38;5;28;01mdef\u001b[39;00m\u001b[38;5;250m \u001b[39m\u001b[34moutliers_maker\u001b[39m(data, make_outliers = \u001b[38;5;28;01mFalse\u001b[39;00m):\n\u001b[32m      2\u001b[39m     outliers = OutliersHandler(make_outliers=make_outliers)\n\u001b[32m----> \u001b[39m\u001b[32m3\u001b[39m     \u001b[38;5;28;01mreturn\u001b[39;00m \u001b[43moutliers\u001b[49m\u001b[43m.\u001b[49m\u001b[43mfit_transform\u001b[49m\u001b[43m(\u001b[49m\u001b[43mdata\u001b[49m\u001b[43m)\u001b[49m\n",
            "\u001b[36mFile \u001b[39m\u001b[32mc:\\Users\\d0ubt\\Documents\\git\\Practica2_introIA\\.venv\\Lib\\site-packages\\sklearn\\utils\\_set_output.py:319\u001b[39m, in \u001b[36m_wrap_method_output.<locals>.wrapped\u001b[39m\u001b[34m(self, X, *args, **kwargs)\u001b[39m\n\u001b[32m    317\u001b[39m \u001b[38;5;129m@wraps\u001b[39m(f)\n\u001b[32m    318\u001b[39m \u001b[38;5;28;01mdef\u001b[39;00m\u001b[38;5;250m \u001b[39m\u001b[34mwrapped\u001b[39m(\u001b[38;5;28mself\u001b[39m, X, *args, **kwargs):\n\u001b[32m--> \u001b[39m\u001b[32m319\u001b[39m     data_to_wrap = \u001b[43mf\u001b[49m\u001b[43m(\u001b[49m\u001b[38;5;28;43mself\u001b[39;49m\u001b[43m,\u001b[49m\u001b[43m \u001b[49m\u001b[43mX\u001b[49m\u001b[43m,\u001b[49m\u001b[43m \u001b[49m\u001b[43m*\u001b[49m\u001b[43margs\u001b[49m\u001b[43m,\u001b[49m\u001b[43m \u001b[49m\u001b[43m*\u001b[49m\u001b[43m*\u001b[49m\u001b[43mkwargs\u001b[49m\u001b[43m)\u001b[49m\n\u001b[32m    320\u001b[39m     \u001b[38;5;28;01mif\u001b[39;00m \u001b[38;5;28misinstance\u001b[39m(data_to_wrap, \u001b[38;5;28mtuple\u001b[39m):\n\u001b[32m    321\u001b[39m         \u001b[38;5;66;03m# only wrap the first output for cross decomposition\u001b[39;00m\n\u001b[32m    322\u001b[39m         return_tuple = (\n\u001b[32m    323\u001b[39m             _wrap_data_with_container(method, data_to_wrap[\u001b[32m0\u001b[39m], X, \u001b[38;5;28mself\u001b[39m),\n\u001b[32m    324\u001b[39m             *data_to_wrap[\u001b[32m1\u001b[39m:],\n\u001b[32m    325\u001b[39m         )\n",
            "\u001b[36mFile \u001b[39m\u001b[32mc:\\Users\\d0ubt\\Documents\\git\\Practica2_introIA\\.venv\\Lib\\site-packages\\sklearn\\base.py:918\u001b[39m, in \u001b[36mTransformerMixin.fit_transform\u001b[39m\u001b[34m(self, X, y, **fit_params)\u001b[39m\n\u001b[32m    903\u001b[39m         warnings.warn(\n\u001b[32m    904\u001b[39m             (\n\u001b[32m    905\u001b[39m                 \u001b[33mf\u001b[39m\u001b[33m\"\u001b[39m\u001b[33mThis object (\u001b[39m\u001b[38;5;132;01m{\u001b[39;00m\u001b[38;5;28mself\u001b[39m.\u001b[34m__class__\u001b[39m.\u001b[34m__name__\u001b[39m\u001b[38;5;132;01m}\u001b[39;00m\u001b[33m) has a `transform`\u001b[39m\u001b[33m\"\u001b[39m\n\u001b[32m   (...)\u001b[39m\u001b[32m    913\u001b[39m             \u001b[38;5;167;01mUserWarning\u001b[39;00m,\n\u001b[32m    914\u001b[39m         )\n\u001b[32m    916\u001b[39m \u001b[38;5;28;01mif\u001b[39;00m y \u001b[38;5;129;01mis\u001b[39;00m \u001b[38;5;28;01mNone\u001b[39;00m:\n\u001b[32m    917\u001b[39m     \u001b[38;5;66;03m# fit method of arity 1 (unsupervised transformation)\u001b[39;00m\n\u001b[32m--> \u001b[39m\u001b[32m918\u001b[39m     \u001b[38;5;28;01mreturn\u001b[39;00m \u001b[38;5;28;43mself\u001b[39;49m\u001b[43m.\u001b[49m\u001b[43mfit\u001b[49m\u001b[43m(\u001b[49m\u001b[43mX\u001b[49m\u001b[43m,\u001b[49m\u001b[43m \u001b[49m\u001b[43m*\u001b[49m\u001b[43m*\u001b[49m\u001b[43mfit_params\u001b[49m\u001b[43m)\u001b[49m\u001b[43m.\u001b[49m\u001b[43mtransform\u001b[49m\u001b[43m(\u001b[49m\u001b[43mX\u001b[49m\u001b[43m)\u001b[49m\n\u001b[32m    919\u001b[39m \u001b[38;5;28;01melse\u001b[39;00m:\n\u001b[32m    920\u001b[39m     \u001b[38;5;66;03m# fit method of arity 2 (supervised transformation)\u001b[39;00m\n\u001b[32m    921\u001b[39m     \u001b[38;5;28;01mreturn\u001b[39;00m \u001b[38;5;28mself\u001b[39m.fit(X, y, **fit_params).transform(X)\n",
            "\u001b[36mFile \u001b[39m\u001b[32mc:\\Users\\d0ubt\\Documents\\git\\Practica2_introIA\\.venv\\Lib\\site-packages\\sklearn\\utils\\_set_output.py:319\u001b[39m, in \u001b[36m_wrap_method_output.<locals>.wrapped\u001b[39m\u001b[34m(self, X, *args, **kwargs)\u001b[39m\n\u001b[32m    317\u001b[39m \u001b[38;5;129m@wraps\u001b[39m(f)\n\u001b[32m    318\u001b[39m \u001b[38;5;28;01mdef\u001b[39;00m\u001b[38;5;250m \u001b[39m\u001b[34mwrapped\u001b[39m(\u001b[38;5;28mself\u001b[39m, X, *args, **kwargs):\n\u001b[32m--> \u001b[39m\u001b[32m319\u001b[39m     data_to_wrap = \u001b[43mf\u001b[49m\u001b[43m(\u001b[49m\u001b[38;5;28;43mself\u001b[39;49m\u001b[43m,\u001b[49m\u001b[43m \u001b[49m\u001b[43mX\u001b[49m\u001b[43m,\u001b[49m\u001b[43m \u001b[49m\u001b[43m*\u001b[49m\u001b[43margs\u001b[49m\u001b[43m,\u001b[49m\u001b[43m \u001b[49m\u001b[43m*\u001b[49m\u001b[43m*\u001b[49m\u001b[43mkwargs\u001b[49m\u001b[43m)\u001b[49m\n\u001b[32m    320\u001b[39m     \u001b[38;5;28;01mif\u001b[39;00m \u001b[38;5;28misinstance\u001b[39m(data_to_wrap, \u001b[38;5;28mtuple\u001b[39m):\n\u001b[32m    321\u001b[39m         \u001b[38;5;66;03m# only wrap the first output for cross decomposition\u001b[39;00m\n\u001b[32m    322\u001b[39m         return_tuple = (\n\u001b[32m    323\u001b[39m             _wrap_data_with_container(method, data_to_wrap[\u001b[32m0\u001b[39m], X, \u001b[38;5;28mself\u001b[39m),\n\u001b[32m    324\u001b[39m             *data_to_wrap[\u001b[32m1\u001b[39m:],\n\u001b[32m    325\u001b[39m         )\n",
            "\u001b[36mCell\u001b[39m\u001b[36m \u001b[39m\u001b[32mIn[63]\u001b[39m\u001b[32m, line 24\u001b[39m, in \u001b[36mOutliersHandler.transform\u001b[39m\u001b[34m(self, X)\u001b[39m\n\u001b[32m     21\u001b[39m \u001b[38;5;28;01mdef\u001b[39;00m\u001b[38;5;250m \u001b[39m\u001b[34mtransform\u001b[39m(\u001b[38;5;28mself\u001b[39m, X):\n\u001b[32m     22\u001b[39m     \u001b[38;5;66;03m# Your transformation logic goes here\u001b[39;00m\n\u001b[32m     23\u001b[39m     X_transformed = X.copy()  \u001b[38;5;66;03m# Copy the input DataFrame to avoid modifying the original\u001b[39;00m\n\u001b[32m---> \u001b[39m\u001b[32m24\u001b[39m     X_transformed = \u001b[38;5;28;43mself\u001b[39;49m\u001b[43m.\u001b[49m\u001b[43m_make_outliers\u001b[49m\u001b[43m(\u001b[49m\u001b[43mX_transformed\u001b[49m\u001b[43m)\u001b[49m \u001b[38;5;28;01mif\u001b[39;00m \u001b[38;5;28mself\u001b[39m.make_outliers \u001b[38;5;28;01melse\u001b[39;00m \u001b[38;5;28mself\u001b[39m._delete_outliers(X_transformed)\n\u001b[32m     26\u001b[39m     \u001b[38;5;28;01mreturn\u001b[39;00m X_transformed\n",
            "\u001b[36mCell\u001b[39m\u001b[36m \u001b[39m\u001b[32mIn[63]\u001b[39m\u001b[32m, line 77\u001b[39m, in \u001b[36mOutliersHandler._make_outliers\u001b[39m\u001b[34m(self, df, random_state)\u001b[39m\n\u001b[32m     75\u001b[39m \u001b[38;5;66;03m# Si hay menos outliers que el 5%, generamos más\u001b[39;00m\n\u001b[32m     76\u001b[39m needed = target_outliers - n_outliers\n\u001b[32m---> \u001b[39m\u001b[32m77\u001b[39m synth = \u001b[43moutliers\u001b[49m\u001b[43m.\u001b[49m\u001b[43msample\u001b[49m\u001b[43m(\u001b[49m\u001b[43mn\u001b[49m\u001b[43m=\u001b[49m\u001b[43mneeded\u001b[49m\u001b[43m,\u001b[49m\u001b[43m \u001b[49m\u001b[43mreplace\u001b[49m\u001b[43m=\u001b[49m\u001b[38;5;28;43;01mTrue\u001b[39;49;00m\u001b[43m,\u001b[49m\u001b[43m \u001b[49m\u001b[43mrandom_state\u001b[49m\u001b[43m=\u001b[49m\u001b[43mrandom_state\u001b[49m\u001b[43m)\u001b[49m\n\u001b[32m     78\u001b[39m \u001b[38;5;66;03m# Clonamos los outliers existentes pero les añadimos  ruido\u001b[39;00m\n\u001b[32m     79\u001b[39m \u001b[38;5;28;01mfor\u001b[39;00m col \u001b[38;5;129;01min\u001b[39;00m float_cols:\n",
            "\u001b[36mFile \u001b[39m\u001b[32mc:\\Users\\d0ubt\\Documents\\git\\Practica2_introIA\\.venv\\Lib\\site-packages\\pandas\\core\\generic.py:6129\u001b[39m, in \u001b[36mNDFrame.sample\u001b[39m\u001b[34m(self, n, frac, replace, weights, random_state, axis, ignore_index)\u001b[39m\n\u001b[32m   6126\u001b[39m \u001b[38;5;66;03m# Process random_state argument\u001b[39;00m\n\u001b[32m   6127\u001b[39m rs = common.random_state(random_state)\n\u001b[32m-> \u001b[39m\u001b[32m6129\u001b[39m size = \u001b[43msample\u001b[49m\u001b[43m.\u001b[49m\u001b[43mprocess_sampling_size\u001b[49m\u001b[43m(\u001b[49m\u001b[43mn\u001b[49m\u001b[43m,\u001b[49m\u001b[43m \u001b[49m\u001b[43mfrac\u001b[49m\u001b[43m,\u001b[49m\u001b[43m \u001b[49m\u001b[43mreplace\u001b[49m\u001b[43m)\u001b[49m\n\u001b[32m   6130\u001b[39m \u001b[38;5;28;01mif\u001b[39;00m size \u001b[38;5;129;01mis\u001b[39;00m \u001b[38;5;28;01mNone\u001b[39;00m:\n\u001b[32m   6131\u001b[39m     \u001b[38;5;28;01massert\u001b[39;00m frac \u001b[38;5;129;01mis\u001b[39;00m \u001b[38;5;129;01mnot\u001b[39;00m \u001b[38;5;28;01mNone\u001b[39;00m\n",
            "\u001b[36mFile \u001b[39m\u001b[32mc:\\Users\\d0ubt\\Documents\\git\\Practica2_introIA\\.venv\\Lib\\site-packages\\pandas\\core\\sample.py:97\u001b[39m, in \u001b[36mprocess_sampling_size\u001b[39m\u001b[34m(n, frac, replace)\u001b[39m\n\u001b[32m     95\u001b[39m \u001b[38;5;28;01melif\u001b[39;00m n \u001b[38;5;129;01mis\u001b[39;00m \u001b[38;5;129;01mnot\u001b[39;00m \u001b[38;5;28;01mNone\u001b[39;00m:\n\u001b[32m     96\u001b[39m     \u001b[38;5;28;01mif\u001b[39;00m n < \u001b[32m0\u001b[39m:\n\u001b[32m---> \u001b[39m\u001b[32m97\u001b[39m         \u001b[38;5;28;01mraise\u001b[39;00m \u001b[38;5;167;01mValueError\u001b[39;00m(\n\u001b[32m     98\u001b[39m             \u001b[33m\"\u001b[39m\u001b[33mA negative number of rows requested. Please provide `n` >= 0.\u001b[39m\u001b[33m\"\u001b[39m\n\u001b[32m     99\u001b[39m         )\n\u001b[32m    100\u001b[39m     \u001b[38;5;28;01mif\u001b[39;00m n % \u001b[32m1\u001b[39m != \u001b[32m0\u001b[39m:\n\u001b[32m    101\u001b[39m         \u001b[38;5;28;01mraise\u001b[39;00m \u001b[38;5;167;01mValueError\u001b[39;00m(\u001b[33m\"\u001b[39m\u001b[33mOnly integers accepted as `n` values\u001b[39m\u001b[33m\"\u001b[39m)\n",
            "\u001b[31mValueError\u001b[39m: A negative number of rows requested. Please provide `n` >= 0."
          ]
        }
      ],
      "source": [
        "from sklearn.cluster import DBSCAN\n",
        "from sklearn.metrics import silhouette_score\n",
        "import numpy as np\n",
        "\n",
        "results = {}\n",
        "\n",
        "for make_outliers in [True, False]:\n",
        "    for balance in [True, False]:\n",
        "        for scale in [True, False]:\n",
        "            \n",
        "            # Preprocesamiento de datos\n",
        "            X, y, _ = pipeline_maker(df, 'dbscan', make_outliers=make_outliers, balance=balance, scale=scale)\n",
        "            X = pd.get_dummies(X)\n",
        "            \n",
        "            # División train-test (usamos solo X_train para clustering)\n",
        "            X_train, X_test, y_train, y_test = train_test_split(\n",
        "                X, y, test_size=0.2, stratify=y, random_state=42)\n",
        "            \n",
        "            # Escalado manual si es necesario\n",
        "            if scale:\n",
        "                scaler = StandardScaler()\n",
        "                X_train = scaler.fit_transform(X_train)\n",
        "                X_test = scaler.transform(X_test)\n",
        "            \n",
        "            # Definir rangos de parámetros para DBSCAN\n",
        "            eps_values = [0.1, 0.5, 1.0, 1.5, 2.0] if scale else [1, 5, 10, 50, 100]\n",
        "            min_samples_values = [5, 10, 15]\n",
        "            \n",
        "            best_silhouette = -1  # Valor inicial (Silhouette Score varía en [-1, 1])\n",
        "            best_eps = None\n",
        "            best_min_samples = None\n",
        "            best_n_clusters = None\n",
        "            \n",
        "            # Probar combinaciones de parámetros para DBSCAN\n",
        "            for eps in eps_values:\n",
        "                for min_samples in min_samples_values:\n",
        "                    db = DBSCAN(eps=eps, min_samples=min_samples)\n",
        "                    labels = db.fit_predict(X_train)\n",
        "                    \n",
        "                    # Identificar clusters válidos (excluyendo ruido: etiqueta -1)\n",
        "                    unique_labels = set(labels)\n",
        "                    n_clusters = len(unique_labels) - (1 if -1 in unique_labels else 0)\n",
        "                    \n",
        "                    # Requerimos al menos 2 clusters para calcular Silhouette\n",
        "                    if n_clusters < 2:\n",
        "                        continue\n",
        "                    \n",
        "                    # Filtrar puntos no ruidosos\n",
        "                    mask = labels != -1\n",
        "                    labels_non_noise = labels[mask]\n",
        "                    \n",
        "                    # Verificar clusters válidos en puntos no ruidosos\n",
        "                    if len(set(labels_non_noise)) < 2:\n",
        "                        continue\n",
        "                    \n",
        "                    # Calcular Silhouette Score solo en puntos no ruidosos\n",
        "                    try:\n",
        "                        silhouette = silhouette_score(X_train[mask], labels_non_noise)\n",
        "                    except:\n",
        "                        continue\n",
        "                    \n",
        "                    # Actualizar mejor combinación si se mejora el score\n",
        "                    if silhouette > best_silhouette:\n",
        "                        best_silhouette = silhouette\n",
        "                        best_eps = eps\n",
        "                        best_min_samples = min_samples\n",
        "                        best_n_clusters = n_clusters\n",
        "            \n",
        "            # Guardar resultados\n",
        "            key = f\"outliers_{make_outliers}_balance_{balance}_scale_{scale}\"\n",
        "            results[key] = {\n",
        "                \"best_eps\": best_eps,\n",
        "                \"best_min_samples\": best_min_samples,\n",
        "                \"n_clusters\": best_n_clusters,\n",
        "                \"silhouette_score\": best_silhouette\n",
        "            }\n",
        "\n",
        "# Mostrar resultados\n",
        "for config, params in results.items():\n",
        "    print(f\"\\nConfiguración: {config}\")\n",
        "    print(f\"Mejor eps: {params['best_eps']}\")\n",
        "    print(f\"Mejor min_samples: {params['best_min_samples']}\")\n",
        "    print(f\"Número de clusters: {params['n_clusters']}\")\n",
        "    print(f\"Silhouette Score: {params['silhouette_score']:.3f}\")"
      ]
    },
    {
      "cell_type": "code",
      "execution_count": null,
      "id": "ce3202be",
      "metadata": {},
      "outputs": [],
      "source": [
        "from sklearn.cluster import DBSCAN\n",
        "from sklearn.metrics import silhouette_score\n",
        "import numpy as np\n",
        "\n",
        "results = {}\n",
        "\n",
        "for make_outliers in [True, False]:\n",
        "    for balance in [True, False]:\n",
        "        for scale in [True, False]:\n",
        "            \n",
        "            # Preprocesamiento de datos\n",
        "            X, y, _ = pipeline_maker(df, model='kmeans', make_outliers=make_outliers, balance=balance, scale=scale)\n",
        "            X = pd.get_dummies(X)\n",
        "            \n",
        "            # División train-test (usamos solo X_train para clustering)\n",
        "            X_train, X_test, y_train, y_test = train_test_split(\n",
        "                X, y, test_size=0.2, stratify=y, random_state=42)\n",
        "            \n",
        "            # Escalado manual si es necesario\n",
        "            if scale:\n",
        "                scaler = StandardScaler()\n",
        "                X_train = scaler.fit_transform(X_train)\n",
        "                X_test = scaler.transform(X_test)\n",
        "            \n",
        "            # Definir rangos de parámetros para DBSCAN\n",
        "            eps_values = [0.1, 0.5, 1.0, 1.5, 2.0] if scale else [1, 5, 10, 50, 100]\n",
        "            min_samples_values = [5, 10, 15]\n",
        "            \n",
        "            best_silhouette = -1  # Valor inicial (Silhouette Score varía en [-1, 1])\n",
        "            best_eps = None\n",
        "            best_min_samples = None\n",
        "            best_n_clusters = None\n",
        "            \n",
        "            # Probar combinaciones de parámetros para DBSCAN\n",
        "            for eps in eps_values:\n",
        "                for min_samples in min_samples_values:\n",
        "                    db = DBSCAN(eps=eps, min_samples=min_samples)\n",
        "                    labels = db.fit_predict(X_train)\n",
        "                    \n",
        "                    # Identificar clusters válidos (excluyendo ruido: etiqueta -1)\n",
        "                    unique_labels = set(labels)\n",
        "                    n_clusters = len(unique_labels) - (1 if -1 in unique_labels else 0)\n",
        "                    \n",
        "                    # Requerimos al menos 2 clusters para calcular Silhouette\n",
        "                    if n_clusters < 2:\n",
        "                        continue\n",
        "                    \n",
        "                    # Filtrar puntos no ruidosos\n",
        "                    mask = labels != -1\n",
        "                    labels_non_noise = labels[mask]\n",
        "                    \n",
        "                    # Verificar clusters válidos en puntos no ruidosos\n",
        "                    if len(set(labels_non_noise)) < 2:\n",
        "                        continue\n",
        "                    \n",
        "                    # Calcular Silhouette Score solo en puntos no ruidosos\n",
        "                    try:\n",
        "                        silhouette = silhouette_score(X_train[mask], labels_non_noise)\n",
        "                    except:\n",
        "                        continue\n",
        "                    \n",
        "                    # Actualizar mejor combinación si se mejora el score\n",
        "                    if silhouette > best_silhouette:\n",
        "                        best_silhouette = silhouette\n",
        "                        best_eps = eps\n",
        "                        best_min_samples = min_samples\n",
        "                        best_n_clusters = n_clusters\n",
        "            \n",
        "            # Guardar resultados\n",
        "            key = f\"outliers_{make_outliers}_balance_{balance}_scale_{scale}\"\n",
        "            results[key] = {\n",
        "                \"best_eps\": best_eps,\n",
        "                \"best_min_samples\": best_min_samples,\n",
        "                \"n_clusters\": best_n_clusters,\n",
        "                \"silhouette_score\": best_silhouette\n",
        "            }"
      ]
    }
  ],
  "metadata": {
    "colab": {
      "provenance": [],
      "toc_visible": true
    },
    "kernelspec": {
      "display_name": ".venv",
      "language": "python",
      "name": "python3"
    },
    "language_info": {
      "codemirror_mode": {
        "name": "ipython",
        "version": 3
      },
      "file_extension": ".py",
      "mimetype": "text/x-python",
      "name": "python",
      "nbconvert_exporter": "python",
      "pygments_lexer": "ipython3",
      "version": "3.13.1"
    },
    "widgets": {
      "application/vnd.jupyter.widget-state+json": {
        "03338a96815f4aa0960ccf41f7eb2373": {
          "model_module": "@jupyter-widgets/base",
          "model_module_version": "1.2.0",
          "model_name": "LayoutModel",
          "state": {
            "_model_module": "@jupyter-widgets/base",
            "_model_module_version": "1.2.0",
            "_model_name": "LayoutModel",
            "_view_count": null,
            "_view_module": "@jupyter-widgets/base",
            "_view_module_version": "1.2.0",
            "_view_name": "LayoutView",
            "align_content": null,
            "align_items": null,
            "align_self": null,
            "border": null,
            "bottom": null,
            "display": null,
            "flex": null,
            "flex_flow": null,
            "grid_area": null,
            "grid_auto_columns": null,
            "grid_auto_flow": null,
            "grid_auto_rows": null,
            "grid_column": null,
            "grid_gap": null,
            "grid_row": null,
            "grid_template_areas": null,
            "grid_template_columns": null,
            "grid_template_rows": null,
            "height": null,
            "justify_content": null,
            "justify_items": null,
            "left": null,
            "margin": null,
            "max_height": null,
            "max_width": null,
            "min_height": null,
            "min_width": null,
            "object_fit": null,
            "object_position": null,
            "order": null,
            "overflow": null,
            "overflow_x": null,
            "overflow_y": null,
            "padding": null,
            "right": null,
            "top": null,
            "visibility": null,
            "width": null
          }
        },
        "0deb86981ed14cd986005d707d947c68": {
          "model_module": "@jupyter-widgets/base",
          "model_module_version": "1.2.0",
          "model_name": "LayoutModel",
          "state": {
            "_model_module": "@jupyter-widgets/base",
            "_model_module_version": "1.2.0",
            "_model_name": "LayoutModel",
            "_view_count": null,
            "_view_module": "@jupyter-widgets/base",
            "_view_module_version": "1.2.0",
            "_view_name": "LayoutView",
            "align_content": null,
            "align_items": null,
            "align_self": null,
            "border": null,
            "bottom": null,
            "display": null,
            "flex": null,
            "flex_flow": null,
            "grid_area": null,
            "grid_auto_columns": null,
            "grid_auto_flow": null,
            "grid_auto_rows": null,
            "grid_column": null,
            "grid_gap": null,
            "grid_row": null,
            "grid_template_areas": null,
            "grid_template_columns": null,
            "grid_template_rows": null,
            "height": null,
            "justify_content": null,
            "justify_items": null,
            "left": null,
            "margin": null,
            "max_height": null,
            "max_width": null,
            "min_height": null,
            "min_width": null,
            "object_fit": null,
            "object_position": null,
            "order": null,
            "overflow": null,
            "overflow_x": null,
            "overflow_y": null,
            "padding": null,
            "right": null,
            "top": null,
            "visibility": null,
            "width": "20px"
          }
        },
        "1303777e696841ae887c38037b415fde": {
          "model_module": "@jupyter-widgets/controls",
          "model_module_version": "1.5.0",
          "model_name": "ProgressStyleModel",
          "state": {
            "_model_module": "@jupyter-widgets/controls",
            "_model_module_version": "1.5.0",
            "_model_name": "ProgressStyleModel",
            "_view_count": null,
            "_view_module": "@jupyter-widgets/base",
            "_view_module_version": "1.2.0",
            "_view_name": "StyleView",
            "bar_color": null,
            "description_width": ""
          }
        },
        "1e588fc076ad4de5861459b1de1279a4": {
          "model_module": "@jupyter-widgets/controls",
          "model_module_version": "1.5.0",
          "model_name": "DescriptionStyleModel",
          "state": {
            "_model_module": "@jupyter-widgets/controls",
            "_model_module_version": "1.5.0",
            "_model_name": "DescriptionStyleModel",
            "_view_count": null,
            "_view_module": "@jupyter-widgets/base",
            "_view_module_version": "1.2.0",
            "_view_name": "StyleView",
            "description_width": ""
          }
        },
        "3446311eab5841c19b9f2f4010e622e5": {
          "model_module": "@jupyter-widgets/base",
          "model_module_version": "1.2.0",
          "model_name": "LayoutModel",
          "state": {
            "_model_module": "@jupyter-widgets/base",
            "_model_module_version": "1.2.0",
            "_model_name": "LayoutModel",
            "_view_count": null,
            "_view_module": "@jupyter-widgets/base",
            "_view_module_version": "1.2.0",
            "_view_name": "LayoutView",
            "align_content": null,
            "align_items": null,
            "align_self": null,
            "border": null,
            "bottom": null,
            "display": null,
            "flex": null,
            "flex_flow": null,
            "grid_area": null,
            "grid_auto_columns": null,
            "grid_auto_flow": null,
            "grid_auto_rows": null,
            "grid_column": null,
            "grid_gap": null,
            "grid_row": null,
            "grid_template_areas": null,
            "grid_template_columns": null,
            "grid_template_rows": null,
            "height": null,
            "justify_content": null,
            "justify_items": null,
            "left": null,
            "margin": null,
            "max_height": null,
            "max_width": null,
            "min_height": null,
            "min_width": null,
            "object_fit": null,
            "object_position": null,
            "order": null,
            "overflow": null,
            "overflow_x": null,
            "overflow_y": null,
            "padding": null,
            "right": null,
            "top": null,
            "visibility": null,
            "width": null
          }
        },
        "5cbd362918be43a88f7f968576abb24a": {
          "model_module": "@jupyter-widgets/controls",
          "model_module_version": "1.5.0",
          "model_name": "HBoxModel",
          "state": {
            "_dom_classes": [],
            "_model_module": "@jupyter-widgets/controls",
            "_model_module_version": "1.5.0",
            "_model_name": "HBoxModel",
            "_view_count": null,
            "_view_module": "@jupyter-widgets/controls",
            "_view_module_version": "1.5.0",
            "_view_name": "HBoxView",
            "box_style": "",
            "children": [
              "IPY_MODEL_f859d2adc0db42e0904ad015d9c02ffe",
              "IPY_MODEL_f59ffa2a815148ea9b3a1a0cb684d973",
              "IPY_MODEL_6760fe8061994a8181057275bf92e06a"
            ],
            "layout": "IPY_MODEL_fd45d5e3556e41bda581a2a7352cb902"
          }
        },
        "6760fe8061994a8181057275bf92e06a": {
          "model_module": "@jupyter-widgets/controls",
          "model_module_version": "1.5.0",
          "model_name": "HTMLModel",
          "state": {
            "_dom_classes": [],
            "_model_module": "@jupyter-widgets/controls",
            "_model_module_version": "1.5.0",
            "_model_name": "HTMLModel",
            "_view_count": null,
            "_view_module": "@jupyter-widgets/controls",
            "_view_module_version": "1.5.0",
            "_view_name": "HTMLView",
            "description": "",
            "description_tooltip": null,
            "layout": "IPY_MODEL_03338a96815f4aa0960ccf41f7eb2373",
            "placeholder": "​",
            "style": "IPY_MODEL_b021737875b64843bde3bf445bf0e3aa",
            "value": " 1/? [08:06&lt;00:00, 486.82s/it]"
          }
        },
        "b021737875b64843bde3bf445bf0e3aa": {
          "model_module": "@jupyter-widgets/controls",
          "model_module_version": "1.5.0",
          "model_name": "DescriptionStyleModel",
          "state": {
            "_model_module": "@jupyter-widgets/controls",
            "_model_module_version": "1.5.0",
            "_model_name": "DescriptionStyleModel",
            "_view_count": null,
            "_view_module": "@jupyter-widgets/base",
            "_view_module_version": "1.2.0",
            "_view_name": "StyleView",
            "description_width": ""
          }
        },
        "f59ffa2a815148ea9b3a1a0cb684d973": {
          "model_module": "@jupyter-widgets/controls",
          "model_module_version": "1.5.0",
          "model_name": "FloatProgressModel",
          "state": {
            "_dom_classes": [],
            "_model_module": "@jupyter-widgets/controls",
            "_model_module_version": "1.5.0",
            "_model_name": "FloatProgressModel",
            "_view_count": null,
            "_view_module": "@jupyter-widgets/controls",
            "_view_module_version": "1.5.0",
            "_view_name": "ProgressView",
            "bar_style": "info",
            "description": "",
            "description_tooltip": null,
            "layout": "IPY_MODEL_0deb86981ed14cd986005d707d947c68",
            "max": 1,
            "min": 0,
            "orientation": "horizontal",
            "style": "IPY_MODEL_1303777e696841ae887c38037b415fde",
            "value": 1
          }
        },
        "f859d2adc0db42e0904ad015d9c02ffe": {
          "model_module": "@jupyter-widgets/controls",
          "model_module_version": "1.5.0",
          "model_name": "HTMLModel",
          "state": {
            "_dom_classes": [],
            "_model_module": "@jupyter-widgets/controls",
            "_model_module_version": "1.5.0",
            "_model_name": "HTMLModel",
            "_view_count": null,
            "_view_module": "@jupyter-widgets/controls",
            "_view_module_version": "1.5.0",
            "_view_name": "HTMLView",
            "description": "",
            "description_tooltip": null,
            "layout": "IPY_MODEL_3446311eab5841c19b9f2f4010e622e5",
            "placeholder": "​",
            "style": "IPY_MODEL_1e588fc076ad4de5861459b1de1279a4",
            "value": ""
          }
        },
        "fd45d5e3556e41bda581a2a7352cb902": {
          "model_module": "@jupyter-widgets/base",
          "model_module_version": "1.2.0",
          "model_name": "LayoutModel",
          "state": {
            "_model_module": "@jupyter-widgets/base",
            "_model_module_version": "1.2.0",
            "_model_name": "LayoutModel",
            "_view_count": null,
            "_view_module": "@jupyter-widgets/base",
            "_view_module_version": "1.2.0",
            "_view_name": "LayoutView",
            "align_content": null,
            "align_items": null,
            "align_self": null,
            "border": null,
            "bottom": null,
            "display": null,
            "flex": null,
            "flex_flow": null,
            "grid_area": null,
            "grid_auto_columns": null,
            "grid_auto_flow": null,
            "grid_auto_rows": null,
            "grid_column": null,
            "grid_gap": null,
            "grid_row": null,
            "grid_template_areas": null,
            "grid_template_columns": null,
            "grid_template_rows": null,
            "height": null,
            "justify_content": null,
            "justify_items": null,
            "left": null,
            "margin": null,
            "max_height": null,
            "max_width": null,
            "min_height": null,
            "min_width": null,
            "object_fit": null,
            "object_position": null,
            "order": null,
            "overflow": null,
            "overflow_x": null,
            "overflow_y": null,
            "padding": null,
            "right": null,
            "top": null,
            "visibility": null,
            "width": null
          }
        }
      }
    }
  },
  "nbformat": 4,
  "nbformat_minor": 5
}
